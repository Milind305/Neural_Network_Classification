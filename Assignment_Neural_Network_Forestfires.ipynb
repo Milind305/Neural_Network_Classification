{
  "nbformat": 4,
  "nbformat_minor": 0,
  "metadata": {
    "colab": {
      "name": "Assignment_Neural_Network_Forestfires.ipynb",
      "provenance": [],
      "collapsed_sections": [],
      "mount_file_id": "1Kdbqrs8Tols0peVHnmqPTQr2FzYY62kj",
      "authorship_tag": "ABX9TyP0rKaTjEgGHz2A4rVIj7/E",
      "include_colab_link": true
    },
    "kernelspec": {
      "name": "python3",
      "display_name": "Python 3"
    },
    "language_info": {
      "name": "python"
    }
  },
  "cells": [
    {
      "cell_type": "markdown",
      "metadata": {
        "id": "view-in-github",
        "colab_type": "text"
      },
      "source": [
        "<a href=\"https://colab.research.google.com/github/Milind305/Neural_Network_Classification/blob/main/Assignment_Neural_Network_Forestfires.ipynb\" target=\"_parent\"><img src=\"https://colab.research.google.com/assets/colab-badge.svg\" alt=\"Open In Colab\"/></a>"
      ]
    },
    {
      "cell_type": "code",
      "metadata": {
        "id": "tDxhnI-TBZKU"
      },
      "source": [
        "# Importing necessary libraries\n",
        "import tensorflow as tf\n",
        "\n",
        "import pandas as pd\n",
        "import numpy as np\n",
        "import seaborn as sns\n",
        "import matplotlib.pyplot as plt\n",
        "\n",
        "from sklearn.preprocessing import MinMaxScaler\n",
        "from sklearn.model_selection import GridSearchCV, KFold, cross_val_score\n",
        "from sklearn.metrics import confusion_matrix, accuracy_score\n",
        "\n",
        "import keras\n",
        "from keras.models import Sequential\n",
        "from keras.layers import  Dense, Dropout,Activation, Flatten\n",
        "from keras.wrappers.scikit_learn import KerasClassifier\n",
        "from keras.optimizers import Adam, SGD, Adagrad, Adadelta, Adamax\n"
      ],
      "execution_count": 1,
      "outputs": []
    },
    {
      "cell_type": "code",
      "metadata": {
        "id": "ptgmqBm4FU20"
      },
      "source": [
        "# loading dataset\n",
        "Forestfires= pd.read_csv('/content/drive/MyDrive/Colab Notebooks/ExcelR (1)/Assignments/Neural net/forestfires.csv')"
      ],
      "execution_count": 11,
      "outputs": []
    },
    {
      "cell_type": "code",
      "metadata": {
        "id": "ag5C2G7kFpuP"
      },
      "source": [
        "# copy the data \n",
        "df= Forestfires.copy()"
      ],
      "execution_count": 12,
      "outputs": []
    },
    {
      "cell_type": "code",
      "metadata": {
        "colab": {
          "base_uri": "https://localhost:8080/",
          "height": 217
        },
        "id": "hMgFP-ahFw8f",
        "outputId": "aabdb50e-b430-4cbc-a95a-2a7061acacc5"
      },
      "source": [
        "# Exploring the data\n",
        "# Head of the data\n",
        "df.head()"
      ],
      "execution_count": 13,
      "outputs": [
        {
          "output_type": "execute_result",
          "data": {
            "text/html": [
              "<div>\n",
              "<style scoped>\n",
              "    .dataframe tbody tr th:only-of-type {\n",
              "        vertical-align: middle;\n",
              "    }\n",
              "\n",
              "    .dataframe tbody tr th {\n",
              "        vertical-align: top;\n",
              "    }\n",
              "\n",
              "    .dataframe thead th {\n",
              "        text-align: right;\n",
              "    }\n",
              "</style>\n",
              "<table border=\"1\" class=\"dataframe\">\n",
              "  <thead>\n",
              "    <tr style=\"text-align: right;\">\n",
              "      <th></th>\n",
              "      <th>month</th>\n",
              "      <th>day</th>\n",
              "      <th>FFMC</th>\n",
              "      <th>DMC</th>\n",
              "      <th>DC</th>\n",
              "      <th>ISI</th>\n",
              "      <th>temp</th>\n",
              "      <th>RH</th>\n",
              "      <th>wind</th>\n",
              "      <th>rain</th>\n",
              "      <th>area</th>\n",
              "      <th>dayfri</th>\n",
              "      <th>daymon</th>\n",
              "      <th>daysat</th>\n",
              "      <th>daysun</th>\n",
              "      <th>daythu</th>\n",
              "      <th>daytue</th>\n",
              "      <th>daywed</th>\n",
              "      <th>monthapr</th>\n",
              "      <th>monthaug</th>\n",
              "      <th>monthdec</th>\n",
              "      <th>monthfeb</th>\n",
              "      <th>monthjan</th>\n",
              "      <th>monthjul</th>\n",
              "      <th>monthjun</th>\n",
              "      <th>monthmar</th>\n",
              "      <th>monthmay</th>\n",
              "      <th>monthnov</th>\n",
              "      <th>monthoct</th>\n",
              "      <th>monthsep</th>\n",
              "      <th>size_category</th>\n",
              "    </tr>\n",
              "  </thead>\n",
              "  <tbody>\n",
              "    <tr>\n",
              "      <th>0</th>\n",
              "      <td>mar</td>\n",
              "      <td>fri</td>\n",
              "      <td>86.2</td>\n",
              "      <td>26.2</td>\n",
              "      <td>94.3</td>\n",
              "      <td>5.1</td>\n",
              "      <td>8.2</td>\n",
              "      <td>51</td>\n",
              "      <td>6.7</td>\n",
              "      <td>0.0</td>\n",
              "      <td>0.0</td>\n",
              "      <td>1</td>\n",
              "      <td>0</td>\n",
              "      <td>0</td>\n",
              "      <td>0</td>\n",
              "      <td>0</td>\n",
              "      <td>0</td>\n",
              "      <td>0</td>\n",
              "      <td>0</td>\n",
              "      <td>0</td>\n",
              "      <td>0</td>\n",
              "      <td>0</td>\n",
              "      <td>0</td>\n",
              "      <td>0</td>\n",
              "      <td>0</td>\n",
              "      <td>1</td>\n",
              "      <td>0</td>\n",
              "      <td>0</td>\n",
              "      <td>0</td>\n",
              "      <td>0</td>\n",
              "      <td>small</td>\n",
              "    </tr>\n",
              "    <tr>\n",
              "      <th>1</th>\n",
              "      <td>oct</td>\n",
              "      <td>tue</td>\n",
              "      <td>90.6</td>\n",
              "      <td>35.4</td>\n",
              "      <td>669.1</td>\n",
              "      <td>6.7</td>\n",
              "      <td>18.0</td>\n",
              "      <td>33</td>\n",
              "      <td>0.9</td>\n",
              "      <td>0.0</td>\n",
              "      <td>0.0</td>\n",
              "      <td>0</td>\n",
              "      <td>0</td>\n",
              "      <td>0</td>\n",
              "      <td>0</td>\n",
              "      <td>0</td>\n",
              "      <td>1</td>\n",
              "      <td>0</td>\n",
              "      <td>0</td>\n",
              "      <td>0</td>\n",
              "      <td>0</td>\n",
              "      <td>0</td>\n",
              "      <td>0</td>\n",
              "      <td>0</td>\n",
              "      <td>0</td>\n",
              "      <td>0</td>\n",
              "      <td>0</td>\n",
              "      <td>0</td>\n",
              "      <td>1</td>\n",
              "      <td>0</td>\n",
              "      <td>small</td>\n",
              "    </tr>\n",
              "    <tr>\n",
              "      <th>2</th>\n",
              "      <td>oct</td>\n",
              "      <td>sat</td>\n",
              "      <td>90.6</td>\n",
              "      <td>43.7</td>\n",
              "      <td>686.9</td>\n",
              "      <td>6.7</td>\n",
              "      <td>14.6</td>\n",
              "      <td>33</td>\n",
              "      <td>1.3</td>\n",
              "      <td>0.0</td>\n",
              "      <td>0.0</td>\n",
              "      <td>0</td>\n",
              "      <td>0</td>\n",
              "      <td>1</td>\n",
              "      <td>0</td>\n",
              "      <td>0</td>\n",
              "      <td>0</td>\n",
              "      <td>0</td>\n",
              "      <td>0</td>\n",
              "      <td>0</td>\n",
              "      <td>0</td>\n",
              "      <td>0</td>\n",
              "      <td>0</td>\n",
              "      <td>0</td>\n",
              "      <td>0</td>\n",
              "      <td>0</td>\n",
              "      <td>0</td>\n",
              "      <td>0</td>\n",
              "      <td>1</td>\n",
              "      <td>0</td>\n",
              "      <td>small</td>\n",
              "    </tr>\n",
              "    <tr>\n",
              "      <th>3</th>\n",
              "      <td>mar</td>\n",
              "      <td>fri</td>\n",
              "      <td>91.7</td>\n",
              "      <td>33.3</td>\n",
              "      <td>77.5</td>\n",
              "      <td>9.0</td>\n",
              "      <td>8.3</td>\n",
              "      <td>97</td>\n",
              "      <td>4.0</td>\n",
              "      <td>0.2</td>\n",
              "      <td>0.0</td>\n",
              "      <td>1</td>\n",
              "      <td>0</td>\n",
              "      <td>0</td>\n",
              "      <td>0</td>\n",
              "      <td>0</td>\n",
              "      <td>0</td>\n",
              "      <td>0</td>\n",
              "      <td>0</td>\n",
              "      <td>0</td>\n",
              "      <td>0</td>\n",
              "      <td>0</td>\n",
              "      <td>0</td>\n",
              "      <td>0</td>\n",
              "      <td>0</td>\n",
              "      <td>1</td>\n",
              "      <td>0</td>\n",
              "      <td>0</td>\n",
              "      <td>0</td>\n",
              "      <td>0</td>\n",
              "      <td>small</td>\n",
              "    </tr>\n",
              "    <tr>\n",
              "      <th>4</th>\n",
              "      <td>mar</td>\n",
              "      <td>sun</td>\n",
              "      <td>89.3</td>\n",
              "      <td>51.3</td>\n",
              "      <td>102.2</td>\n",
              "      <td>9.6</td>\n",
              "      <td>11.4</td>\n",
              "      <td>99</td>\n",
              "      <td>1.8</td>\n",
              "      <td>0.0</td>\n",
              "      <td>0.0</td>\n",
              "      <td>0</td>\n",
              "      <td>0</td>\n",
              "      <td>0</td>\n",
              "      <td>1</td>\n",
              "      <td>0</td>\n",
              "      <td>0</td>\n",
              "      <td>0</td>\n",
              "      <td>0</td>\n",
              "      <td>0</td>\n",
              "      <td>0</td>\n",
              "      <td>0</td>\n",
              "      <td>0</td>\n",
              "      <td>0</td>\n",
              "      <td>0</td>\n",
              "      <td>1</td>\n",
              "      <td>0</td>\n",
              "      <td>0</td>\n",
              "      <td>0</td>\n",
              "      <td>0</td>\n",
              "      <td>small</td>\n",
              "    </tr>\n",
              "  </tbody>\n",
              "</table>\n",
              "</div>"
            ],
            "text/plain": [
              "  month  day  FFMC   DMC  ...  monthnov  monthoct  monthsep  size_category\n",
              "0   mar  fri  86.2  26.2  ...         0         0         0          small\n",
              "1   oct  tue  90.6  35.4  ...         0         1         0          small\n",
              "2   oct  sat  90.6  43.7  ...         0         1         0          small\n",
              "3   mar  fri  91.7  33.3  ...         0         0         0          small\n",
              "4   mar  sun  89.3  51.3  ...         0         0         0          small\n",
              "\n",
              "[5 rows x 31 columns]"
            ]
          },
          "metadata": {
            "tags": []
          },
          "execution_count": 13
        }
      ]
    },
    {
      "cell_type": "code",
      "metadata": {
        "colab": {
          "base_uri": "https://localhost:8080/",
          "height": 217
        },
        "id": "wOUnA542F42N",
        "outputId": "84a4ae75-3d77-4d2c-a26d-a13f7d65e498"
      },
      "source": [
        "df1= df.drop(labels=['month', 'day'], axis=1)\n",
        "df1.head()"
      ],
      "execution_count": 14,
      "outputs": [
        {
          "output_type": "execute_result",
          "data": {
            "text/html": [
              "<div>\n",
              "<style scoped>\n",
              "    .dataframe tbody tr th:only-of-type {\n",
              "        vertical-align: middle;\n",
              "    }\n",
              "\n",
              "    .dataframe tbody tr th {\n",
              "        vertical-align: top;\n",
              "    }\n",
              "\n",
              "    .dataframe thead th {\n",
              "        text-align: right;\n",
              "    }\n",
              "</style>\n",
              "<table border=\"1\" class=\"dataframe\">\n",
              "  <thead>\n",
              "    <tr style=\"text-align: right;\">\n",
              "      <th></th>\n",
              "      <th>FFMC</th>\n",
              "      <th>DMC</th>\n",
              "      <th>DC</th>\n",
              "      <th>ISI</th>\n",
              "      <th>temp</th>\n",
              "      <th>RH</th>\n",
              "      <th>wind</th>\n",
              "      <th>rain</th>\n",
              "      <th>area</th>\n",
              "      <th>dayfri</th>\n",
              "      <th>daymon</th>\n",
              "      <th>daysat</th>\n",
              "      <th>daysun</th>\n",
              "      <th>daythu</th>\n",
              "      <th>daytue</th>\n",
              "      <th>daywed</th>\n",
              "      <th>monthapr</th>\n",
              "      <th>monthaug</th>\n",
              "      <th>monthdec</th>\n",
              "      <th>monthfeb</th>\n",
              "      <th>monthjan</th>\n",
              "      <th>monthjul</th>\n",
              "      <th>monthjun</th>\n",
              "      <th>monthmar</th>\n",
              "      <th>monthmay</th>\n",
              "      <th>monthnov</th>\n",
              "      <th>monthoct</th>\n",
              "      <th>monthsep</th>\n",
              "      <th>size_category</th>\n",
              "    </tr>\n",
              "  </thead>\n",
              "  <tbody>\n",
              "    <tr>\n",
              "      <th>0</th>\n",
              "      <td>86.2</td>\n",
              "      <td>26.2</td>\n",
              "      <td>94.3</td>\n",
              "      <td>5.1</td>\n",
              "      <td>8.2</td>\n",
              "      <td>51</td>\n",
              "      <td>6.7</td>\n",
              "      <td>0.0</td>\n",
              "      <td>0.0</td>\n",
              "      <td>1</td>\n",
              "      <td>0</td>\n",
              "      <td>0</td>\n",
              "      <td>0</td>\n",
              "      <td>0</td>\n",
              "      <td>0</td>\n",
              "      <td>0</td>\n",
              "      <td>0</td>\n",
              "      <td>0</td>\n",
              "      <td>0</td>\n",
              "      <td>0</td>\n",
              "      <td>0</td>\n",
              "      <td>0</td>\n",
              "      <td>0</td>\n",
              "      <td>1</td>\n",
              "      <td>0</td>\n",
              "      <td>0</td>\n",
              "      <td>0</td>\n",
              "      <td>0</td>\n",
              "      <td>small</td>\n",
              "    </tr>\n",
              "    <tr>\n",
              "      <th>1</th>\n",
              "      <td>90.6</td>\n",
              "      <td>35.4</td>\n",
              "      <td>669.1</td>\n",
              "      <td>6.7</td>\n",
              "      <td>18.0</td>\n",
              "      <td>33</td>\n",
              "      <td>0.9</td>\n",
              "      <td>0.0</td>\n",
              "      <td>0.0</td>\n",
              "      <td>0</td>\n",
              "      <td>0</td>\n",
              "      <td>0</td>\n",
              "      <td>0</td>\n",
              "      <td>0</td>\n",
              "      <td>1</td>\n",
              "      <td>0</td>\n",
              "      <td>0</td>\n",
              "      <td>0</td>\n",
              "      <td>0</td>\n",
              "      <td>0</td>\n",
              "      <td>0</td>\n",
              "      <td>0</td>\n",
              "      <td>0</td>\n",
              "      <td>0</td>\n",
              "      <td>0</td>\n",
              "      <td>0</td>\n",
              "      <td>1</td>\n",
              "      <td>0</td>\n",
              "      <td>small</td>\n",
              "    </tr>\n",
              "    <tr>\n",
              "      <th>2</th>\n",
              "      <td>90.6</td>\n",
              "      <td>43.7</td>\n",
              "      <td>686.9</td>\n",
              "      <td>6.7</td>\n",
              "      <td>14.6</td>\n",
              "      <td>33</td>\n",
              "      <td>1.3</td>\n",
              "      <td>0.0</td>\n",
              "      <td>0.0</td>\n",
              "      <td>0</td>\n",
              "      <td>0</td>\n",
              "      <td>1</td>\n",
              "      <td>0</td>\n",
              "      <td>0</td>\n",
              "      <td>0</td>\n",
              "      <td>0</td>\n",
              "      <td>0</td>\n",
              "      <td>0</td>\n",
              "      <td>0</td>\n",
              "      <td>0</td>\n",
              "      <td>0</td>\n",
              "      <td>0</td>\n",
              "      <td>0</td>\n",
              "      <td>0</td>\n",
              "      <td>0</td>\n",
              "      <td>0</td>\n",
              "      <td>1</td>\n",
              "      <td>0</td>\n",
              "      <td>small</td>\n",
              "    </tr>\n",
              "    <tr>\n",
              "      <th>3</th>\n",
              "      <td>91.7</td>\n",
              "      <td>33.3</td>\n",
              "      <td>77.5</td>\n",
              "      <td>9.0</td>\n",
              "      <td>8.3</td>\n",
              "      <td>97</td>\n",
              "      <td>4.0</td>\n",
              "      <td>0.2</td>\n",
              "      <td>0.0</td>\n",
              "      <td>1</td>\n",
              "      <td>0</td>\n",
              "      <td>0</td>\n",
              "      <td>0</td>\n",
              "      <td>0</td>\n",
              "      <td>0</td>\n",
              "      <td>0</td>\n",
              "      <td>0</td>\n",
              "      <td>0</td>\n",
              "      <td>0</td>\n",
              "      <td>0</td>\n",
              "      <td>0</td>\n",
              "      <td>0</td>\n",
              "      <td>0</td>\n",
              "      <td>1</td>\n",
              "      <td>0</td>\n",
              "      <td>0</td>\n",
              "      <td>0</td>\n",
              "      <td>0</td>\n",
              "      <td>small</td>\n",
              "    </tr>\n",
              "    <tr>\n",
              "      <th>4</th>\n",
              "      <td>89.3</td>\n",
              "      <td>51.3</td>\n",
              "      <td>102.2</td>\n",
              "      <td>9.6</td>\n",
              "      <td>11.4</td>\n",
              "      <td>99</td>\n",
              "      <td>1.8</td>\n",
              "      <td>0.0</td>\n",
              "      <td>0.0</td>\n",
              "      <td>0</td>\n",
              "      <td>0</td>\n",
              "      <td>0</td>\n",
              "      <td>1</td>\n",
              "      <td>0</td>\n",
              "      <td>0</td>\n",
              "      <td>0</td>\n",
              "      <td>0</td>\n",
              "      <td>0</td>\n",
              "      <td>0</td>\n",
              "      <td>0</td>\n",
              "      <td>0</td>\n",
              "      <td>0</td>\n",
              "      <td>0</td>\n",
              "      <td>1</td>\n",
              "      <td>0</td>\n",
              "      <td>0</td>\n",
              "      <td>0</td>\n",
              "      <td>0</td>\n",
              "      <td>small</td>\n",
              "    </tr>\n",
              "  </tbody>\n",
              "</table>\n",
              "</div>"
            ],
            "text/plain": [
              "   FFMC   DMC     DC  ISI  ...  monthnov  monthoct  monthsep  size_category\n",
              "0  86.2  26.2   94.3  5.1  ...         0         0         0          small\n",
              "1  90.6  35.4  669.1  6.7  ...         0         1         0          small\n",
              "2  90.6  43.7  686.9  6.7  ...         0         1         0          small\n",
              "3  91.7  33.3   77.5  9.0  ...         0         0         0          small\n",
              "4  89.3  51.3  102.2  9.6  ...         0         0         0          small\n",
              "\n",
              "[5 rows x 29 columns]"
            ]
          },
          "metadata": {
            "tags": []
          },
          "execution_count": 14
        }
      ]
    },
    {
      "cell_type": "code",
      "metadata": {
        "colab": {
          "base_uri": "https://localhost:8080/"
        },
        "id": "YdbInviXG3CX",
        "outputId": "287fd141-fe1a-4c9e-8f10-55bc8203f35c"
      },
      "source": [
        "# Checking for null values and datatype of features\n",
        "df1.info()"
      ],
      "execution_count": 16,
      "outputs": [
        {
          "output_type": "stream",
          "text": [
            "<class 'pandas.core.frame.DataFrame'>\n",
            "RangeIndex: 517 entries, 0 to 516\n",
            "Data columns (total 29 columns):\n",
            " #   Column         Non-Null Count  Dtype  \n",
            "---  ------         --------------  -----  \n",
            " 0   FFMC           517 non-null    float64\n",
            " 1   DMC            517 non-null    float64\n",
            " 2   DC             517 non-null    float64\n",
            " 3   ISI            517 non-null    float64\n",
            " 4   temp           517 non-null    float64\n",
            " 5   RH             517 non-null    int64  \n",
            " 6   wind           517 non-null    float64\n",
            " 7   rain           517 non-null    float64\n",
            " 8   area           517 non-null    float64\n",
            " 9   dayfri         517 non-null    int64  \n",
            " 10  daymon         517 non-null    int64  \n",
            " 11  daysat         517 non-null    int64  \n",
            " 12  daysun         517 non-null    int64  \n",
            " 13  daythu         517 non-null    int64  \n",
            " 14  daytue         517 non-null    int64  \n",
            " 15  daywed         517 non-null    int64  \n",
            " 16  monthapr       517 non-null    int64  \n",
            " 17  monthaug       517 non-null    int64  \n",
            " 18  monthdec       517 non-null    int64  \n",
            " 19  monthfeb       517 non-null    int64  \n",
            " 20  monthjan       517 non-null    int64  \n",
            " 21  monthjul       517 non-null    int64  \n",
            " 22  monthjun       517 non-null    int64  \n",
            " 23  monthmar       517 non-null    int64  \n",
            " 24  monthmay       517 non-null    int64  \n",
            " 25  monthnov       517 non-null    int64  \n",
            " 26  monthoct       517 non-null    int64  \n",
            " 27  monthsep       517 non-null    int64  \n",
            " 28  size_category  517 non-null    object \n",
            "dtypes: float64(8), int64(20), object(1)\n",
            "memory usage: 117.3+ KB\n"
          ],
          "name": "stdout"
        }
      ]
    },
    {
      "cell_type": "code",
      "metadata": {
        "colab": {
          "base_uri": "https://localhost:8080/"
        },
        "id": "bPDCVL5BGI8K",
        "outputId": "328c15cd-77c0-4f59-abd1-b65318163715"
      },
      "source": [
        "features= df1.columns\n",
        "print(features)"
      ],
      "execution_count": 20,
      "outputs": [
        {
          "output_type": "stream",
          "text": [
            "Index(['FFMC', 'DMC', 'DC', 'ISI', 'temp', 'RH', 'wind', 'rain', 'area',\n",
            "       'dayfri', 'daymon', 'daysat', 'daysun', 'daythu', 'daytue', 'daywed',\n",
            "       'monthapr', 'monthaug', 'monthdec', 'monthfeb', 'monthjan', 'monthjul',\n",
            "       'monthjun', 'monthmar', 'monthmay', 'monthnov', 'monthoct', 'monthsep',\n",
            "       'size_category'],\n",
            "      dtype='object')\n"
          ],
          "name": "stdout"
        }
      ]
    },
    {
      "cell_type": "code",
      "metadata": {
        "colab": {
          "base_uri": "https://localhost:8080/"
        },
        "id": "b_RJcy6AHcM3",
        "outputId": "2ae56b35-dd36-4d5c-c4cb-6814f38732c7"
      },
      "source": [
        "# Since features after area are one hot encoded, we will try to explore the features before that column\n",
        "features1= features[0:9]\n",
        "print(features1)"
      ],
      "execution_count": 21,
      "outputs": [
        {
          "output_type": "stream",
          "text": [
            "Index(['FFMC', 'DMC', 'DC', 'ISI', 'temp', 'RH', 'wind', 'rain', 'area'], dtype='object')\n"
          ],
          "name": "stdout"
        }
      ]
    },
    {
      "cell_type": "code",
      "metadata": {
        "colab": {
          "base_uri": "https://localhost:8080/",
          "height": 773
        },
        "id": "SlpcewtMRnt3",
        "outputId": "cf9ff9cc-6c00-4d9e-93b9-b33699f8e528"
      },
      "source": [
        "# Distribution of continous features\n",
        "df1[features1].hist(figsize=(12,10))"
      ],
      "execution_count": 63,
      "outputs": [
        {
          "output_type": "execute_result",
          "data": {
            "text/plain": [
              "array([[<matplotlib.axes._subplots.AxesSubplot object at 0x7f9ac1577090>,\n",
              "        <matplotlib.axes._subplots.AxesSubplot object at 0x7f9ac151d850>,\n",
              "        <matplotlib.axes._subplots.AxesSubplot object at 0x7f9ac153edd0>],\n",
              "       [<matplotlib.axes._subplots.AxesSubplot object at 0x7f9ac14fd390>,\n",
              "        <matplotlib.axes._subplots.AxesSubplot object at 0x7f9ac14b3910>,\n",
              "        <matplotlib.axes._subplots.AxesSubplot object at 0x7f9ac1469e90>],\n",
              "       [<matplotlib.axes._subplots.AxesSubplot object at 0x7f9ac142b4d0>,\n",
              "        <matplotlib.axes._subplots.AxesSubplot object at 0x7f9ac13e0990>,\n",
              "        <matplotlib.axes._subplots.AxesSubplot object at 0x7f9ac13e09d0>]],\n",
              "      dtype=object)"
            ]
          },
          "metadata": {
            "tags": []
          },
          "execution_count": 63
        },
        {
          "output_type": "display_data",
          "data": {
            "image/png": "[encoded data removed]",
            "text/plain": [
              "<Figure size 864x720 with 9 Axes>"
            ]
          },
          "metadata": {
            "tags": [],
            "needs_background": "light"
          }
        }
      ]
    },
    {
      "cell_type": "code",
      "metadata": {
        "colab": {
          "base_uri": "https://localhost:8080/"
        },
        "id": "8LshIIZ9IFdQ",
        "outputId": "4465c106-61dd-4220-c948-0f121276e8f2"
      },
      "source": [
        "for feature in features1:\n",
        "  unique_values_count= len(df1[feature].unique())\n",
        "  unique_values= df1[feature].unique()\n",
        "  print('The {} has {} unique values as {}....'.format(feature, unique_values_count, unique_values[0:5]))"
      ],
      "execution_count": 46,
      "outputs": [
        {
          "output_type": "stream",
          "text": [
            "The FFMC has 106 unique values as [86.2 90.6 91.7 89.3 92.3]....\n",
            "The DMC has 215 unique values as [26.2 35.4 43.7 33.3 51.3]....\n",
            "The DC has 219 unique values as [ 94.3 669.1 686.9  77.5 102.2]....\n",
            "The ISI has 119 unique values as [ 5.1  6.7  9.   9.6 14.7]....\n",
            "The temp has 192 unique values as [ 8.2 18.  14.6  8.3 11.4]....\n",
            "The RH has 75 unique values as [51 33 97 99 29]....\n",
            "The wind has 21 unique values as [6.7 0.9 1.3 4.  1.8]....\n",
            "The rain has 7 unique values as [0.  0.2 1.  6.4 0.8]....\n",
            "The area has 251 unique values as [0.   0.36 0.43 0.47 0.55]....\n"
          ],
          "name": "stdout"
        }
      ]
    },
    {
      "cell_type": "markdown",
      "metadata": {
        "id": "UwdhLlOaLWe4"
      },
      "source": [
        "From above data, it is clear that the features having the dimensionality issue. Hence we will transform the data"
      ]
    },
    {
      "cell_type": "code",
      "metadata": {
        "colab": {
          "base_uri": "https://localhost:8080/",
          "height": 197
        },
        "id": "Cun4wMLRK8XO",
        "outputId": "286da734-4a2f-4e1c-ce10-b25877301586"
      },
      "source": [
        "# Scaling the features\n",
        "scaler= MinMaxScaler()\n",
        "df2= pd.DataFrame(scaler.fit_transform(df1[features1]))\n",
        "df2.head()"
      ],
      "execution_count": 49,
      "outputs": [
        {
          "output_type": "execute_result",
          "data": {
            "text/html": [
              "<div>\n",
              "<style scoped>\n",
              "    .dataframe tbody tr th:only-of-type {\n",
              "        vertical-align: middle;\n",
              "    }\n",
              "\n",
              "    .dataframe tbody tr th {\n",
              "        vertical-align: top;\n",
              "    }\n",
              "\n",
              "    .dataframe thead th {\n",
              "        text-align: right;\n",
              "    }\n",
              "</style>\n",
              "<table border=\"1\" class=\"dataframe\">\n",
              "  <thead>\n",
              "    <tr style=\"text-align: right;\">\n",
              "      <th></th>\n",
              "      <th>0</th>\n",
              "      <th>1</th>\n",
              "      <th>2</th>\n",
              "      <th>3</th>\n",
              "      <th>4</th>\n",
              "      <th>5</th>\n",
              "      <th>6</th>\n",
              "      <th>7</th>\n",
              "      <th>8</th>\n",
              "    </tr>\n",
              "  </thead>\n",
              "  <tbody>\n",
              "    <tr>\n",
              "      <th>0</th>\n",
              "      <td>0.870968</td>\n",
              "      <td>0.086492</td>\n",
              "      <td>0.101325</td>\n",
              "      <td>0.090909</td>\n",
              "      <td>0.192926</td>\n",
              "      <td>0.423529</td>\n",
              "      <td>0.700000</td>\n",
              "      <td>0.00000</td>\n",
              "      <td>0.0</td>\n",
              "    </tr>\n",
              "    <tr>\n",
              "      <th>1</th>\n",
              "      <td>0.927742</td>\n",
              "      <td>0.118194</td>\n",
              "      <td>0.775419</td>\n",
              "      <td>0.119430</td>\n",
              "      <td>0.508039</td>\n",
              "      <td>0.211765</td>\n",
              "      <td>0.055556</td>\n",
              "      <td>0.00000</td>\n",
              "      <td>0.0</td>\n",
              "    </tr>\n",
              "    <tr>\n",
              "      <th>2</th>\n",
              "      <td>0.927742</td>\n",
              "      <td>0.146795</td>\n",
              "      <td>0.796294</td>\n",
              "      <td>0.119430</td>\n",
              "      <td>0.398714</td>\n",
              "      <td>0.211765</td>\n",
              "      <td>0.100000</td>\n",
              "      <td>0.00000</td>\n",
              "      <td>0.0</td>\n",
              "    </tr>\n",
              "    <tr>\n",
              "      <th>3</th>\n",
              "      <td>0.941935</td>\n",
              "      <td>0.110958</td>\n",
              "      <td>0.081623</td>\n",
              "      <td>0.160428</td>\n",
              "      <td>0.196141</td>\n",
              "      <td>0.964706</td>\n",
              "      <td>0.400000</td>\n",
              "      <td>0.03125</td>\n",
              "      <td>0.0</td>\n",
              "    </tr>\n",
              "    <tr>\n",
              "      <th>4</th>\n",
              "      <td>0.910968</td>\n",
              "      <td>0.172984</td>\n",
              "      <td>0.110590</td>\n",
              "      <td>0.171123</td>\n",
              "      <td>0.295820</td>\n",
              "      <td>0.988235</td>\n",
              "      <td>0.155556</td>\n",
              "      <td>0.00000</td>\n",
              "      <td>0.0</td>\n",
              "    </tr>\n",
              "  </tbody>\n",
              "</table>\n",
              "</div>"
            ],
            "text/plain": [
              "          0         1         2         3  ...         5         6        7    8\n",
              "0  0.870968  0.086492  0.101325  0.090909  ...  0.423529  0.700000  0.00000  0.0\n",
              "1  0.927742  0.118194  0.775419  0.119430  ...  0.211765  0.055556  0.00000  0.0\n",
              "2  0.927742  0.146795  0.796294  0.119430  ...  0.211765  0.100000  0.00000  0.0\n",
              "3  0.941935  0.110958  0.081623  0.160428  ...  0.964706  0.400000  0.03125  0.0\n",
              "4  0.910968  0.172984  0.110590  0.171123  ...  0.988235  0.155556  0.00000  0.0\n",
              "\n",
              "[5 rows x 9 columns]"
            ]
          },
          "metadata": {
            "tags": []
          },
          "execution_count": 49
        }
      ]
    },
    {
      "cell_type": "code",
      "metadata": {
        "colab": {
          "base_uri": "https://localhost:8080/",
          "height": 217
        },
        "id": "A5n8poV5QinA",
        "outputId": "9876cb4c-4af3-4b5a-bb11-89284ffb3798"
      },
      "source": [
        "df3= df1.iloc[:, 9:]\n",
        "df3.head()"
      ],
      "execution_count": 54,
      "outputs": [
        {
          "output_type": "execute_result",
          "data": {
            "text/html": [
              "<div>\n",
              "<style scoped>\n",
              "    .dataframe tbody tr th:only-of-type {\n",
              "        vertical-align: middle;\n",
              "    }\n",
              "\n",
              "    .dataframe tbody tr th {\n",
              "        vertical-align: top;\n",
              "    }\n",
              "\n",
              "    .dataframe thead th {\n",
              "        text-align: right;\n",
              "    }\n",
              "</style>\n",
              "<table border=\"1\" class=\"dataframe\">\n",
              "  <thead>\n",
              "    <tr style=\"text-align: right;\">\n",
              "      <th></th>\n",
              "      <th>dayfri</th>\n",
              "      <th>daymon</th>\n",
              "      <th>daysat</th>\n",
              "      <th>daysun</th>\n",
              "      <th>daythu</th>\n",
              "      <th>daytue</th>\n",
              "      <th>daywed</th>\n",
              "      <th>monthapr</th>\n",
              "      <th>monthaug</th>\n",
              "      <th>monthdec</th>\n",
              "      <th>monthfeb</th>\n",
              "      <th>monthjan</th>\n",
              "      <th>monthjul</th>\n",
              "      <th>monthjun</th>\n",
              "      <th>monthmar</th>\n",
              "      <th>monthmay</th>\n",
              "      <th>monthnov</th>\n",
              "      <th>monthoct</th>\n",
              "      <th>monthsep</th>\n",
              "      <th>size_category</th>\n",
              "    </tr>\n",
              "  </thead>\n",
              "  <tbody>\n",
              "    <tr>\n",
              "      <th>0</th>\n",
              "      <td>1</td>\n",
              "      <td>0</td>\n",
              "      <td>0</td>\n",
              "      <td>0</td>\n",
              "      <td>0</td>\n",
              "      <td>0</td>\n",
              "      <td>0</td>\n",
              "      <td>0</td>\n",
              "      <td>0</td>\n",
              "      <td>0</td>\n",
              "      <td>0</td>\n",
              "      <td>0</td>\n",
              "      <td>0</td>\n",
              "      <td>0</td>\n",
              "      <td>1</td>\n",
              "      <td>0</td>\n",
              "      <td>0</td>\n",
              "      <td>0</td>\n",
              "      <td>0</td>\n",
              "      <td>small</td>\n",
              "    </tr>\n",
              "    <tr>\n",
              "      <th>1</th>\n",
              "      <td>0</td>\n",
              "      <td>0</td>\n",
              "      <td>0</td>\n",
              "      <td>0</td>\n",
              "      <td>0</td>\n",
              "      <td>1</td>\n",
              "      <td>0</td>\n",
              "      <td>0</td>\n",
              "      <td>0</td>\n",
              "      <td>0</td>\n",
              "      <td>0</td>\n",
              "      <td>0</td>\n",
              "      <td>0</td>\n",
              "      <td>0</td>\n",
              "      <td>0</td>\n",
              "      <td>0</td>\n",
              "      <td>0</td>\n",
              "      <td>1</td>\n",
              "      <td>0</td>\n",
              "      <td>small</td>\n",
              "    </tr>\n",
              "    <tr>\n",
              "      <th>2</th>\n",
              "      <td>0</td>\n",
              "      <td>0</td>\n",
              "      <td>1</td>\n",
              "      <td>0</td>\n",
              "      <td>0</td>\n",
              "      <td>0</td>\n",
              "      <td>0</td>\n",
              "      <td>0</td>\n",
              "      <td>0</td>\n",
              "      <td>0</td>\n",
              "      <td>0</td>\n",
              "      <td>0</td>\n",
              "      <td>0</td>\n",
              "      <td>0</td>\n",
              "      <td>0</td>\n",
              "      <td>0</td>\n",
              "      <td>0</td>\n",
              "      <td>1</td>\n",
              "      <td>0</td>\n",
              "      <td>small</td>\n",
              "    </tr>\n",
              "    <tr>\n",
              "      <th>3</th>\n",
              "      <td>1</td>\n",
              "      <td>0</td>\n",
              "      <td>0</td>\n",
              "      <td>0</td>\n",
              "      <td>0</td>\n",
              "      <td>0</td>\n",
              "      <td>0</td>\n",
              "      <td>0</td>\n",
              "      <td>0</td>\n",
              "      <td>0</td>\n",
              "      <td>0</td>\n",
              "      <td>0</td>\n",
              "      <td>0</td>\n",
              "      <td>0</td>\n",
              "      <td>1</td>\n",
              "      <td>0</td>\n",
              "      <td>0</td>\n",
              "      <td>0</td>\n",
              "      <td>0</td>\n",
              "      <td>small</td>\n",
              "    </tr>\n",
              "    <tr>\n",
              "      <th>4</th>\n",
              "      <td>0</td>\n",
              "      <td>0</td>\n",
              "      <td>0</td>\n",
              "      <td>1</td>\n",
              "      <td>0</td>\n",
              "      <td>0</td>\n",
              "      <td>0</td>\n",
              "      <td>0</td>\n",
              "      <td>0</td>\n",
              "      <td>0</td>\n",
              "      <td>0</td>\n",
              "      <td>0</td>\n",
              "      <td>0</td>\n",
              "      <td>0</td>\n",
              "      <td>1</td>\n",
              "      <td>0</td>\n",
              "      <td>0</td>\n",
              "      <td>0</td>\n",
              "      <td>0</td>\n",
              "      <td>small</td>\n",
              "    </tr>\n",
              "  </tbody>\n",
              "</table>\n",
              "</div>"
            ],
            "text/plain": [
              "   dayfri  daymon  daysat  daysun  ...  monthnov  monthoct  monthsep  size_category\n",
              "0       1       0       0       0  ...         0         0         0          small\n",
              "1       0       0       0       0  ...         0         1         0          small\n",
              "2       0       0       1       0  ...         0         1         0          small\n",
              "3       1       0       0       0  ...         0         0         0          small\n",
              "4       0       0       0       1  ...         0         0         0          small\n",
              "\n",
              "[5 rows x 20 columns]"
            ]
          },
          "metadata": {
            "tags": []
          },
          "execution_count": 54
        }
      ]
    },
    {
      "cell_type": "code",
      "metadata": {
        "colab": {
          "base_uri": "https://localhost:8080/",
          "height": 217
        },
        "id": "Cz8IC3ftRKeL",
        "outputId": "c2714d6f-1961-47db-dbfd-1ad0c0cee45c"
      },
      "source": [
        "final_df= pd.concat([df2,df3], axis=1 )\n",
        "final_df.head()"
      ],
      "execution_count": 57,
      "outputs": [
        {
          "output_type": "execute_result",
          "data": {
            "text/html": [
              "<div>\n",
              "<style scoped>\n",
              "    .dataframe tbody tr th:only-of-type {\n",
              "        vertical-align: middle;\n",
              "    }\n",
              "\n",
              "    .dataframe tbody tr th {\n",
              "        vertical-align: top;\n",
              "    }\n",
              "\n",
              "    .dataframe thead th {\n",
              "        text-align: right;\n",
              "    }\n",
              "</style>\n",
              "<table border=\"1\" class=\"dataframe\">\n",
              "  <thead>\n",
              "    <tr style=\"text-align: right;\">\n",
              "      <th></th>\n",
              "      <th>0</th>\n",
              "      <th>1</th>\n",
              "      <th>2</th>\n",
              "      <th>3</th>\n",
              "      <th>4</th>\n",
              "      <th>5</th>\n",
              "      <th>6</th>\n",
              "      <th>7</th>\n",
              "      <th>8</th>\n",
              "      <th>dayfri</th>\n",
              "      <th>daymon</th>\n",
              "      <th>daysat</th>\n",
              "      <th>daysun</th>\n",
              "      <th>daythu</th>\n",
              "      <th>daytue</th>\n",
              "      <th>daywed</th>\n",
              "      <th>monthapr</th>\n",
              "      <th>monthaug</th>\n",
              "      <th>monthdec</th>\n",
              "      <th>monthfeb</th>\n",
              "      <th>monthjan</th>\n",
              "      <th>monthjul</th>\n",
              "      <th>monthjun</th>\n",
              "      <th>monthmar</th>\n",
              "      <th>monthmay</th>\n",
              "      <th>monthnov</th>\n",
              "      <th>monthoct</th>\n",
              "      <th>monthsep</th>\n",
              "      <th>size_category</th>\n",
              "    </tr>\n",
              "  </thead>\n",
              "  <tbody>\n",
              "    <tr>\n",
              "      <th>0</th>\n",
              "      <td>0.870968</td>\n",
              "      <td>0.086492</td>\n",
              "      <td>0.101325</td>\n",
              "      <td>0.090909</td>\n",
              "      <td>0.192926</td>\n",
              "      <td>0.423529</td>\n",
              "      <td>0.700000</td>\n",
              "      <td>0.00000</td>\n",
              "      <td>0.0</td>\n",
              "      <td>1</td>\n",
              "      <td>0</td>\n",
              "      <td>0</td>\n",
              "      <td>0</td>\n",
              "      <td>0</td>\n",
              "      <td>0</td>\n",
              "      <td>0</td>\n",
              "      <td>0</td>\n",
              "      <td>0</td>\n",
              "      <td>0</td>\n",
              "      <td>0</td>\n",
              "      <td>0</td>\n",
              "      <td>0</td>\n",
              "      <td>0</td>\n",
              "      <td>1</td>\n",
              "      <td>0</td>\n",
              "      <td>0</td>\n",
              "      <td>0</td>\n",
              "      <td>0</td>\n",
              "      <td>small</td>\n",
              "    </tr>\n",
              "    <tr>\n",
              "      <th>1</th>\n",
              "      <td>0.927742</td>\n",
              "      <td>0.118194</td>\n",
              "      <td>0.775419</td>\n",
              "      <td>0.119430</td>\n",
              "      <td>0.508039</td>\n",
              "      <td>0.211765</td>\n",
              "      <td>0.055556</td>\n",
              "      <td>0.00000</td>\n",
              "      <td>0.0</td>\n",
              "      <td>0</td>\n",
              "      <td>0</td>\n",
              "      <td>0</td>\n",
              "      <td>0</td>\n",
              "      <td>0</td>\n",
              "      <td>1</td>\n",
              "      <td>0</td>\n",
              "      <td>0</td>\n",
              "      <td>0</td>\n",
              "      <td>0</td>\n",
              "      <td>0</td>\n",
              "      <td>0</td>\n",
              "      <td>0</td>\n",
              "      <td>0</td>\n",
              "      <td>0</td>\n",
              "      <td>0</td>\n",
              "      <td>0</td>\n",
              "      <td>1</td>\n",
              "      <td>0</td>\n",
              "      <td>small</td>\n",
              "    </tr>\n",
              "    <tr>\n",
              "      <th>2</th>\n",
              "      <td>0.927742</td>\n",
              "      <td>0.146795</td>\n",
              "      <td>0.796294</td>\n",
              "      <td>0.119430</td>\n",
              "      <td>0.398714</td>\n",
              "      <td>0.211765</td>\n",
              "      <td>0.100000</td>\n",
              "      <td>0.00000</td>\n",
              "      <td>0.0</td>\n",
              "      <td>0</td>\n",
              "      <td>0</td>\n",
              "      <td>1</td>\n",
              "      <td>0</td>\n",
              "      <td>0</td>\n",
              "      <td>0</td>\n",
              "      <td>0</td>\n",
              "      <td>0</td>\n",
              "      <td>0</td>\n",
              "      <td>0</td>\n",
              "      <td>0</td>\n",
              "      <td>0</td>\n",
              "      <td>0</td>\n",
              "      <td>0</td>\n",
              "      <td>0</td>\n",
              "      <td>0</td>\n",
              "      <td>0</td>\n",
              "      <td>1</td>\n",
              "      <td>0</td>\n",
              "      <td>small</td>\n",
              "    </tr>\n",
              "    <tr>\n",
              "      <th>3</th>\n",
              "      <td>0.941935</td>\n",
              "      <td>0.110958</td>\n",
              "      <td>0.081623</td>\n",
              "      <td>0.160428</td>\n",
              "      <td>0.196141</td>\n",
              "      <td>0.964706</td>\n",
              "      <td>0.400000</td>\n",
              "      <td>0.03125</td>\n",
              "      <td>0.0</td>\n",
              "      <td>1</td>\n",
              "      <td>0</td>\n",
              "      <td>0</td>\n",
              "      <td>0</td>\n",
              "      <td>0</td>\n",
              "      <td>0</td>\n",
              "      <td>0</td>\n",
              "      <td>0</td>\n",
              "      <td>0</td>\n",
              "      <td>0</td>\n",
              "      <td>0</td>\n",
              "      <td>0</td>\n",
              "      <td>0</td>\n",
              "      <td>0</td>\n",
              "      <td>1</td>\n",
              "      <td>0</td>\n",
              "      <td>0</td>\n",
              "      <td>0</td>\n",
              "      <td>0</td>\n",
              "      <td>small</td>\n",
              "    </tr>\n",
              "    <tr>\n",
              "      <th>4</th>\n",
              "      <td>0.910968</td>\n",
              "      <td>0.172984</td>\n",
              "      <td>0.110590</td>\n",
              "      <td>0.171123</td>\n",
              "      <td>0.295820</td>\n",
              "      <td>0.988235</td>\n",
              "      <td>0.155556</td>\n",
              "      <td>0.00000</td>\n",
              "      <td>0.0</td>\n",
              "      <td>0</td>\n",
              "      <td>0</td>\n",
              "      <td>0</td>\n",
              "      <td>1</td>\n",
              "      <td>0</td>\n",
              "      <td>0</td>\n",
              "      <td>0</td>\n",
              "      <td>0</td>\n",
              "      <td>0</td>\n",
              "      <td>0</td>\n",
              "      <td>0</td>\n",
              "      <td>0</td>\n",
              "      <td>0</td>\n",
              "      <td>0</td>\n",
              "      <td>1</td>\n",
              "      <td>0</td>\n",
              "      <td>0</td>\n",
              "      <td>0</td>\n",
              "      <td>0</td>\n",
              "      <td>small</td>\n",
              "    </tr>\n",
              "  </tbody>\n",
              "</table>\n",
              "</div>"
            ],
            "text/plain": [
              "          0         1         2  ...  monthoct  monthsep  size_category\n",
              "0  0.870968  0.086492  0.101325  ...         0         0          small\n",
              "1  0.927742  0.118194  0.775419  ...         1         0          small\n",
              "2  0.927742  0.146795  0.796294  ...         1         0          small\n",
              "3  0.941935  0.110958  0.081623  ...         0         0          small\n",
              "4  0.910968  0.172984  0.110590  ...         0         0          small\n",
              "\n",
              "[5 rows x 29 columns]"
            ]
          },
          "metadata": {
            "tags": []
          },
          "execution_count": 57
        }
      ]
    },
    {
      "cell_type": "code",
      "metadata": {
        "id": "1ySCwaspU2Ch"
      },
      "source": [
        "# converting the target feature into numerical one hot coded feature\n",
        "final_df['size_category']= pd.get_dummies(final_df['size_category'],drop_first=True)"
      ],
      "execution_count": 67,
      "outputs": []
    },
    {
      "cell_type": "code",
      "metadata": {
        "colab": {
          "base_uri": "https://localhost:8080/",
          "height": 217
        },
        "id": "pGmIjiZbWqQt",
        "outputId": "c106147d-efa6-467f-c210-7db66566ef11"
      },
      "source": [
        "# Final Dataframe\n",
        "final_df.head()"
      ],
      "execution_count": 69,
      "outputs": [
        {
          "output_type": "execute_result",
          "data": {
            "text/html": [
              "<div>\n",
              "<style scoped>\n",
              "    .dataframe tbody tr th:only-of-type {\n",
              "        vertical-align: middle;\n",
              "    }\n",
              "\n",
              "    .dataframe tbody tr th {\n",
              "        vertical-align: top;\n",
              "    }\n",
              "\n",
              "    .dataframe thead th {\n",
              "        text-align: right;\n",
              "    }\n",
              "</style>\n",
              "<table border=\"1\" class=\"dataframe\">\n",
              "  <thead>\n",
              "    <tr style=\"text-align: right;\">\n",
              "      <th></th>\n",
              "      <th>0</th>\n",
              "      <th>1</th>\n",
              "      <th>2</th>\n",
              "      <th>3</th>\n",
              "      <th>4</th>\n",
              "      <th>5</th>\n",
              "      <th>6</th>\n",
              "      <th>7</th>\n",
              "      <th>8</th>\n",
              "      <th>dayfri</th>\n",
              "      <th>daymon</th>\n",
              "      <th>daysat</th>\n",
              "      <th>daysun</th>\n",
              "      <th>daythu</th>\n",
              "      <th>daytue</th>\n",
              "      <th>daywed</th>\n",
              "      <th>monthapr</th>\n",
              "      <th>monthaug</th>\n",
              "      <th>monthdec</th>\n",
              "      <th>monthfeb</th>\n",
              "      <th>monthjan</th>\n",
              "      <th>monthjul</th>\n",
              "      <th>monthjun</th>\n",
              "      <th>monthmar</th>\n",
              "      <th>monthmay</th>\n",
              "      <th>monthnov</th>\n",
              "      <th>monthoct</th>\n",
              "      <th>monthsep</th>\n",
              "      <th>size_category</th>\n",
              "    </tr>\n",
              "  </thead>\n",
              "  <tbody>\n",
              "    <tr>\n",
              "      <th>0</th>\n",
              "      <td>0.870968</td>\n",
              "      <td>0.086492</td>\n",
              "      <td>0.101325</td>\n",
              "      <td>0.090909</td>\n",
              "      <td>0.192926</td>\n",
              "      <td>0.423529</td>\n",
              "      <td>0.700000</td>\n",
              "      <td>0.00000</td>\n",
              "      <td>0.0</td>\n",
              "      <td>1</td>\n",
              "      <td>0</td>\n",
              "      <td>0</td>\n",
              "      <td>0</td>\n",
              "      <td>0</td>\n",
              "      <td>0</td>\n",
              "      <td>0</td>\n",
              "      <td>0</td>\n",
              "      <td>0</td>\n",
              "      <td>0</td>\n",
              "      <td>0</td>\n",
              "      <td>0</td>\n",
              "      <td>0</td>\n",
              "      <td>0</td>\n",
              "      <td>1</td>\n",
              "      <td>0</td>\n",
              "      <td>0</td>\n",
              "      <td>0</td>\n",
              "      <td>0</td>\n",
              "      <td>1</td>\n",
              "    </tr>\n",
              "    <tr>\n",
              "      <th>1</th>\n",
              "      <td>0.927742</td>\n",
              "      <td>0.118194</td>\n",
              "      <td>0.775419</td>\n",
              "      <td>0.119430</td>\n",
              "      <td>0.508039</td>\n",
              "      <td>0.211765</td>\n",
              "      <td>0.055556</td>\n",
              "      <td>0.00000</td>\n",
              "      <td>0.0</td>\n",
              "      <td>0</td>\n",
              "      <td>0</td>\n",
              "      <td>0</td>\n",
              "      <td>0</td>\n",
              "      <td>0</td>\n",
              "      <td>1</td>\n",
              "      <td>0</td>\n",
              "      <td>0</td>\n",
              "      <td>0</td>\n",
              "      <td>0</td>\n",
              "      <td>0</td>\n",
              "      <td>0</td>\n",
              "      <td>0</td>\n",
              "      <td>0</td>\n",
              "      <td>0</td>\n",
              "      <td>0</td>\n",
              "      <td>0</td>\n",
              "      <td>1</td>\n",
              "      <td>0</td>\n",
              "      <td>1</td>\n",
              "    </tr>\n",
              "    <tr>\n",
              "      <th>2</th>\n",
              "      <td>0.927742</td>\n",
              "      <td>0.146795</td>\n",
              "      <td>0.796294</td>\n",
              "      <td>0.119430</td>\n",
              "      <td>0.398714</td>\n",
              "      <td>0.211765</td>\n",
              "      <td>0.100000</td>\n",
              "      <td>0.00000</td>\n",
              "      <td>0.0</td>\n",
              "      <td>0</td>\n",
              "      <td>0</td>\n",
              "      <td>1</td>\n",
              "      <td>0</td>\n",
              "      <td>0</td>\n",
              "      <td>0</td>\n",
              "      <td>0</td>\n",
              "      <td>0</td>\n",
              "      <td>0</td>\n",
              "      <td>0</td>\n",
              "      <td>0</td>\n",
              "      <td>0</td>\n",
              "      <td>0</td>\n",
              "      <td>0</td>\n",
              "      <td>0</td>\n",
              "      <td>0</td>\n",
              "      <td>0</td>\n",
              "      <td>1</td>\n",
              "      <td>0</td>\n",
              "      <td>1</td>\n",
              "    </tr>\n",
              "    <tr>\n",
              "      <th>3</th>\n",
              "      <td>0.941935</td>\n",
              "      <td>0.110958</td>\n",
              "      <td>0.081623</td>\n",
              "      <td>0.160428</td>\n",
              "      <td>0.196141</td>\n",
              "      <td>0.964706</td>\n",
              "      <td>0.400000</td>\n",
              "      <td>0.03125</td>\n",
              "      <td>0.0</td>\n",
              "      <td>1</td>\n",
              "      <td>0</td>\n",
              "      <td>0</td>\n",
              "      <td>0</td>\n",
              "      <td>0</td>\n",
              "      <td>0</td>\n",
              "      <td>0</td>\n",
              "      <td>0</td>\n",
              "      <td>0</td>\n",
              "      <td>0</td>\n",
              "      <td>0</td>\n",
              "      <td>0</td>\n",
              "      <td>0</td>\n",
              "      <td>0</td>\n",
              "      <td>1</td>\n",
              "      <td>0</td>\n",
              "      <td>0</td>\n",
              "      <td>0</td>\n",
              "      <td>0</td>\n",
              "      <td>1</td>\n",
              "    </tr>\n",
              "    <tr>\n",
              "      <th>4</th>\n",
              "      <td>0.910968</td>\n",
              "      <td>0.172984</td>\n",
              "      <td>0.110590</td>\n",
              "      <td>0.171123</td>\n",
              "      <td>0.295820</td>\n",
              "      <td>0.988235</td>\n",
              "      <td>0.155556</td>\n",
              "      <td>0.00000</td>\n",
              "      <td>0.0</td>\n",
              "      <td>0</td>\n",
              "      <td>0</td>\n",
              "      <td>0</td>\n",
              "      <td>1</td>\n",
              "      <td>0</td>\n",
              "      <td>0</td>\n",
              "      <td>0</td>\n",
              "      <td>0</td>\n",
              "      <td>0</td>\n",
              "      <td>0</td>\n",
              "      <td>0</td>\n",
              "      <td>0</td>\n",
              "      <td>0</td>\n",
              "      <td>0</td>\n",
              "      <td>1</td>\n",
              "      <td>0</td>\n",
              "      <td>0</td>\n",
              "      <td>0</td>\n",
              "      <td>0</td>\n",
              "      <td>1</td>\n",
              "    </tr>\n",
              "  </tbody>\n",
              "</table>\n",
              "</div>"
            ],
            "text/plain": [
              "          0         1         2  ...  monthoct  monthsep  size_category\n",
              "0  0.870968  0.086492  0.101325  ...         0         0              1\n",
              "1  0.927742  0.118194  0.775419  ...         1         0              1\n",
              "2  0.927742  0.146795  0.796294  ...         1         0              1\n",
              "3  0.941935  0.110958  0.081623  ...         0         0              1\n",
              "4  0.910968  0.172984  0.110590  ...         0         0              1\n",
              "\n",
              "[5 rows x 29 columns]"
            ]
          },
          "metadata": {
            "tags": []
          },
          "execution_count": 69
        }
      ]
    },
    {
      "cell_type": "code",
      "metadata": {
        "colab": {
          "base_uri": "https://localhost:8080/",
          "height": 307
        },
        "id": "-Gz7vrjxXz7E",
        "outputId": "2af75278-44ba-444f-c8a9-1149556c0f2f"
      },
      "source": [
        "final_df.describe()"
      ],
      "execution_count": 71,
      "outputs": [
        {
          "output_type": "execute_result",
          "data": {
            "text/html": [
              "<div>\n",
              "<style scoped>\n",
              "    .dataframe tbody tr th:only-of-type {\n",
              "        vertical-align: middle;\n",
              "    }\n",
              "\n",
              "    .dataframe tbody tr th {\n",
              "        vertical-align: top;\n",
              "    }\n",
              "\n",
              "    .dataframe thead th {\n",
              "        text-align: right;\n",
              "    }\n",
              "</style>\n",
              "<table border=\"1\" class=\"dataframe\">\n",
              "  <thead>\n",
              "    <tr style=\"text-align: right;\">\n",
              "      <th></th>\n",
              "      <th>0</th>\n",
              "      <th>1</th>\n",
              "      <th>2</th>\n",
              "      <th>3</th>\n",
              "      <th>4</th>\n",
              "      <th>5</th>\n",
              "      <th>6</th>\n",
              "      <th>7</th>\n",
              "      <th>8</th>\n",
              "      <th>dayfri</th>\n",
              "      <th>daymon</th>\n",
              "      <th>daysat</th>\n",
              "      <th>daysun</th>\n",
              "      <th>daythu</th>\n",
              "      <th>daytue</th>\n",
              "      <th>daywed</th>\n",
              "      <th>monthapr</th>\n",
              "      <th>monthaug</th>\n",
              "      <th>monthdec</th>\n",
              "      <th>monthfeb</th>\n",
              "      <th>monthjan</th>\n",
              "      <th>monthjul</th>\n",
              "      <th>monthjun</th>\n",
              "      <th>monthmar</th>\n",
              "      <th>monthmay</th>\n",
              "      <th>monthnov</th>\n",
              "      <th>monthoct</th>\n",
              "      <th>monthsep</th>\n",
              "      <th>size_category</th>\n",
              "    </tr>\n",
              "  </thead>\n",
              "  <tbody>\n",
              "    <tr>\n",
              "      <th>count</th>\n",
              "      <td>517.000000</td>\n",
              "      <td>517.000000</td>\n",
              "      <td>517.000000</td>\n",
              "      <td>517.000000</td>\n",
              "      <td>517.000000</td>\n",
              "      <td>517.000000</td>\n",
              "      <td>517.000000</td>\n",
              "      <td>517.000000</td>\n",
              "      <td>517.000000</td>\n",
              "      <td>517.000000</td>\n",
              "      <td>517.000000</td>\n",
              "      <td>517.000000</td>\n",
              "      <td>517.000000</td>\n",
              "      <td>517.000000</td>\n",
              "      <td>517.000000</td>\n",
              "      <td>517.000000</td>\n",
              "      <td>517.000000</td>\n",
              "      <td>517.000000</td>\n",
              "      <td>517.000000</td>\n",
              "      <td>517.000000</td>\n",
              "      <td>517.000000</td>\n",
              "      <td>517.000000</td>\n",
              "      <td>517.000000</td>\n",
              "      <td>517.000000</td>\n",
              "      <td>517.000000</td>\n",
              "      <td>517.000000</td>\n",
              "      <td>517.000000</td>\n",
              "      <td>517.000000</td>\n",
              "      <td>517.000000</td>\n",
              "    </tr>\n",
              "    <tr>\n",
              "      <th>mean</th>\n",
              "      <td>0.928318</td>\n",
              "      <td>0.378264</td>\n",
              "      <td>0.633329</td>\n",
              "      <td>0.160814</td>\n",
              "      <td>0.536629</td>\n",
              "      <td>0.344567</td>\n",
              "      <td>0.401956</td>\n",
              "      <td>0.003385</td>\n",
              "      <td>0.011777</td>\n",
              "      <td>0.164410</td>\n",
              "      <td>0.143133</td>\n",
              "      <td>0.162476</td>\n",
              "      <td>0.183752</td>\n",
              "      <td>0.117988</td>\n",
              "      <td>0.123791</td>\n",
              "      <td>0.104449</td>\n",
              "      <td>0.017408</td>\n",
              "      <td>0.355899</td>\n",
              "      <td>0.017408</td>\n",
              "      <td>0.038685</td>\n",
              "      <td>0.003868</td>\n",
              "      <td>0.061896</td>\n",
              "      <td>0.032882</td>\n",
              "      <td>0.104449</td>\n",
              "      <td>0.003868</td>\n",
              "      <td>0.001934</td>\n",
              "      <td>0.029014</td>\n",
              "      <td>0.332689</td>\n",
              "      <td>0.731141</td>\n",
              "    </tr>\n",
              "    <tr>\n",
              "      <th>std</th>\n",
              "      <td>0.071227</td>\n",
              "      <td>0.220698</td>\n",
              "      <td>0.290918</td>\n",
              "      <td>0.081274</td>\n",
              "      <td>0.186708</td>\n",
              "      <td>0.191970</td>\n",
              "      <td>0.199073</td>\n",
              "      <td>0.046244</td>\n",
              "      <td>0.058355</td>\n",
              "      <td>0.371006</td>\n",
              "      <td>0.350548</td>\n",
              "      <td>0.369244</td>\n",
              "      <td>0.387657</td>\n",
              "      <td>0.322907</td>\n",
              "      <td>0.329662</td>\n",
              "      <td>0.306138</td>\n",
              "      <td>0.130913</td>\n",
              "      <td>0.479249</td>\n",
              "      <td>0.130913</td>\n",
              "      <td>0.193029</td>\n",
              "      <td>0.062137</td>\n",
              "      <td>0.241199</td>\n",
              "      <td>0.178500</td>\n",
              "      <td>0.306138</td>\n",
              "      <td>0.062137</td>\n",
              "      <td>0.043980</td>\n",
              "      <td>0.168007</td>\n",
              "      <td>0.471632</td>\n",
              "      <td>0.443796</td>\n",
              "    </tr>\n",
              "    <tr>\n",
              "      <th>min</th>\n",
              "      <td>0.000000</td>\n",
              "      <td>0.000000</td>\n",
              "      <td>0.000000</td>\n",
              "      <td>0.000000</td>\n",
              "      <td>0.000000</td>\n",
              "      <td>0.000000</td>\n",
              "      <td>0.000000</td>\n",
              "      <td>0.000000</td>\n",
              "      <td>0.000000</td>\n",
              "      <td>0.000000</td>\n",
              "      <td>0.000000</td>\n",
              "      <td>0.000000</td>\n",
              "      <td>0.000000</td>\n",
              "      <td>0.000000</td>\n",
              "      <td>0.000000</td>\n",
              "      <td>0.000000</td>\n",
              "      <td>0.000000</td>\n",
              "      <td>0.000000</td>\n",
              "      <td>0.000000</td>\n",
              "      <td>0.000000</td>\n",
              "      <td>0.000000</td>\n",
              "      <td>0.000000</td>\n",
              "      <td>0.000000</td>\n",
              "      <td>0.000000</td>\n",
              "      <td>0.000000</td>\n",
              "      <td>0.000000</td>\n",
              "      <td>0.000000</td>\n",
              "      <td>0.000000</td>\n",
              "      <td>0.000000</td>\n",
              "    </tr>\n",
              "    <tr>\n",
              "      <th>25%</th>\n",
              "      <td>0.922581</td>\n",
              "      <td>0.232598</td>\n",
              "      <td>0.504046</td>\n",
              "      <td>0.115865</td>\n",
              "      <td>0.427653</td>\n",
              "      <td>0.211765</td>\n",
              "      <td>0.255556</td>\n",
              "      <td>0.000000</td>\n",
              "      <td>0.000000</td>\n",
              "      <td>0.000000</td>\n",
              "      <td>0.000000</td>\n",
              "      <td>0.000000</td>\n",
              "      <td>0.000000</td>\n",
              "      <td>0.000000</td>\n",
              "      <td>0.000000</td>\n",
              "      <td>0.000000</td>\n",
              "      <td>0.000000</td>\n",
              "      <td>0.000000</td>\n",
              "      <td>0.000000</td>\n",
              "      <td>0.000000</td>\n",
              "      <td>0.000000</td>\n",
              "      <td>0.000000</td>\n",
              "      <td>0.000000</td>\n",
              "      <td>0.000000</td>\n",
              "      <td>0.000000</td>\n",
              "      <td>0.000000</td>\n",
              "      <td>0.000000</td>\n",
              "      <td>0.000000</td>\n",
              "      <td>0.000000</td>\n",
              "    </tr>\n",
              "    <tr>\n",
              "      <th>50%</th>\n",
              "      <td>0.940645</td>\n",
              "      <td>0.369400</td>\n",
              "      <td>0.769673</td>\n",
              "      <td>0.149733</td>\n",
              "      <td>0.549839</td>\n",
              "      <td>0.317647</td>\n",
              "      <td>0.400000</td>\n",
              "      <td>0.000000</td>\n",
              "      <td>0.000477</td>\n",
              "      <td>0.000000</td>\n",
              "      <td>0.000000</td>\n",
              "      <td>0.000000</td>\n",
              "      <td>0.000000</td>\n",
              "      <td>0.000000</td>\n",
              "      <td>0.000000</td>\n",
              "      <td>0.000000</td>\n",
              "      <td>0.000000</td>\n",
              "      <td>0.000000</td>\n",
              "      <td>0.000000</td>\n",
              "      <td>0.000000</td>\n",
              "      <td>0.000000</td>\n",
              "      <td>0.000000</td>\n",
              "      <td>0.000000</td>\n",
              "      <td>0.000000</td>\n",
              "      <td>0.000000</td>\n",
              "      <td>0.000000</td>\n",
              "      <td>0.000000</td>\n",
              "      <td>0.000000</td>\n",
              "      <td>1.000000</td>\n",
              "    </tr>\n",
              "    <tr>\n",
              "      <th>75%</th>\n",
              "      <td>0.957419</td>\n",
              "      <td>0.486906</td>\n",
              "      <td>0.827958</td>\n",
              "      <td>0.192513</td>\n",
              "      <td>0.662379</td>\n",
              "      <td>0.447059</td>\n",
              "      <td>0.500000</td>\n",
              "      <td>0.000000</td>\n",
              "      <td>0.006023</td>\n",
              "      <td>0.000000</td>\n",
              "      <td>0.000000</td>\n",
              "      <td>0.000000</td>\n",
              "      <td>0.000000</td>\n",
              "      <td>0.000000</td>\n",
              "      <td>0.000000</td>\n",
              "      <td>0.000000</td>\n",
              "      <td>0.000000</td>\n",
              "      <td>1.000000</td>\n",
              "      <td>0.000000</td>\n",
              "      <td>0.000000</td>\n",
              "      <td>0.000000</td>\n",
              "      <td>0.000000</td>\n",
              "      <td>0.000000</td>\n",
              "      <td>0.000000</td>\n",
              "      <td>0.000000</td>\n",
              "      <td>0.000000</td>\n",
              "      <td>0.000000</td>\n",
              "      <td>1.000000</td>\n",
              "      <td>1.000000</td>\n",
              "    </tr>\n",
              "    <tr>\n",
              "      <th>max</th>\n",
              "      <td>1.000000</td>\n",
              "      <td>1.000000</td>\n",
              "      <td>1.000000</td>\n",
              "      <td>1.000000</td>\n",
              "      <td>1.000000</td>\n",
              "      <td>1.000000</td>\n",
              "      <td>1.000000</td>\n",
              "      <td>1.000000</td>\n",
              "      <td>1.000000</td>\n",
              "      <td>1.000000</td>\n",
              "      <td>1.000000</td>\n",
              "      <td>1.000000</td>\n",
              "      <td>1.000000</td>\n",
              "      <td>1.000000</td>\n",
              "      <td>1.000000</td>\n",
              "      <td>1.000000</td>\n",
              "      <td>1.000000</td>\n",
              "      <td>1.000000</td>\n",
              "      <td>1.000000</td>\n",
              "      <td>1.000000</td>\n",
              "      <td>1.000000</td>\n",
              "      <td>1.000000</td>\n",
              "      <td>1.000000</td>\n",
              "      <td>1.000000</td>\n",
              "      <td>1.000000</td>\n",
              "      <td>1.000000</td>\n",
              "      <td>1.000000</td>\n",
              "      <td>1.000000</td>\n",
              "      <td>1.000000</td>\n",
              "    </tr>\n",
              "  </tbody>\n",
              "</table>\n",
              "</div>"
            ],
            "text/plain": [
              "                0           1  ...    monthsep  size_category\n",
              "count  517.000000  517.000000  ...  517.000000     517.000000\n",
              "mean     0.928318    0.378264  ...    0.332689       0.731141\n",
              "std      0.071227    0.220698  ...    0.471632       0.443796\n",
              "min      0.000000    0.000000  ...    0.000000       0.000000\n",
              "25%      0.922581    0.232598  ...    0.000000       0.000000\n",
              "50%      0.940645    0.369400  ...    0.000000       1.000000\n",
              "75%      0.957419    0.486906  ...    1.000000       1.000000\n",
              "max      1.000000    1.000000  ...    1.000000       1.000000\n",
              "\n",
              "[8 rows x 29 columns]"
            ]
          },
          "metadata": {
            "tags": []
          },
          "execution_count": 71
        }
      ]
    },
    {
      "cell_type": "code",
      "metadata": {
        "colab": {
          "base_uri": "https://localhost:8080/"
        },
        "id": "XMN7ozLAXo_X",
        "outputId": "fd324245-c5d8-40d0-f1fb-faba1fb8ecdf"
      },
      "source": [
        "# Correlation matrix\n",
        "c= df1[features1].corr()\n",
        "print(c)"
      ],
      "execution_count": 76,
      "outputs": [
        {
          "output_type": "stream",
          "text": [
            "          FFMC       DMC        DC  ...      wind      rain      area\n",
            "FFMC  1.000000  0.382619  0.330512  ... -0.028485  0.056702  0.040122\n",
            "DMC   0.382619  1.000000  0.682192  ... -0.105342  0.074790  0.072994\n",
            "DC    0.330512  0.682192  1.000000  ... -0.203466  0.035861  0.049383\n",
            "ISI   0.531805  0.305128  0.229154  ...  0.106826  0.067668  0.008258\n",
            "temp  0.431532  0.469594  0.496208  ... -0.227116  0.069491  0.097844\n",
            "RH   -0.300995  0.073795 -0.039192  ...  0.069410  0.099751 -0.075519\n",
            "wind -0.028485 -0.105342 -0.203466  ...  1.000000  0.061119  0.012317\n",
            "rain  0.056702  0.074790  0.035861  ...  0.061119  1.000000 -0.007366\n",
            "area  0.040122  0.072994  0.049383  ...  0.012317 -0.007366  1.000000\n",
            "\n",
            "[9 rows x 9 columns]\n"
          ],
          "name": "stdout"
        }
      ]
    },
    {
      "cell_type": "code",
      "metadata": {
        "colab": {
          "base_uri": "https://localhost:8080/",
          "height": 302
        },
        "id": "HFo8GaSaYE1r",
        "outputId": "546c5be7-bc7f-450a-d334-526f61c55339"
      },
      "source": [
        "sns.heatmap(c, vmax=1, square=True)"
      ],
      "execution_count": 77,
      "outputs": [
        {
          "output_type": "execute_result",
          "data": {
            "text/plain": [
              "<matplotlib.axes._subplots.AxesSubplot at 0x7f9ab87ee510>"
            ]
          },
          "metadata": {
            "tags": []
          },
          "execution_count": 77
        },
        {
          "output_type": "display_data",
          "data": {
            "image/png": "[encoded data removed]",
            "text/plain": [
              "<Figure size 432x288 with 2 Axes>"
            ]
          },
          "metadata": {
            "tags": [],
            "needs_background": "light"
          }
        }
      ]
    },
    {
      "cell_type": "code",
      "metadata": {
        "colab": {
          "base_uri": "https://localhost:8080/",
          "height": 295
        },
        "id": "nJjM_f2CYTOR",
        "outputId": "ff8e2ef7-832c-4154-d504-8cc23fed96c7"
      },
      "source": [
        "sns.boxplot(data= df1, x= 'FFMC', y= 'size_category')"
      ],
      "execution_count": 78,
      "outputs": [
        {
          "output_type": "execute_result",
          "data": {
            "text/plain": [
              "<matplotlib.axes._subplots.AxesSubplot at 0x7f9ab86f5c10>"
            ]
          },
          "metadata": {
            "tags": []
          },
          "execution_count": 78
        },
        {
          "output_type": "display_data",
          "data": {
            "image/png": "[encoded data removed]",
            "text/plain": [
              "<Figure size 432x288 with 1 Axes>"
            ]
          },
          "metadata": {
            "tags": [],
            "needs_background": "light"
          }
        }
      ]
    },
    {
      "cell_type": "code",
      "metadata": {
        "colab": {
          "base_uri": "https://localhost:8080/",
          "height": 295
        },
        "id": "EnAqsM_LY7F6",
        "outputId": "0bf1ae9f-cdb1-47aa-a94b-417049122be4"
      },
      "source": [
        "sns.boxplot(data= df1, x= 'DMC', y= 'size_category')"
      ],
      "execution_count": 79,
      "outputs": [
        {
          "output_type": "execute_result",
          "data": {
            "text/plain": [
              "<matplotlib.axes._subplots.AxesSubplot at 0x7f9ab867c8d0>"
            ]
          },
          "metadata": {
            "tags": []
          },
          "execution_count": 79
        },
        {
          "output_type": "display_data",
          "data": {
            "image/png": "[encoded data removed]",
            "text/plain": [
              "<Figure size 432x288 with 1 Axes>"
            ]
          },
          "metadata": {
            "tags": [],
            "needs_background": "light"
          }
        }
      ]
    },
    {
      "cell_type": "code",
      "metadata": {
        "colab": {
          "base_uri": "https://localhost:8080/",
          "height": 295
        },
        "id": "TthFIIoyZLQr",
        "outputId": "e9dc97b1-d889-44ae-82e6-253c23ae95c8"
      },
      "source": [
        "sns.boxplot(data= df1, x= 'DC', y= 'size_category')"
      ],
      "execution_count": 80,
      "outputs": [
        {
          "output_type": "execute_result",
          "data": {
            "text/plain": [
              "<matplotlib.axes._subplots.AxesSubplot at 0x7f9ac1586350>"
            ]
          },
          "metadata": {
            "tags": []
          },
          "execution_count": 80
        },
        {
          "output_type": "display_data",
          "data": {
            "image/png": "[encoded data removed]",
            "text/plain": [
              "<Figure size 432x288 with 1 Axes>"
            ]
          },
          "metadata": {
            "tags": [],
            "needs_background": "light"
          }
        }
      ]
    },
    {
      "cell_type": "code",
      "metadata": {
        "colab": {
          "base_uri": "https://localhost:8080/",
          "height": 295
        },
        "id": "2OV9_oHQZN7q",
        "outputId": "6b74e941-c516-44b5-972e-49752bfd5b33"
      },
      "source": [
        "sns.boxplot(data= df1, x= 'ISI', y= 'size_category')"
      ],
      "execution_count": 81,
      "outputs": [
        {
          "output_type": "execute_result",
          "data": {
            "text/plain": [
              "<matplotlib.axes._subplots.AxesSubplot at 0x7f9ab8695590>"
            ]
          },
          "metadata": {
            "tags": []
          },
          "execution_count": 81
        },
        {
          "output_type": "display_data",
          "data": {
            "image/png": "[encoded data removed]",
            "text/plain": [
              "<Figure size 432x288 with 1 Axes>"
            ]
          },
          "metadata": {
            "tags": [],
            "needs_background": "light"
          }
        }
      ]
    },
    {
      "cell_type": "code",
      "metadata": {
        "colab": {
          "base_uri": "https://localhost:8080/",
          "height": 295
        },
        "id": "OaevjQBiZQyf",
        "outputId": "3601ddfe-ffb7-412b-9029-139543eaf797"
      },
      "source": [
        "sns.boxplot(data= df1, x= 'temp', y= 'size_category')"
      ],
      "execution_count": 83,
      "outputs": [
        {
          "output_type": "execute_result",
          "data": {
            "text/plain": [
              "<matplotlib.axes._subplots.AxesSubplot at 0x7f9ab8501fd0>"
            ]
          },
          "metadata": {
            "tags": []
          },
          "execution_count": 83
        },
        {
          "output_type": "display_data",
          "data": {
            "image/png": "[encoded data removed]",
            "text/plain": [
              "<Figure size 432x288 with 1 Axes>"
            ]
          },
          "metadata": {
            "tags": [],
            "needs_background": "light"
          }
        }
      ]
    },
    {
      "cell_type": "code",
      "metadata": {
        "colab": {
          "base_uri": "https://localhost:8080/",
          "height": 296
        },
        "id": "V16HS7ZGZVzV",
        "outputId": "04d8b59a-cae4-4432-ba50-d672ad41653c"
      },
      "source": [
        "  sns.barplot(data=df1, x='size_category', y='FFMC')"
      ],
      "execution_count": 87,
      "outputs": [
        {
          "output_type": "execute_result",
          "data": {
            "text/plain": [
              "<matplotlib.axes._subplots.AxesSubplot at 0x7f9ab83146d0>"
            ]
          },
          "metadata": {
            "tags": []
          },
          "execution_count": 87
        },
        {
          "output_type": "display_data",
          "data": {
            "image/png": "[encoded data removed]",
            "text/plain": [
              "<Figure size 432x288 with 1 Axes>"
            ]
          },
          "metadata": {
            "tags": [],
            "needs_background": "light"
          }
        }
      ]
    },
    {
      "cell_type": "code",
      "metadata": {
        "colab": {
          "base_uri": "https://localhost:8080/",
          "height": 296
        },
        "id": "x0Zfp39ZZt5d",
        "outputId": "ad54d0d7-f47b-4993-8123-10f9d03916ae"
      },
      "source": [
        "  sns.barplot(data=df1, x='size_category', y='DMC')"
      ],
      "execution_count": 88,
      "outputs": [
        {
          "output_type": "execute_result",
          "data": {
            "text/plain": [
              "<matplotlib.axes._subplots.AxesSubplot at 0x7f9ac104a650>"
            ]
          },
          "metadata": {
            "tags": []
          },
          "execution_count": 88
        },
        {
          "output_type": "display_data",
          "data": {
            "image/png": "[encoded data removed]",
            "text/plain": [
              "<Figure size 432x288 with 1 Axes>"
            ]
          },
          "metadata": {
            "tags": [],
            "needs_background": "light"
          }
        }
      ]
    },
    {
      "cell_type": "code",
      "metadata": {
        "colab": {
          "base_uri": "https://localhost:8080/",
          "height": 296
        },
        "id": "YcR9FBK_aYZe",
        "outputId": "cf8fbab8-3beb-4228-d6cb-2a2dbcda54a1"
      },
      "source": [
        "  sns.barplot(data=df1, x='size_category', y='temp')"
      ],
      "execution_count": 89,
      "outputs": [
        {
          "output_type": "execute_result",
          "data": {
            "text/plain": [
              "<matplotlib.axes._subplots.AxesSubplot at 0x7f9ab824d750>"
            ]
          },
          "metadata": {
            "tags": []
          },
          "execution_count": 89
        },
        {
          "output_type": "display_data",
          "data": {
            "image/png": "[encoded data removed]",
            "text/plain": [
              "<Figure size 432x288 with 1 Axes>"
            ]
          },
          "metadata": {
            "tags": [],
            "needs_background": "light"
          }
        }
      ]
    },
    {
      "cell_type": "code",
      "metadata": {
        "colab": {
          "base_uri": "https://localhost:8080/",
          "height": 296
        },
        "id": "nf84DTxkabhy",
        "outputId": "0d5311ce-aa6d-4155-c90f-040de32480a5"
      },
      "source": [
        "sns.barplot(data=df1, x='size_category', y='DC')"
      ],
      "execution_count": 90,
      "outputs": [
        {
          "output_type": "execute_result",
          "data": {
            "text/plain": [
              "<matplotlib.axes._subplots.AxesSubplot at 0x7f9ab81ca390>"
            ]
          },
          "metadata": {
            "tags": []
          },
          "execution_count": 90
        },
        {
          "output_type": "display_data",
          "data": {
            "image/png": "[encoded data removed]",
            "text/plain": [
              "<Figure size 432x288 with 1 Axes>"
            ]
          },
          "metadata": {
            "tags": [],
            "needs_background": "light"
          }
        }
      ]
    },
    {
      "cell_type": "code",
      "metadata": {
        "colab": {
          "base_uri": "https://localhost:8080/",
          "height": 298
        },
        "id": "rL_JPFltahok",
        "outputId": "53739e7e-e448-4dad-ca93-927171f57e5e"
      },
      "source": [
        "sns.barplot(data=df1, x='size_category', y='ISI')"
      ],
      "execution_count": 91,
      "outputs": [
        {
          "output_type": "execute_result",
          "data": {
            "text/plain": [
              "<matplotlib.axes._subplots.AxesSubplot at 0x7f9ab81898d0>"
            ]
          },
          "metadata": {
            "tags": []
          },
          "execution_count": 91
        },
        {
          "output_type": "display_data",
          "data": {
            "image/png": "[encoded data removed]",
            "text/plain": [
              "<Figure size 432x288 with 1 Axes>"
            ]
          },
          "metadata": {
            "tags": [],
            "needs_background": "light"
          }
        }
      ]
    },
    {
      "cell_type": "code",
      "metadata": {
        "colab": {
          "base_uri": "https://localhost:8080/"
        },
        "id": "FRYzTfVrXFss",
        "outputId": "dd481163-c05e-460b-ab8e-abd6b0a6f119"
      },
      "source": [
        "# Splitting data into input and target variables:\n",
        "x= final_df.drop(labels=['size_category'], axis=1)\n",
        "print(x)\n",
        "y= final_df['size_category']\n",
        "print(y)"
      ],
      "execution_count": 70,
      "outputs": [
        {
          "output_type": "stream",
          "text": [
            "            0         1         2  ...  monthnov  monthoct  monthsep\n",
            "0    0.870968  0.086492  0.101325  ...         0         0         0\n",
            "1    0.927742  0.118194  0.775419  ...         0         1         0\n",
            "2    0.927742  0.146795  0.796294  ...         0         1         0\n",
            "3    0.941935  0.110958  0.081623  ...         0         0         0\n",
            "4    0.910968  0.172984  0.110590  ...         0         0         0\n",
            "..        ...       ...       ...  ...       ...       ...       ...\n",
            "512  0.811613  0.191592  0.771315  ...         0         0         0\n",
            "513  0.811613  0.191592  0.771315  ...         0         0         0\n",
            "514  0.811613  0.191592  0.771315  ...         0         0         0\n",
            "515  0.976774  0.499311  0.711622  ...         0         0         0\n",
            "516  0.784516  0.006547  0.115867  ...         1         0         0\n",
            "\n",
            "[517 rows x 28 columns]\n",
            "0      1\n",
            "1      1\n",
            "2      1\n",
            "3      1\n",
            "4      1\n",
            "      ..\n",
            "512    0\n",
            "513    0\n",
            "514    0\n",
            "515    1\n",
            "516    1\n",
            "Name: size_category, Length: 517, dtype: uint8\n"
          ],
          "name": "stdout"
        }
      ]
    },
    {
      "cell_type": "code",
      "metadata": {
        "colab": {
          "base_uri": "https://localhost:8080/"
        },
        "id": "9_quSDw2alOa",
        "outputId": "f495289d-d852-4b5c-b7a0-7adbf5c4f7ad"
      },
      "source": [
        "# Tuning Hyperparameters: Batch Size and epochs\n",
        "\n",
        "# Create sequential model:\n",
        "def base_model():\n",
        "  model= Sequential()\n",
        "  model.add(Dense(12, input_dim=28, kernel_initializer='uniform', activation='relu'))\n",
        "  model.add(Dense(8, kernel_initializer='uniform', activation='relu'))\n",
        "  model.add(Dense(8, kernel_initializer='uniform', activation='relu'))\n",
        "  # output layer\n",
        "  model.add(Dense(1, kernel_initializer='uniform', activation='sigmoid'))\n",
        "  # optimizer \n",
        "  adam= Adam()\n",
        "  # Compile model\n",
        "  model.compile(loss= \"binary_crossentropy\", optimizer= adam, metrics= ['accuracy'])\n",
        "  return model\n",
        "\n",
        "# Define clasification model\n",
        "classifier= KerasClassifier(build_fn=base_model, verbose= 0)\n",
        "# Define GridSearch Model\n",
        "batch_size= [10, 20, 40, 100]\n",
        "epochs= [10, 20, 50, 100]\n",
        "# make a Dictionary to store grid parameters\n",
        "grid_param= dict(batch_size=batch_size, epochs=epochs )\n",
        "# Build & Fit the gridsearchCV\n",
        "grid= GridSearchCV(estimator=classifier, param_grid=grid_param, cv= KFold(), verbose=10 )\n",
        "grid_results= grid.fit(x,y)"
      ],
      "execution_count": 98,
      "outputs": [
        {
          "output_type": "stream",
          "text": [
            "Fitting 5 folds for each of 16 candidates, totalling 80 fits\n",
            "[CV] batch_size=10, epochs=10 ........................................\n"
          ],
          "name": "stdout"
        },
        {
          "output_type": "stream",
          "text": [
            "[Parallel(n_jobs=1)]: Using backend SequentialBackend with 1 concurrent workers.\n"
          ],
          "name": "stderr"
        },
        {
          "output_type": "stream",
          "text": [
            "[CV] ............ batch_size=10, epochs=10, score=1.000, total=   1.6s\n",
            "[CV] batch_size=10, epochs=10 ........................................\n"
          ],
          "name": "stdout"
        },
        {
          "output_type": "stream",
          "text": [
            "[Parallel(n_jobs=1)]: Done   1 out of   1 | elapsed:    1.6s remaining:    0.0s\n"
          ],
          "name": "stderr"
        },
        {
          "output_type": "stream",
          "text": [
            "[CV] ............ batch_size=10, epochs=10, score=0.750, total=   1.2s\n",
            "[CV] batch_size=10, epochs=10 ........................................\n"
          ],
          "name": "stdout"
        },
        {
          "output_type": "stream",
          "text": [
            "[Parallel(n_jobs=1)]: Done   2 out of   2 | elapsed:    2.8s remaining:    0.0s\n"
          ],
          "name": "stderr"
        },
        {
          "output_type": "stream",
          "text": [
            "[CV] ............ batch_size=10, epochs=10, score=0.524, total=   1.5s\n",
            "[CV] batch_size=10, epochs=10 ........................................\n"
          ],
          "name": "stdout"
        },
        {
          "output_type": "stream",
          "text": [
            "[Parallel(n_jobs=1)]: Done   3 out of   3 | elapsed:    4.3s remaining:    0.0s\n"
          ],
          "name": "stderr"
        },
        {
          "output_type": "stream",
          "text": [
            "[CV] ............ batch_size=10, epochs=10, score=0.680, total=   1.2s\n",
            "[CV] batch_size=10, epochs=10 ........................................\n"
          ],
          "name": "stdout"
        },
        {
          "output_type": "stream",
          "text": [
            "[Parallel(n_jobs=1)]: Done   4 out of   4 | elapsed:    5.5s remaining:    0.0s\n"
          ],
          "name": "stderr"
        },
        {
          "output_type": "stream",
          "text": [
            "[CV] ............ batch_size=10, epochs=10, score=0.699, total=   1.2s\n",
            "[CV] batch_size=10, epochs=20 ........................................\n"
          ],
          "name": "stdout"
        },
        {
          "output_type": "stream",
          "text": [
            "[Parallel(n_jobs=1)]: Done   5 out of   5 | elapsed:    6.7s remaining:    0.0s\n"
          ],
          "name": "stderr"
        },
        {
          "output_type": "stream",
          "text": [
            "[CV] ............ batch_size=10, epochs=20, score=0.990, total=   1.6s\n",
            "[CV] batch_size=10, epochs=20 ........................................\n"
          ],
          "name": "stdout"
        },
        {
          "output_type": "stream",
          "text": [
            "[Parallel(n_jobs=1)]: Done   6 out of   6 | elapsed:    8.2s remaining:    0.0s\n"
          ],
          "name": "stderr"
        },
        {
          "output_type": "stream",
          "text": [
            "[CV] ............ batch_size=10, epochs=20, score=0.750, total=   1.5s\n",
            "[CV] batch_size=10, epochs=20 ........................................\n"
          ],
          "name": "stdout"
        },
        {
          "output_type": "stream",
          "text": [
            "[Parallel(n_jobs=1)]: Done   7 out of   7 | elapsed:    9.7s remaining:    0.0s\n"
          ],
          "name": "stderr"
        },
        {
          "output_type": "stream",
          "text": [
            "[CV] ............ batch_size=10, epochs=20, score=0.524, total=   1.5s\n",
            "[CV] batch_size=10, epochs=20 ........................................\n"
          ],
          "name": "stdout"
        },
        {
          "output_type": "stream",
          "text": [
            "[Parallel(n_jobs=1)]: Done   8 out of   8 | elapsed:   11.2s remaining:    0.0s\n"
          ],
          "name": "stderr"
        },
        {
          "output_type": "stream",
          "text": [
            "[CV] ............ batch_size=10, epochs=20, score=0.680, total=   1.5s\n",
            "[CV] batch_size=10, epochs=20 ........................................\n"
          ],
          "name": "stdout"
        },
        {
          "output_type": "stream",
          "text": [
            "[Parallel(n_jobs=1)]: Done   9 out of   9 | elapsed:   12.7s remaining:    0.0s\n"
          ],
          "name": "stderr"
        },
        {
          "output_type": "stream",
          "text": [
            "[CV] ............ batch_size=10, epochs=20, score=0.699, total=   1.5s\n",
            "[CV] batch_size=10, epochs=50 ........................................\n",
            "[CV] ............ batch_size=10, epochs=50, score=0.875, total=   2.5s\n",
            "[CV] batch_size=10, epochs=50 ........................................\n",
            "[CV] ............ batch_size=10, epochs=50, score=0.750, total=   2.5s\n",
            "[CV] batch_size=10, epochs=50 ........................................\n",
            "[CV] ............ batch_size=10, epochs=50, score=0.524, total=   2.6s\n",
            "[CV] batch_size=10, epochs=50 ........................................\n",
            "[CV] ............ batch_size=10, epochs=50, score=0.689, total=   2.5s\n",
            "[CV] batch_size=10, epochs=50 ........................................\n",
            "[CV] ............ batch_size=10, epochs=50, score=0.718, total=   2.6s\n",
            "[CV] batch_size=10, epochs=100 .......................................\n",
            "[CV] ........... batch_size=10, epochs=100, score=0.990, total=   4.9s\n",
            "[CV] batch_size=10, epochs=100 .......................................\n",
            "[CV] ........... batch_size=10, epochs=100, score=0.798, total=   4.4s\n",
            "[CV] batch_size=10, epochs=100 .......................................\n",
            "[CV] ........... batch_size=10, epochs=100, score=0.612, total=   4.5s\n",
            "[CV] batch_size=10, epochs=100 .......................................\n",
            "[CV] ........... batch_size=10, epochs=100, score=0.709, total=   4.4s\n",
            "[CV] batch_size=10, epochs=100 .......................................\n",
            "[CV] ........... batch_size=10, epochs=100, score=0.757, total=   4.5s\n",
            "[CV] batch_size=20, epochs=10 ........................................\n",
            "[CV] ............ batch_size=20, epochs=10, score=1.000, total=   1.0s\n",
            "[CV] batch_size=20, epochs=10 ........................................\n",
            "[CV] ............ batch_size=20, epochs=10, score=0.750, total=   1.0s\n",
            "[CV] batch_size=20, epochs=10 ........................................\n",
            "[CV] ............ batch_size=20, epochs=10, score=0.524, total=   1.0s\n",
            "[CV] batch_size=20, epochs=10 ........................................\n",
            "[CV] ............ batch_size=20, epochs=10, score=0.680, total=   1.0s\n",
            "[CV] batch_size=20, epochs=10 ........................................\n",
            "[CV] ............ batch_size=20, epochs=10, score=0.699, total=   0.9s\n",
            "[CV] batch_size=20, epochs=20 ........................................\n",
            "[CV] ............ batch_size=20, epochs=20, score=1.000, total=   1.2s\n",
            "[CV] batch_size=20, epochs=20 ........................................\n",
            "[CV] ............ batch_size=20, epochs=20, score=0.750, total=   1.1s\n",
            "[CV] batch_size=20, epochs=20 ........................................\n",
            "[CV] ............ batch_size=20, epochs=20, score=0.524, total=   1.2s\n",
            "[CV] batch_size=20, epochs=20 ........................................\n",
            "[CV] ............ batch_size=20, epochs=20, score=0.680, total=   1.2s\n",
            "[CV] batch_size=20, epochs=20 ........................................\n",
            "[CV] ............ batch_size=20, epochs=20, score=0.699, total=   1.7s\n",
            "[CV] batch_size=20, epochs=50 ........................................\n",
            "[CV] ............ batch_size=20, epochs=50, score=0.942, total=   1.7s\n",
            "[CV] batch_size=20, epochs=50 ........................................\n",
            "[CV] ............ batch_size=20, epochs=50, score=0.750, total=   1.7s\n",
            "[CV] batch_size=20, epochs=50 ........................................\n",
            "[CV] ............ batch_size=20, epochs=50, score=0.524, total=   1.7s\n",
            "[CV] batch_size=20, epochs=50 ........................................\n",
            "[CV] ............ batch_size=20, epochs=50, score=0.680, total=   1.7s\n",
            "[CV] batch_size=20, epochs=50 ........................................\n",
            "[CV] ............ batch_size=20, epochs=50, score=0.699, total=   1.7s\n",
            "[CV] batch_size=20, epochs=100 .......................................\n",
            "[CV] ........... batch_size=20, epochs=100, score=0.990, total=   2.6s\n",
            "[CV] batch_size=20, epochs=100 .......................................\n",
            "[CV] ........... batch_size=20, epochs=100, score=0.760, total=   2.7s\n",
            "[CV] batch_size=20, epochs=100 .......................................\n",
            "[CV] ........... batch_size=20, epochs=100, score=0.621, total=   2.7s\n",
            "[CV] batch_size=20, epochs=100 .......................................\n",
            "[CV] ........... batch_size=20, epochs=100, score=0.689, total=   2.6s\n",
            "[CV] batch_size=20, epochs=100 .......................................\n",
            "[CV] ........... batch_size=20, epochs=100, score=0.699, total=   2.7s\n",
            "[CV] batch_size=40, epochs=10 ........................................\n",
            "[CV] ............ batch_size=40, epochs=10, score=1.000, total=   0.9s\n",
            "[CV] batch_size=40, epochs=10 ........................................\n",
            "[CV] ............ batch_size=40, epochs=10, score=0.750, total=   0.9s\n",
            "[CV] batch_size=40, epochs=10 ........................................\n",
            "[CV] ............ batch_size=40, epochs=10, score=0.524, total=   1.4s\n",
            "[CV] batch_size=40, epochs=10 ........................................\n",
            "WARNING:tensorflow:5 out of the last 16 calls to <function Model.make_test_function.<locals>.test_function at 0x7f9ab811e440> triggered tf.function retracing. Tracing is expensive and the excessive number of tracings could be due to (1) creating @tf.function repeatedly in a loop, (2) passing tensors with different shapes, (3) passing Python objects instead of tensors. For (1), please define your @tf.function outside of the loop. For (2), @tf.function has experimental_relax_shapes=True option that relaxes argument shapes that can avoid unnecessary retracing. For (3), please refer to https://www.tensorflow.org/guide/function#controlling_retracing and https://www.tensorflow.org/api_docs/python/tf/function for  more details.\n",
            "[CV] ............ batch_size=40, epochs=10, score=0.680, total=   0.9s\n",
            "[CV] batch_size=40, epochs=10 ........................................\n",
            "WARNING:tensorflow:5 out of the last 13 calls to <function Model.make_test_function.<locals>.test_function at 0x7f9aadaf0a70> triggered tf.function retracing. Tracing is expensive and the excessive number of tracings could be due to (1) creating @tf.function repeatedly in a loop, (2) passing tensors with different shapes, (3) passing Python objects instead of tensors. For (1), please define your @tf.function outside of the loop. For (2), @tf.function has experimental_relax_shapes=True option that relaxes argument shapes that can avoid unnecessary retracing. For (3), please refer to https://www.tensorflow.org/guide/function#controlling_retracing and https://www.tensorflow.org/api_docs/python/tf/function for  more details.\n",
            "[CV] ............ batch_size=40, epochs=10, score=0.699, total=   0.9s\n",
            "[CV] batch_size=40, epochs=20 ........................................\n",
            "WARNING:tensorflow:5 out of the last 13 calls to <function Model.make_test_function.<locals>.test_function at 0x7f9ab81235f0> triggered tf.function retracing. Tracing is expensive and the excessive number of tracings could be due to (1) creating @tf.function repeatedly in a loop, (2) passing tensors with different shapes, (3) passing Python objects instead of tensors. For (1), please define your @tf.function outside of the loop. For (2), @tf.function has experimental_relax_shapes=True option that relaxes argument shapes that can avoid unnecessary retracing. For (3), please refer to https://www.tensorflow.org/guide/function#controlling_retracing and https://www.tensorflow.org/api_docs/python/tf/function for  more details.\n",
            "[CV] ............ batch_size=40, epochs=20, score=1.000, total=   1.0s\n",
            "[CV] batch_size=40, epochs=20 ........................................\n",
            "WARNING:tensorflow:5 out of the last 13 calls to <function Model.make_test_function.<locals>.test_function at 0x7f9ab3d0fa70> triggered tf.function retracing. Tracing is expensive and the excessive number of tracings could be due to (1) creating @tf.function repeatedly in a loop, (2) passing tensors with different shapes, (3) passing Python objects instead of tensors. For (1), please define your @tf.function outside of the loop. For (2), @tf.function has experimental_relax_shapes=True option that relaxes argument shapes that can avoid unnecessary retracing. For (3), please refer to https://www.tensorflow.org/guide/function#controlling_retracing and https://www.tensorflow.org/api_docs/python/tf/function for  more details.\n",
            "[CV] ............ batch_size=40, epochs=20, score=0.750, total=   1.0s\n",
            "[CV] batch_size=40, epochs=20 ........................................\n",
            "WARNING:tensorflow:5 out of the last 13 calls to <function Model.make_test_function.<locals>.test_function at 0x7f9aa689acb0> triggered tf.function retracing. Tracing is expensive and the excessive number of tracings could be due to (1) creating @tf.function repeatedly in a loop, (2) passing tensors with different shapes, (3) passing Python objects instead of tensors. For (1), please define your @tf.function outside of the loop. For (2), @tf.function has experimental_relax_shapes=True option that relaxes argument shapes that can avoid unnecessary retracing. For (3), please refer to https://www.tensorflow.org/guide/function#controlling_retracing and https://www.tensorflow.org/api_docs/python/tf/function for  more details.\n",
            "[CV] ............ batch_size=40, epochs=20, score=0.524, total=   1.0s\n",
            "[CV] batch_size=40, epochs=20 ........................................\n",
            "WARNING:tensorflow:5 out of the last 13 calls to <function Model.make_test_function.<locals>.test_function at 0x7f9ab83d7170> triggered tf.function retracing. Tracing is expensive and the excessive number of tracings could be due to (1) creating @tf.function repeatedly in a loop, (2) passing tensors with different shapes, (3) passing Python objects instead of tensors. For (1), please define your @tf.function outside of the loop. For (2), @tf.function has experimental_relax_shapes=True option that relaxes argument shapes that can avoid unnecessary retracing. For (3), please refer to https://www.tensorflow.org/guide/function#controlling_retracing and https://www.tensorflow.org/api_docs/python/tf/function for  more details.\n",
            "[CV] ............ batch_size=40, epochs=20, score=0.680, total=   1.0s\n",
            "[CV] batch_size=40, epochs=20 ........................................\n",
            "WARNING:tensorflow:5 out of the last 13 calls to <function Model.make_test_function.<locals>.test_function at 0x7f9ab8113a70> triggered tf.function retracing. Tracing is expensive and the excessive number of tracings could be due to (1) creating @tf.function repeatedly in a loop, (2) passing tensors with different shapes, (3) passing Python objects instead of tensors. For (1), please define your @tf.function outside of the loop. For (2), @tf.function has experimental_relax_shapes=True option that relaxes argument shapes that can avoid unnecessary retracing. For (3), please refer to https://www.tensorflow.org/guide/function#controlling_retracing and https://www.tensorflow.org/api_docs/python/tf/function for  more details.\n",
            "[CV] ............ batch_size=40, epochs=20, score=0.699, total=   1.0s\n",
            "[CV] batch_size=40, epochs=50 ........................................\n",
            "WARNING:tensorflow:5 out of the last 13 calls to <function Model.make_test_function.<locals>.test_function at 0x7f9ab8110cb0> triggered tf.function retracing. Tracing is expensive and the excessive number of tracings could be due to (1) creating @tf.function repeatedly in a loop, (2) passing tensors with different shapes, (3) passing Python objects instead of tensors. For (1), please define your @tf.function outside of the loop. For (2), @tf.function has experimental_relax_shapes=True option that relaxes argument shapes that can avoid unnecessary retracing. For (3), please refer to https://www.tensorflow.org/guide/function#controlling_retracing and https://www.tensorflow.org/api_docs/python/tf/function for  more details.\n",
            "[CV] ............ batch_size=40, epochs=50, score=1.000, total=   1.3s\n",
            "[CV] batch_size=40, epochs=50 ........................................\n",
            "WARNING:tensorflow:5 out of the last 13 calls to <function Model.make_test_function.<locals>.test_function at 0x7f9ab3ca1950> triggered tf.function retracing. Tracing is expensive and the excessive number of tracings could be due to (1) creating @tf.function repeatedly in a loop, (2) passing tensors with different shapes, (3) passing Python objects instead of tensors. For (1), please define your @tf.function outside of the loop. For (2), @tf.function has experimental_relax_shapes=True option that relaxes argument shapes that can avoid unnecessary retracing. For (3), please refer to https://www.tensorflow.org/guide/function#controlling_retracing and https://www.tensorflow.org/api_docs/python/tf/function for  more details.\n",
            "[CV] ............ batch_size=40, epochs=50, score=0.750, total=   1.3s\n",
            "[CV] batch_size=40, epochs=50 ........................................\n",
            "WARNING:tensorflow:5 out of the last 13 calls to <function Model.make_test_function.<locals>.test_function at 0x7f9aaa654320> triggered tf.function retracing. Tracing is expensive and the excessive number of tracings could be due to (1) creating @tf.function repeatedly in a loop, (2) passing tensors with different shapes, (3) passing Python objects instead of tensors. For (1), please define your @tf.function outside of the loop. For (2), @tf.function has experimental_relax_shapes=True option that relaxes argument shapes that can avoid unnecessary retracing. For (3), please refer to https://www.tensorflow.org/guide/function#controlling_retracing and https://www.tensorflow.org/api_docs/python/tf/function for  more details.\n",
            "[CV] ............ batch_size=40, epochs=50, score=0.524, total=   1.3s\n",
            "[CV] batch_size=40, epochs=50 ........................................\n",
            "WARNING:tensorflow:5 out of the last 13 calls to <function Model.make_test_function.<locals>.test_function at 0x7f9aab873290> triggered tf.function retracing. Tracing is expensive and the excessive number of tracings could be due to (1) creating @tf.function repeatedly in a loop, (2) passing tensors with different shapes, (3) passing Python objects instead of tensors. For (1), please define your @tf.function outside of the loop. For (2), @tf.function has experimental_relax_shapes=True option that relaxes argument shapes that can avoid unnecessary retracing. For (3), please refer to https://www.tensorflow.org/guide/function#controlling_retracing and https://www.tensorflow.org/api_docs/python/tf/function for  more details.\n",
            "[CV] ............ batch_size=40, epochs=50, score=0.680, total=   1.3s\n",
            "[CV] batch_size=40, epochs=50 ........................................\n",
            "WARNING:tensorflow:5 out of the last 13 calls to <function Model.make_test_function.<locals>.test_function at 0x7f9aa3340290> triggered tf.function retracing. Tracing is expensive and the excessive number of tracings could be due to (1) creating @tf.function repeatedly in a loop, (2) passing tensors with different shapes, (3) passing Python objects instead of tensors. For (1), please define your @tf.function outside of the loop. For (2), @tf.function has experimental_relax_shapes=True option that relaxes argument shapes that can avoid unnecessary retracing. For (3), please refer to https://www.tensorflow.org/guide/function#controlling_retracing and https://www.tensorflow.org/api_docs/python/tf/function for  more details.\n",
            "[CV] ............ batch_size=40, epochs=50, score=0.699, total=   1.4s\n",
            "[CV] batch_size=40, epochs=100 .......................................\n",
            "WARNING:tensorflow:5 out of the last 13 calls to <function Model.make_test_function.<locals>.test_function at 0x7f9aa3c21170> triggered tf.function retracing. Tracing is expensive and the excessive number of tracings could be due to (1) creating @tf.function repeatedly in a loop, (2) passing tensors with different shapes, (3) passing Python objects instead of tensors. For (1), please define your @tf.function outside of the loop. For (2), @tf.function has experimental_relax_shapes=True option that relaxes argument shapes that can avoid unnecessary retracing. For (3), please refer to https://www.tensorflow.org/guide/function#controlling_retracing and https://www.tensorflow.org/api_docs/python/tf/function for  more details.\n",
            "[CV] ........... batch_size=40, epochs=100, score=0.933, total=   1.9s\n",
            "[CV] batch_size=40, epochs=100 .......................................\n",
            "WARNING:tensorflow:5 out of the last 13 calls to <function Model.make_test_function.<locals>.test_function at 0x7f9ab3ea9a70> triggered tf.function retracing. Tracing is expensive and the excessive number of tracings could be due to (1) creating @tf.function repeatedly in a loop, (2) passing tensors with different shapes, (3) passing Python objects instead of tensors. For (1), please define your @tf.function outside of the loop. For (2), @tf.function has experimental_relax_shapes=True option that relaxes argument shapes that can avoid unnecessary retracing. For (3), please refer to https://www.tensorflow.org/guide/function#controlling_retracing and https://www.tensorflow.org/api_docs/python/tf/function for  more details.\n",
            "[CV] ........... batch_size=40, epochs=100, score=0.750, total=   2.4s\n",
            "[CV] batch_size=40, epochs=100 .......................................\n",
            "WARNING:tensorflow:5 out of the last 13 calls to <function Model.make_test_function.<locals>.test_function at 0x7f9ab804c290> triggered tf.function retracing. Tracing is expensive and the excessive number of tracings could be due to (1) creating @tf.function repeatedly in a loop, (2) passing tensors with different shapes, (3) passing Python objects instead of tensors. For (1), please define your @tf.function outside of the loop. For (2), @tf.function has experimental_relax_shapes=True option that relaxes argument shapes that can avoid unnecessary retracing. For (3), please refer to https://www.tensorflow.org/guide/function#controlling_retracing and https://www.tensorflow.org/api_docs/python/tf/function for  more details.\n",
            "[CV] ........... batch_size=40, epochs=100, score=0.524, total=   1.8s\n",
            "[CV] batch_size=40, epochs=100 .......................................\n",
            "WARNING:tensorflow:5 out of the last 13 calls to <function Model.make_test_function.<locals>.test_function at 0x7f9aa2b01830> triggered tf.function retracing. Tracing is expensive and the excessive number of tracings could be due to (1) creating @tf.function repeatedly in a loop, (2) passing tensors with different shapes, (3) passing Python objects instead of tensors. For (1), please define your @tf.function outside of the loop. For (2), @tf.function has experimental_relax_shapes=True option that relaxes argument shapes that can avoid unnecessary retracing. For (3), please refer to https://www.tensorflow.org/guide/function#controlling_retracing and https://www.tensorflow.org/api_docs/python/tf/function for  more details.\n",
            "[CV] ........... batch_size=40, epochs=100, score=0.689, total=   1.8s\n",
            "[CV] batch_size=40, epochs=100 .......................................\n",
            "WARNING:tensorflow:5 out of the last 13 calls to <function Model.make_test_function.<locals>.test_function at 0x7f9ab3fc4c20> triggered tf.function retracing. Tracing is expensive and the excessive number of tracings could be due to (1) creating @tf.function repeatedly in a loop, (2) passing tensors with different shapes, (3) passing Python objects instead of tensors. For (1), please define your @tf.function outside of the loop. For (2), @tf.function has experimental_relax_shapes=True option that relaxes argument shapes that can avoid unnecessary retracing. For (3), please refer to https://www.tensorflow.org/guide/function#controlling_retracing and https://www.tensorflow.org/api_docs/python/tf/function for  more details.\n",
            "[CV] ........... batch_size=40, epochs=100, score=0.689, total=   1.8s\n",
            "[CV] batch_size=100, epochs=10 .......................................\n",
            "WARNING:tensorflow:5 out of the last 13 calls to <function Model.make_test_function.<locals>.test_function at 0x7f9ab80fe8c0> triggered tf.function retracing. Tracing is expensive and the excessive number of tracings could be due to (1) creating @tf.function repeatedly in a loop, (2) passing tensors with different shapes, (3) passing Python objects instead of tensors. For (1), please define your @tf.function outside of the loop. For (2), @tf.function has experimental_relax_shapes=True option that relaxes argument shapes that can avoid unnecessary retracing. For (3), please refer to https://www.tensorflow.org/guide/function#controlling_retracing and https://www.tensorflow.org/api_docs/python/tf/function for  more details.\n",
            "[CV] ........... batch_size=100, epochs=10, score=1.000, total=   0.8s\n",
            "[CV] batch_size=100, epochs=10 .......................................\n",
            "WARNING:tensorflow:5 out of the last 12 calls to <function Model.make_test_function.<locals>.test_function at 0x7f9ab83d7cb0> triggered tf.function retracing. Tracing is expensive and the excessive number of tracings could be due to (1) creating @tf.function repeatedly in a loop, (2) passing tensors with different shapes, (3) passing Python objects instead of tensors. For (1), please define your @tf.function outside of the loop. For (2), @tf.function has experimental_relax_shapes=True option that relaxes argument shapes that can avoid unnecessary retracing. For (3), please refer to https://www.tensorflow.org/guide/function#controlling_retracing and https://www.tensorflow.org/api_docs/python/tf/function for  more details.\n",
            "[CV] ........... batch_size=100, epochs=10, score=0.750, total=   0.9s\n",
            "[CV] batch_size=100, epochs=10 .......................................\n",
            "WARNING:tensorflow:5 out of the last 11 calls to <function Model.make_test_function.<locals>.test_function at 0x7f9ab84f1e60> triggered tf.function retracing. Tracing is expensive and the excessive number of tracings could be due to (1) creating @tf.function repeatedly in a loop, (2) passing tensors with different shapes, (3) passing Python objects instead of tensors. For (1), please define your @tf.function outside of the loop. For (2), @tf.function has experimental_relax_shapes=True option that relaxes argument shapes that can avoid unnecessary retracing. For (3), please refer to https://www.tensorflow.org/guide/function#controlling_retracing and https://www.tensorflow.org/api_docs/python/tf/function for  more details.\n",
            "[CV] ........... batch_size=100, epochs=10, score=0.524, total=   0.8s\n",
            "[CV] batch_size=100, epochs=10 .......................................\n",
            "WARNING:tensorflow:6 out of the last 13 calls to <function Model.make_test_function.<locals>.test_function at 0x7f9ab3d0fc20> triggered tf.function retracing. Tracing is expensive and the excessive number of tracings could be due to (1) creating @tf.function repeatedly in a loop, (2) passing tensors with different shapes, (3) passing Python objects instead of tensors. For (1), please define your @tf.function outside of the loop. For (2), @tf.function has experimental_relax_shapes=True option that relaxes argument shapes that can avoid unnecessary retracing. For (3), please refer to https://www.tensorflow.org/guide/function#controlling_retracing and https://www.tensorflow.org/api_docs/python/tf/function for  more details.\n",
            "[CV] ........... batch_size=100, epochs=10, score=0.680, total=   0.8s\n",
            "[CV] batch_size=100, epochs=10 .......................................\n",
            "WARNING:tensorflow:6 out of the last 12 calls to <function Model.make_test_function.<locals>.test_function at 0x7f9aa3cdd440> triggered tf.function retracing. Tracing is expensive and the excessive number of tracings could be due to (1) creating @tf.function repeatedly in a loop, (2) passing tensors with different shapes, (3) passing Python objects instead of tensors. For (1), please define your @tf.function outside of the loop. For (2), @tf.function has experimental_relax_shapes=True option that relaxes argument shapes that can avoid unnecessary retracing. For (3), please refer to https://www.tensorflow.org/guide/function#controlling_retracing and https://www.tensorflow.org/api_docs/python/tf/function for  more details.\n",
            "[CV] ........... batch_size=100, epochs=10, score=0.699, total=   0.8s\n",
            "[CV] batch_size=100, epochs=20 .......................................\n",
            "WARNING:tensorflow:6 out of the last 11 calls to <function Model.make_test_function.<locals>.test_function at 0x7f9ab0c32440> triggered tf.function retracing. Tracing is expensive and the excessive number of tracings could be due to (1) creating @tf.function repeatedly in a loop, (2) passing tensors with different shapes, (3) passing Python objects instead of tensors. For (1), please define your @tf.function outside of the loop. For (2), @tf.function has experimental_relax_shapes=True option that relaxes argument shapes that can avoid unnecessary retracing. For (3), please refer to https://www.tensorflow.org/guide/function#controlling_retracing and https://www.tensorflow.org/api_docs/python/tf/function for  more details.\n",
            "[CV] ........... batch_size=100, epochs=20, score=1.000, total=   0.9s\n",
            "[CV] batch_size=100, epochs=20 .......................................\n",
            "WARNING:tensorflow:6 out of the last 11 calls to <function Model.make_test_function.<locals>.test_function at 0x7f9aa7a16ef0> triggered tf.function retracing. Tracing is expensive and the excessive number of tracings could be due to (1) creating @tf.function repeatedly in a loop, (2) passing tensors with different shapes, (3) passing Python objects instead of tensors. For (1), please define your @tf.function outside of the loop. For (2), @tf.function has experimental_relax_shapes=True option that relaxes argument shapes that can avoid unnecessary retracing. For (3), please refer to https://www.tensorflow.org/guide/function#controlling_retracing and https://www.tensorflow.org/api_docs/python/tf/function for  more details.\n",
            "[CV] ........... batch_size=100, epochs=20, score=0.750, total=   0.9s\n",
            "[CV] batch_size=100, epochs=20 .......................................\n",
            "WARNING:tensorflow:6 out of the last 11 calls to <function Model.make_test_function.<locals>.test_function at 0x7f9aa71f7200> triggered tf.function retracing. Tracing is expensive and the excessive number of tracings could be due to (1) creating @tf.function repeatedly in a loop, (2) passing tensors with different shapes, (3) passing Python objects instead of tensors. For (1), please define your @tf.function outside of the loop. For (2), @tf.function has experimental_relax_shapes=True option that relaxes argument shapes that can avoid unnecessary retracing. For (3), please refer to https://www.tensorflow.org/guide/function#controlling_retracing and https://www.tensorflow.org/api_docs/python/tf/function for  more details.\n",
            "[CV] ........... batch_size=100, epochs=20, score=0.524, total=   0.9s\n",
            "[CV] batch_size=100, epochs=20 .......................................\n",
            "WARNING:tensorflow:6 out of the last 11 calls to <function Model.make_test_function.<locals>.test_function at 0x7f9aab8c0710> triggered tf.function retracing. Tracing is expensive and the excessive number of tracings could be due to (1) creating @tf.function repeatedly in a loop, (2) passing tensors with different shapes, (3) passing Python objects instead of tensors. For (1), please define your @tf.function outside of the loop. For (2), @tf.function has experimental_relax_shapes=True option that relaxes argument shapes that can avoid unnecessary retracing. For (3), please refer to https://www.tensorflow.org/guide/function#controlling_retracing and https://www.tensorflow.org/api_docs/python/tf/function for  more details.\n",
            "[CV] ........... batch_size=100, epochs=20, score=0.680, total=   0.9s\n",
            "[CV] batch_size=100, epochs=20 .......................................\n",
            "WARNING:tensorflow:6 out of the last 11 calls to <function Model.make_test_function.<locals>.test_function at 0x7f9ab835aa70> triggered tf.function retracing. Tracing is expensive and the excessive number of tracings could be due to (1) creating @tf.function repeatedly in a loop, (2) passing tensors with different shapes, (3) passing Python objects instead of tensors. For (1), please define your @tf.function outside of the loop. For (2), @tf.function has experimental_relax_shapes=True option that relaxes argument shapes that can avoid unnecessary retracing. For (3), please refer to https://www.tensorflow.org/guide/function#controlling_retracing and https://www.tensorflow.org/api_docs/python/tf/function for  more details.\n",
            "[CV] ........... batch_size=100, epochs=20, score=0.699, total=   1.5s\n",
            "[CV] batch_size=100, epochs=50 .......................................\n",
            "WARNING:tensorflow:6 out of the last 11 calls to <function Model.make_test_function.<locals>.test_function at 0x7f9ab1577560> triggered tf.function retracing. Tracing is expensive and the excessive number of tracings could be due to (1) creating @tf.function repeatedly in a loop, (2) passing tensors with different shapes, (3) passing Python objects instead of tensors. For (1), please define your @tf.function outside of the loop. For (2), @tf.function has experimental_relax_shapes=True option that relaxes argument shapes that can avoid unnecessary retracing. For (3), please refer to https://www.tensorflow.org/guide/function#controlling_retracing and https://www.tensorflow.org/api_docs/python/tf/function for  more details.\n",
            "[CV] ........... batch_size=100, epochs=50, score=1.000, total=   1.1s\n",
            "[CV] batch_size=100, epochs=50 .......................................\n",
            "WARNING:tensorflow:6 out of the last 11 calls to <function Model.make_test_function.<locals>.test_function at 0x7f9aa33405f0> triggered tf.function retracing. Tracing is expensive and the excessive number of tracings could be due to (1) creating @tf.function repeatedly in a loop, (2) passing tensors with different shapes, (3) passing Python objects instead of tensors. For (1), please define your @tf.function outside of the loop. For (2), @tf.function has experimental_relax_shapes=True option that relaxes argument shapes that can avoid unnecessary retracing. For (3), please refer to https://www.tensorflow.org/guide/function#controlling_retracing and https://www.tensorflow.org/api_docs/python/tf/function for  more details.\n",
            "[CV] ........... batch_size=100, epochs=50, score=0.750, total=   1.1s\n",
            "[CV] batch_size=100, epochs=50 .......................................\n",
            "WARNING:tensorflow:6 out of the last 11 calls to <function Model.make_test_function.<locals>.test_function at 0x7f9aa45329e0> triggered tf.function retracing. Tracing is expensive and the excessive number of tracings could be due to (1) creating @tf.function repeatedly in a loop, (2) passing tensors with different shapes, (3) passing Python objects instead of tensors. For (1), please define your @tf.function outside of the loop. For (2), @tf.function has experimental_relax_shapes=True option that relaxes argument shapes that can avoid unnecessary retracing. For (3), please refer to https://www.tensorflow.org/guide/function#controlling_retracing and https://www.tensorflow.org/api_docs/python/tf/function for  more details.\n",
            "[CV] ........... batch_size=100, epochs=50, score=0.524, total=   1.1s\n",
            "[CV] batch_size=100, epochs=50 .......................................\n",
            "WARNING:tensorflow:6 out of the last 11 calls to <function Model.make_test_function.<locals>.test_function at 0x7f9ab811e560> triggered tf.function retracing. Tracing is expensive and the excessive number of tracings could be due to (1) creating @tf.function repeatedly in a loop, (2) passing tensors with different shapes, (3) passing Python objects instead of tensors. For (1), please define your @tf.function outside of the loop. For (2), @tf.function has experimental_relax_shapes=True option that relaxes argument shapes that can avoid unnecessary retracing. For (3), please refer to https://www.tensorflow.org/guide/function#controlling_retracing and https://www.tensorflow.org/api_docs/python/tf/function for  more details.\n",
            "[CV] ........... batch_size=100, epochs=50, score=0.680, total=   1.1s\n",
            "[CV] batch_size=100, epochs=50 .......................................\n",
            "WARNING:tensorflow:6 out of the last 11 calls to <function Model.make_test_function.<locals>.test_function at 0x7f9ab80b2200> triggered tf.function retracing. Tracing is expensive and the excessive number of tracings could be due to (1) creating @tf.function repeatedly in a loop, (2) passing tensors with different shapes, (3) passing Python objects instead of tensors. For (1), please define your @tf.function outside of the loop. For (2), @tf.function has experimental_relax_shapes=True option that relaxes argument shapes that can avoid unnecessary retracing. For (3), please refer to https://www.tensorflow.org/guide/function#controlling_retracing and https://www.tensorflow.org/api_docs/python/tf/function for  more details.\n",
            "[CV] ........... batch_size=100, epochs=50, score=0.699, total=   1.1s\n",
            "[CV] batch_size=100, epochs=100 ......................................\n",
            "WARNING:tensorflow:6 out of the last 11 calls to <function Model.make_test_function.<locals>.test_function at 0x7f9ab83d79e0> triggered tf.function retracing. Tracing is expensive and the excessive number of tracings could be due to (1) creating @tf.function repeatedly in a loop, (2) passing tensors with different shapes, (3) passing Python objects instead of tensors. For (1), please define your @tf.function outside of the loop. For (2), @tf.function has experimental_relax_shapes=True option that relaxes argument shapes that can avoid unnecessary retracing. For (3), please refer to https://www.tensorflow.org/guide/function#controlling_retracing and https://www.tensorflow.org/api_docs/python/tf/function for  more details.\n",
            "[CV] .......... batch_size=100, epochs=100, score=1.000, total=   1.3s\n",
            "[CV] batch_size=100, epochs=100 ......................................\n",
            "WARNING:tensorflow:6 out of the last 11 calls to <function Model.make_test_function.<locals>.test_function at 0x7f9ab8116320> triggered tf.function retracing. Tracing is expensive and the excessive number of tracings could be due to (1) creating @tf.function repeatedly in a loop, (2) passing tensors with different shapes, (3) passing Python objects instead of tensors. For (1), please define your @tf.function outside of the loop. For (2), @tf.function has experimental_relax_shapes=True option that relaxes argument shapes that can avoid unnecessary retracing. For (3), please refer to https://www.tensorflow.org/guide/function#controlling_retracing and https://www.tensorflow.org/api_docs/python/tf/function for  more details.\n",
            "[CV] .......... batch_size=100, epochs=100, score=0.750, total=   1.3s\n",
            "[CV] batch_size=100, epochs=100 ......................................\n",
            "WARNING:tensorflow:6 out of the last 11 calls to <function Model.make_test_function.<locals>.test_function at 0x7f9ab84225f0> triggered tf.function retracing. Tracing is expensive and the excessive number of tracings could be due to (1) creating @tf.function repeatedly in a loop, (2) passing tensors with different shapes, (3) passing Python objects instead of tensors. For (1), please define your @tf.function outside of the loop. For (2), @tf.function has experimental_relax_shapes=True option that relaxes argument shapes that can avoid unnecessary retracing. For (3), please refer to https://www.tensorflow.org/guide/function#controlling_retracing and https://www.tensorflow.org/api_docs/python/tf/function for  more details.\n",
            "[CV] .......... batch_size=100, epochs=100, score=0.524, total=   1.4s\n",
            "[CV] batch_size=100, epochs=100 ......................................\n",
            "WARNING:tensorflow:6 out of the last 11 calls to <function Model.make_test_function.<locals>.test_function at 0x7f9ab804c200> triggered tf.function retracing. Tracing is expensive and the excessive number of tracings could be due to (1) creating @tf.function repeatedly in a loop, (2) passing tensors with different shapes, (3) passing Python objects instead of tensors. For (1), please define your @tf.function outside of the loop. For (2), @tf.function has experimental_relax_shapes=True option that relaxes argument shapes that can avoid unnecessary retracing. For (3), please refer to https://www.tensorflow.org/guide/function#controlling_retracing and https://www.tensorflow.org/api_docs/python/tf/function for  more details.\n",
            "[CV] .......... batch_size=100, epochs=100, score=0.680, total=   1.3s\n",
            "[CV] batch_size=100, epochs=100 ......................................\n",
            "WARNING:tensorflow:6 out of the last 11 calls to <function Model.make_test_function.<locals>.test_function at 0x7f9aaa6fa320> triggered tf.function retracing. Tracing is expensive and the excessive number of tracings could be due to (1) creating @tf.function repeatedly in a loop, (2) passing tensors with different shapes, (3) passing Python objects instead of tensors. For (1), please define your @tf.function outside of the loop. For (2), @tf.function has experimental_relax_shapes=True option that relaxes argument shapes that can avoid unnecessary retracing. For (3), please refer to https://www.tensorflow.org/guide/function#controlling_retracing and https://www.tensorflow.org/api_docs/python/tf/function for  more details.\n",
            "[CV] .......... batch_size=100, epochs=100, score=0.699, total=   1.3s\n"
          ],
          "name": "stdout"
        },
        {
          "output_type": "stream",
          "text": [
            "[Parallel(n_jobs=1)]: Done  80 out of  80 | elapsed:  2.2min finished\n"
          ],
          "name": "stderr"
        }
      ]
    },
    {
      "cell_type": "code",
      "metadata": {
        "colab": {
          "base_uri": "https://localhost:8080/"
        },
        "id": "8LnQ8Fmrd-OU",
        "outputId": "64c51637-0308-4dee-ccb6-2314d030cf5d"
      },
      "source": [
        "# summerize results\n",
        "print('Best:{}, using {}'.format(grid_results.best_score_, grid_results.best_params_))\n",
        "means= grid_results.cv_results_['mean_test_score']\n",
        "stds= grid_results.cv_results_['std_test_score']\n",
        "params= grid_results.cv_results_['params']\n",
        "for mean, stdev, param in zip(means, stds, params):\n",
        "  print('{},{} with: {}'.format(mean, stdev, param))"
      ],
      "execution_count": 99,
      "outputs": [
        {
          "output_type": "stream",
          "text": [
            "Best:0.773226284980774, using {'batch_size': 10, 'epochs': 100}\n",
            "0.7305825233459473,0.15435061319000673 with: {'batch_size': 10, 'epochs': 10}\n",
            "0.728659451007843,0.1510055827692834 with: {'batch_size': 10, 'epochs': 20}\n",
            "0.7114077687263489,0.11296816357725956 with: {'batch_size': 10, 'epochs': 50}\n",
            "0.773226284980774,0.12513596037961197 with: {'batch_size': 10, 'epochs': 100}\n",
            "0.7305825233459473,0.15435061319000673 with: {'batch_size': 20, 'epochs': 10}\n",
            "0.7305825233459473,0.15435061319000673 with: {'batch_size': 20, 'epochs': 20}\n",
            "0.7190440654754638,0.13468233523501624 with: {'batch_size': 20, 'epochs': 50}\n",
            "0.7519417524337768,0.12703296332602873 with: {'batch_size': 20, 'epochs': 100}\n",
            "0.7305825233459473,0.15435061319000673 with: {'batch_size': 40, 'epochs': 10}\n",
            "0.7305825233459473,0.15435061319000673 with: {'batch_size': 40, 'epochs': 20}\n",
            "0.7305825233459473,0.15435061319000673 with: {'batch_size': 40, 'epochs': 50}\n",
            "0.7171209812164306,0.13136860663109784 with: {'batch_size': 40, 'epochs': 100}\n",
            "0.7305825233459473,0.15435061319000673 with: {'batch_size': 100, 'epochs': 10}\n",
            "0.7305825233459473,0.15435061319000673 with: {'batch_size': 100, 'epochs': 20}\n",
            "0.7305825233459473,0.15435061319000673 with: {'batch_size': 100, 'epochs': 50}\n",
            "0.7305825233459473,0.15435061319000673 with: {'batch_size': 100, 'epochs': 100}\n"
          ],
          "name": "stdout"
        }
      ]
    },
    {
      "cell_type": "code",
      "metadata": {
        "colab": {
          "base_uri": "https://localhost:8080/"
        },
        "id": "z9rNXNyGitl3",
        "outputId": "84ea1bed-d64a-4f36-f075-d5dea0df0e39"
      },
      "source": [
        "# Tuning hyperparameter: Learning rate and dropout rate\n",
        "# Create sequential model:\n",
        "def base_model_lr_drate(learning_rate,dropout_rate):\n",
        "  model= Sequential()\n",
        "  model.add(Dense(12, input_dim=28, kernel_initializer='uniform', activation='relu'))\n",
        "  model.add(Dropout(dropout_rate))\n",
        "  model.add(Dense(8, kernel_initializer='uniform', activation='relu'))\n",
        "  model.add(Dropout(dropout_rate))\n",
        "  model.add(Dense(8, kernel_initializer='uniform', activation='relu'))\n",
        "  model.add(Dropout(dropout_rate))\n",
        "  # output layer\n",
        "  model.add(Dense(1, kernel_initializer='uniform', activation='sigmoid'))\n",
        "  # optimizer \n",
        "  adam= Adam(learning_rate=learning_rate)\n",
        "  # Compile model\n",
        "  model.compile(loss= \"binary_crossentropy\", optimizer= adam, metrics= ['accuracy'])\n",
        "  return model\n",
        "\n",
        "# Define clasification model\n",
        "classifier= KerasClassifier(build_fn=base_model_lr_drate, verbose= 0, batch_size=10, epochs=100)\n",
        "# Define GridSearch Model\n",
        "learning_rate= [0.001, 0.01, 0.10, 0.2, 0.5]\n",
        "dropout_rate= [0, 0.1, 0.2, 0.5]\n",
        "# make a Dictionary to store grid parameters\n",
        "grid_param= dict(learning_rate=learning_rate, dropout_rate=dropout_rate )\n",
        "# Build & Fit the gridsearchCV\n",
        "grid= GridSearchCV(estimator=classifier, param_grid=grid_param, cv= KFold(), verbose=10, return_train_score=True )\n",
        "grid_results= grid.fit(x,y)"
      ],
      "execution_count": 109,
      "outputs": [
        {
          "output_type": "stream",
          "text": [
            "Fitting 5 folds for each of 20 candidates, totalling 100 fits\n",
            "[CV] dropout_rate=0, learning_rate=0.001 .............................\n"
          ],
          "name": "stdout"
        },
        {
          "output_type": "stream",
          "text": [
            "[Parallel(n_jobs=1)]: Using backend SequentialBackend with 1 concurrent workers.\n"
          ],
          "name": "stderr"
        },
        {
          "output_type": "stream",
          "text": [
            "[CV]  dropout_rate=0, learning_rate=0.001, score=(train=0.923, test=0.971), total=   4.9s\n",
            "[CV] dropout_rate=0, learning_rate=0.001 .............................\n"
          ],
          "name": "stdout"
        },
        {
          "output_type": "stream",
          "text": [
            "[Parallel(n_jobs=1)]: Done   1 out of   1 | elapsed:    5.0s remaining:    0.0s\n"
          ],
          "name": "stderr"
        },
        {
          "output_type": "stream",
          "text": [
            "[CV]  dropout_rate=0, learning_rate=0.001, score=(train=0.920, test=0.788), total=   4.7s\n",
            "[CV] dropout_rate=0, learning_rate=0.001 .............................\n"
          ],
          "name": "stdout"
        },
        {
          "output_type": "stream",
          "text": [
            "[Parallel(n_jobs=1)]: Done   2 out of   2 | elapsed:    9.9s remaining:    0.0s\n"
          ],
          "name": "stderr"
        },
        {
          "output_type": "stream",
          "text": [
            "[CV]  dropout_rate=0, learning_rate=0.001, score=(train=0.824, test=0.592), total=   4.9s\n",
            "[CV] dropout_rate=0, learning_rate=0.001 .............................\n"
          ],
          "name": "stdout"
        },
        {
          "output_type": "stream",
          "text": [
            "[Parallel(n_jobs=1)]: Done   3 out of   3 | elapsed:   14.9s remaining:    0.0s\n"
          ],
          "name": "stderr"
        },
        {
          "output_type": "stream",
          "text": [
            "[CV]  dropout_rate=0, learning_rate=0.001, score=(train=0.915, test=0.835), total=   4.7s\n",
            "[CV] dropout_rate=0, learning_rate=0.001 .............................\n"
          ],
          "name": "stdout"
        },
        {
          "output_type": "stream",
          "text": [
            "[Parallel(n_jobs=1)]: Done   4 out of   4 | elapsed:   19.7s remaining:    0.0s\n"
          ],
          "name": "stderr"
        },
        {
          "output_type": "stream",
          "text": [
            "[CV]  dropout_rate=0, learning_rate=0.001, score=(train=0.821, test=0.699), total=   4.7s\n",
            "[CV] dropout_rate=0, learning_rate=0.01 ..............................\n"
          ],
          "name": "stdout"
        },
        {
          "output_type": "stream",
          "text": [
            "[Parallel(n_jobs=1)]: Done   5 out of   5 | elapsed:   24.4s remaining:    0.0s\n"
          ],
          "name": "stderr"
        },
        {
          "output_type": "stream",
          "text": [
            "[CV]  dropout_rate=0, learning_rate=0.01, score=(train=0.976, test=0.933), total=   4.6s\n",
            "[CV] dropout_rate=0, learning_rate=0.01 ..............................\n"
          ],
          "name": "stdout"
        },
        {
          "output_type": "stream",
          "text": [
            "[Parallel(n_jobs=1)]: Done   6 out of   6 | elapsed:   29.2s remaining:    0.0s\n"
          ],
          "name": "stderr"
        },
        {
          "output_type": "stream",
          "text": [
            "[CV]  dropout_rate=0, learning_rate=0.01, score=(train=0.726, test=0.750), total=   4.7s\n",
            "[CV] dropout_rate=0, learning_rate=0.01 ..............................\n"
          ],
          "name": "stdout"
        },
        {
          "output_type": "stream",
          "text": [
            "[Parallel(n_jobs=1)]: Done   7 out of   7 | elapsed:   34.0s remaining:    0.0s\n"
          ],
          "name": "stderr"
        },
        {
          "output_type": "stream",
          "text": [
            "[CV]  dropout_rate=0, learning_rate=0.01, score=(train=0.969, test=0.845), total=   4.6s\n",
            "[CV] dropout_rate=0, learning_rate=0.01 ..............................\n"
          ],
          "name": "stdout"
        },
        {
          "output_type": "stream",
          "text": [
            "[Parallel(n_jobs=1)]: Done   8 out of   8 | elapsed:   38.8s remaining:    0.0s\n"
          ],
          "name": "stderr"
        },
        {
          "output_type": "stream",
          "text": [
            "[CV]  dropout_rate=0, learning_rate=0.01, score=(train=0.744, test=0.680), total=   4.7s\n",
            "[CV] dropout_rate=0, learning_rate=0.01 ..............................\n"
          ],
          "name": "stdout"
        },
        {
          "output_type": "stream",
          "text": [
            "[Parallel(n_jobs=1)]: Done   9 out of   9 | elapsed:   43.5s remaining:    0.0s\n"
          ],
          "name": "stderr"
        },
        {
          "output_type": "stream",
          "text": [
            "[CV]  dropout_rate=0, learning_rate=0.01, score=(train=0.973, test=0.874), total=   5.1s\n",
            "[CV] dropout_rate=0, learning_rate=0.1 ...............................\n",
            "[CV]  dropout_rate=0, learning_rate=0.1, score=(train=0.663, test=1.000), total=   4.6s\n",
            "[CV] dropout_rate=0, learning_rate=0.1 ...............................\n",
            "[CV]  dropout_rate=0, learning_rate=0.1, score=(train=0.726, test=0.750), total=   4.6s\n",
            "[CV] dropout_rate=0, learning_rate=0.1 ...............................\n",
            "[CV]  dropout_rate=0, learning_rate=0.1, score=(train=0.783, test=0.524), total=   4.6s\n",
            "[CV] dropout_rate=0, learning_rate=0.1 ...............................\n",
            "[CV]  dropout_rate=0, learning_rate=0.1, score=(train=0.744, test=0.680), total=   4.7s\n",
            "[CV] dropout_rate=0, learning_rate=0.1 ...............................\n",
            "[CV]  dropout_rate=0, learning_rate=0.1, score=(train=0.739, test=0.699), total=   4.6s\n",
            "[CV] dropout_rate=0, learning_rate=0.2 ...............................\n",
            "[CV]  dropout_rate=0, learning_rate=0.2, score=(train=0.663, test=1.000), total=   4.7s\n",
            "[CV] dropout_rate=0, learning_rate=0.2 ...............................\n",
            "[CV]  dropout_rate=0, learning_rate=0.2, score=(train=0.726, test=0.750), total=   4.6s\n",
            "[CV] dropout_rate=0, learning_rate=0.2 ...............................\n",
            "[CV]  dropout_rate=0, learning_rate=0.2, score=(train=0.783, test=0.524), total=   4.5s\n",
            "[CV] dropout_rate=0, learning_rate=0.2 ...............................\n",
            "[CV]  dropout_rate=0, learning_rate=0.2, score=(train=0.744, test=0.680), total=   4.6s\n",
            "[CV] dropout_rate=0, learning_rate=0.2 ...............................\n",
            "[CV]  dropout_rate=0, learning_rate=0.2, score=(train=0.739, test=0.699), total=   4.7s\n",
            "[CV] dropout_rate=0, learning_rate=0.5 ...............................\n",
            "[CV]  dropout_rate=0, learning_rate=0.5, score=(train=0.663, test=1.000), total=   4.6s\n",
            "[CV] dropout_rate=0, learning_rate=0.5 ...............................\n",
            "[CV]  dropout_rate=0, learning_rate=0.5, score=(train=0.726, test=0.750), total=   5.1s\n",
            "[CV] dropout_rate=0, learning_rate=0.5 ...............................\n",
            "[CV]  dropout_rate=0, learning_rate=0.5, score=(train=0.783, test=0.524), total=   4.7s\n",
            "[CV] dropout_rate=0, learning_rate=0.5 ...............................\n",
            "[CV]  dropout_rate=0, learning_rate=0.5, score=(train=0.744, test=0.680), total=   4.6s\n",
            "[CV] dropout_rate=0, learning_rate=0.5 ...............................\n",
            "[CV]  dropout_rate=0, learning_rate=0.5, score=(train=0.739, test=0.699), total=   4.6s\n",
            "[CV] dropout_rate=0.1, learning_rate=0.001 ...........................\n",
            "[CV]  dropout_rate=0.1, learning_rate=0.001, score=(train=0.898, test=0.990), total=   4.7s\n",
            "[CV] dropout_rate=0.1, learning_rate=0.001 ...........................\n",
            "[CV]  dropout_rate=0.1, learning_rate=0.001, score=(train=0.896, test=0.760), total=   4.6s\n",
            "[CV] dropout_rate=0.1, learning_rate=0.001 ...........................\n",
            "[CV]  dropout_rate=0.1, learning_rate=0.001, score=(train=0.783, test=0.524), total=   4.6s\n",
            "[CV] dropout_rate=0.1, learning_rate=0.001 ...........................\n",
            "[CV]  dropout_rate=0.1, learning_rate=0.001, score=(train=0.908, test=0.835), total=   4.7s\n",
            "[CV] dropout_rate=0.1, learning_rate=0.001 ...........................\n",
            "[CV]  dropout_rate=0.1, learning_rate=0.001, score=(train=0.913, test=0.718), total=   4.7s\n",
            "[CV] dropout_rate=0.1, learning_rate=0.01 ............................\n",
            "[CV]  dropout_rate=0.1, learning_rate=0.01, score=(train=0.939, test=0.923), total=   4.6s\n",
            "[CV] dropout_rate=0.1, learning_rate=0.01 ............................\n",
            "[CV]  dropout_rate=0.1, learning_rate=0.01, score=(train=0.983, test=0.817), total=   4.7s\n",
            "[CV] dropout_rate=0.1, learning_rate=0.01 ............................\n",
            "[CV]  dropout_rate=0.1, learning_rate=0.01, score=(train=0.983, test=0.796), total=   4.7s\n",
            "[CV] dropout_rate=0.1, learning_rate=0.01 ............................\n",
            "[CV]  dropout_rate=0.1, learning_rate=0.01, score=(train=0.983, test=0.883), total=   4.7s\n",
            "[CV] dropout_rate=0.1, learning_rate=0.01 ............................\n",
            "[CV]  dropout_rate=0.1, learning_rate=0.01, score=(train=0.954, test=0.835), total=   5.2s\n",
            "[CV] dropout_rate=0.1, learning_rate=0.1 .............................\n",
            "[CV]  dropout_rate=0.1, learning_rate=0.1, score=(train=0.663, test=1.000), total=   4.6s\n",
            "[CV] dropout_rate=0.1, learning_rate=0.1 .............................\n",
            "[CV]  dropout_rate=0.1, learning_rate=0.1, score=(train=0.726, test=0.750), total=   4.6s\n",
            "[CV] dropout_rate=0.1, learning_rate=0.1 .............................\n",
            "[CV]  dropout_rate=0.1, learning_rate=0.1, score=(train=0.783, test=0.524), total=   4.6s\n",
            "[CV] dropout_rate=0.1, learning_rate=0.1 .............................\n",
            "[CV]  dropout_rate=0.1, learning_rate=0.1, score=(train=0.744, test=0.680), total=   4.8s\n",
            "[CV] dropout_rate=0.1, learning_rate=0.1 .............................\n",
            "[CV]  dropout_rate=0.1, learning_rate=0.1, score=(train=0.739, test=0.699), total=   4.6s\n",
            "[CV] dropout_rate=0.1, learning_rate=0.2 .............................\n",
            "[CV]  dropout_rate=0.1, learning_rate=0.2, score=(train=0.663, test=1.000), total=   4.6s\n",
            "[CV] dropout_rate=0.1, learning_rate=0.2 .............................\n",
            "[CV]  dropout_rate=0.1, learning_rate=0.2, score=(train=0.726, test=0.750), total=   4.6s\n",
            "[CV] dropout_rate=0.1, learning_rate=0.2 .............................\n",
            "[CV]  dropout_rate=0.1, learning_rate=0.2, score=(train=0.783, test=0.524), total=   4.6s\n",
            "[CV] dropout_rate=0.1, learning_rate=0.2 .............................\n",
            "[CV]  dropout_rate=0.1, learning_rate=0.2, score=(train=0.744, test=0.680), total=   4.6s\n",
            "[CV] dropout_rate=0.1, learning_rate=0.2 .............................\n",
            "[CV]  dropout_rate=0.1, learning_rate=0.2, score=(train=0.739, test=0.699), total=   4.6s\n",
            "[CV] dropout_rate=0.1, learning_rate=0.5 .............................\n",
            "[CV]  dropout_rate=0.1, learning_rate=0.5, score=(train=0.663, test=1.000), total=   5.1s\n",
            "[CV] dropout_rate=0.1, learning_rate=0.5 .............................\n",
            "[CV]  dropout_rate=0.1, learning_rate=0.5, score=(train=0.726, test=0.750), total=   4.6s\n",
            "[CV] dropout_rate=0.1, learning_rate=0.5 .............................\n",
            "[CV]  dropout_rate=0.1, learning_rate=0.5, score=(train=0.783, test=0.524), total=   4.6s\n",
            "[CV] dropout_rate=0.1, learning_rate=0.5 .............................\n",
            "[CV]  dropout_rate=0.1, learning_rate=0.5, score=(train=0.744, test=0.680), total=   4.7s\n",
            "[CV] dropout_rate=0.1, learning_rate=0.5 .............................\n",
            "[CV]  dropout_rate=0.1, learning_rate=0.5, score=(train=0.739, test=0.699), total=   4.6s\n",
            "[CV] dropout_rate=0.2, learning_rate=0.001 ...........................\n",
            "[CV]  dropout_rate=0.2, learning_rate=0.001, score=(train=0.901, test=0.990), total=   4.7s\n",
            "[CV] dropout_rate=0.2, learning_rate=0.001 ...........................\n",
            "[CV]  dropout_rate=0.2, learning_rate=0.001, score=(train=0.898, test=0.769), total=   4.8s\n",
            "[CV] dropout_rate=0.2, learning_rate=0.001 ...........................\n",
            "[CV]  dropout_rate=0.2, learning_rate=0.001, score=(train=0.783, test=0.524), total=   4.6s\n",
            "[CV] dropout_rate=0.2, learning_rate=0.001 ...........................\n",
            "[CV]  dropout_rate=0.2, learning_rate=0.001, score=(train=0.874, test=0.777), total=   4.7s\n",
            "[CV] dropout_rate=0.2, learning_rate=0.001 ...........................\n",
            "[CV]  dropout_rate=0.2, learning_rate=0.001, score=(train=0.865, test=0.767), total=   4.6s\n",
            "[CV] dropout_rate=0.2, learning_rate=0.01 ............................\n",
            "[CV]  dropout_rate=0.2, learning_rate=0.01, score=(train=0.731, test=0.779), total=   4.7s\n",
            "[CV] dropout_rate=0.2, learning_rate=0.01 ............................\n",
            "[CV]  dropout_rate=0.2, learning_rate=0.01, score=(train=0.918, test=0.750), total=   4.7s\n",
            "[CV] dropout_rate=0.2, learning_rate=0.01 ............................\n",
            "[CV]  dropout_rate=0.2, learning_rate=0.01, score=(train=0.932, test=0.738), total=   4.6s\n",
            "[CV] dropout_rate=0.2, learning_rate=0.01 ............................\n",
            "[CV]  dropout_rate=0.2, learning_rate=0.01, score=(train=0.957, test=0.854), total=   5.3s\n",
            "[CV] dropout_rate=0.2, learning_rate=0.01 ............................\n",
            "[CV]  dropout_rate=0.2, learning_rate=0.01, score=(train=0.966, test=0.854), total=   4.7s\n",
            "[CV] dropout_rate=0.2, learning_rate=0.1 .............................\n",
            "[CV]  dropout_rate=0.2, learning_rate=0.1, score=(train=0.663, test=1.000), total=   4.6s\n",
            "[CV] dropout_rate=0.2, learning_rate=0.1 .............................\n",
            "[CV]  dropout_rate=0.2, learning_rate=0.1, score=(train=0.726, test=0.750), total=   4.7s\n",
            "[CV] dropout_rate=0.2, learning_rate=0.1 .............................\n",
            "[CV]  dropout_rate=0.2, learning_rate=0.1, score=(train=0.783, test=0.524), total=   4.6s\n",
            "[CV] dropout_rate=0.2, learning_rate=0.1 .............................\n",
            "[CV]  dropout_rate=0.2, learning_rate=0.1, score=(train=0.744, test=0.680), total=   4.7s\n",
            "[CV] dropout_rate=0.2, learning_rate=0.1 .............................\n",
            "[CV]  dropout_rate=0.2, learning_rate=0.1, score=(train=0.739, test=0.699), total=   4.7s\n",
            "[CV] dropout_rate=0.2, learning_rate=0.2 .............................\n",
            "[CV]  dropout_rate=0.2, learning_rate=0.2, score=(train=0.663, test=1.000), total=   4.7s\n",
            "[CV] dropout_rate=0.2, learning_rate=0.2 .............................\n",
            "[CV]  dropout_rate=0.2, learning_rate=0.2, score=(train=0.726, test=0.750), total=   4.7s\n",
            "[CV] dropout_rate=0.2, learning_rate=0.2 .............................\n",
            "[CV]  dropout_rate=0.2, learning_rate=0.2, score=(train=0.783, test=0.524), total=   4.8s\n",
            "[CV] dropout_rate=0.2, learning_rate=0.2 .............................\n",
            "[CV]  dropout_rate=0.2, learning_rate=0.2, score=(train=0.744, test=0.680), total=   4.7s\n",
            "[CV] dropout_rate=0.2, learning_rate=0.2 .............................\n",
            "[CV]  dropout_rate=0.2, learning_rate=0.2, score=(train=0.739, test=0.699), total=   5.3s\n",
            "[CV] dropout_rate=0.2, learning_rate=0.5 .............................\n",
            "[CV]  dropout_rate=0.2, learning_rate=0.5, score=(train=0.663, test=1.000), total=   4.7s\n",
            "[CV] dropout_rate=0.2, learning_rate=0.5 .............................\n",
            "[CV]  dropout_rate=0.2, learning_rate=0.5, score=(train=0.726, test=0.750), total=   4.7s\n",
            "[CV] dropout_rate=0.2, learning_rate=0.5 .............................\n",
            "[CV]  dropout_rate=0.2, learning_rate=0.5, score=(train=0.783, test=0.524), total=   4.7s\n",
            "[CV] dropout_rate=0.2, learning_rate=0.5 .............................\n",
            "[CV]  dropout_rate=0.2, learning_rate=0.5, score=(train=0.744, test=0.680), total=   4.7s\n",
            "[CV] dropout_rate=0.2, learning_rate=0.5 .............................\n",
            "[CV]  dropout_rate=0.2, learning_rate=0.5, score=(train=0.739, test=0.699), total=   4.6s\n",
            "[CV] dropout_rate=0.5, learning_rate=0.001 ...........................\n",
            "[CV]  dropout_rate=0.5, learning_rate=0.001, score=(train=0.663, test=1.000), total=   4.6s\n",
            "[CV] dropout_rate=0.5, learning_rate=0.001 ...........................\n",
            "[CV]  dropout_rate=0.5, learning_rate=0.001, score=(train=0.726, test=0.750), total=   4.7s\n",
            "[CV] dropout_rate=0.5, learning_rate=0.001 ...........................\n",
            "[CV]  dropout_rate=0.5, learning_rate=0.001, score=(train=0.783, test=0.524), total=   4.7s\n",
            "[CV] dropout_rate=0.5, learning_rate=0.001 ...........................\n",
            "[CV]  dropout_rate=0.5, learning_rate=0.001, score=(train=0.744, test=0.680), total=   4.6s\n",
            "[CV] dropout_rate=0.5, learning_rate=0.001 ...........................\n",
            "[CV]  dropout_rate=0.5, learning_rate=0.001, score=(train=0.739, test=0.699), total=   4.7s\n",
            "[CV] dropout_rate=0.5, learning_rate=0.01 ............................\n",
            "[CV]  dropout_rate=0.5, learning_rate=0.01, score=(train=0.663, test=1.000), total=   4.7s\n",
            "[CV] dropout_rate=0.5, learning_rate=0.01 ............................\n",
            "[CV]  dropout_rate=0.5, learning_rate=0.01, score=(train=0.726, test=0.750), total=   4.6s\n",
            "[CV] dropout_rate=0.5, learning_rate=0.01 ............................\n",
            "[CV]  dropout_rate=0.5, learning_rate=0.01, score=(train=0.783, test=0.524), total=   4.8s\n",
            "[CV] dropout_rate=0.5, learning_rate=0.01 ............................\n",
            "[CV]  dropout_rate=0.5, learning_rate=0.01, score=(train=0.744, test=0.680), total=   4.7s\n",
            "[CV] dropout_rate=0.5, learning_rate=0.01 ............................\n",
            "[CV]  dropout_rate=0.5, learning_rate=0.01, score=(train=0.739, test=0.699), total=   4.7s\n",
            "[CV] dropout_rate=0.5, learning_rate=0.1 .............................\n",
            "[CV]  dropout_rate=0.5, learning_rate=0.1, score=(train=0.663, test=1.000), total=   4.6s\n",
            "[CV] dropout_rate=0.5, learning_rate=0.1 .............................\n",
            "[CV]  dropout_rate=0.5, learning_rate=0.1, score=(train=0.726, test=0.750), total=   4.6s\n",
            "[CV] dropout_rate=0.5, learning_rate=0.1 .............................\n",
            "[CV]  dropout_rate=0.5, learning_rate=0.1, score=(train=0.783, test=0.524), total=   4.7s\n",
            "[CV] dropout_rate=0.5, learning_rate=0.1 .............................\n",
            "[CV]  dropout_rate=0.5, learning_rate=0.1, score=(train=0.744, test=0.680), total=   4.7s\n",
            "[CV] dropout_rate=0.5, learning_rate=0.1 .............................\n",
            "[CV]  dropout_rate=0.5, learning_rate=0.1, score=(train=0.739, test=0.699), total=   4.8s\n",
            "[CV] dropout_rate=0.5, learning_rate=0.2 .............................\n",
            "[CV]  dropout_rate=0.5, learning_rate=0.2, score=(train=0.663, test=1.000), total=   4.6s\n",
            "[CV] dropout_rate=0.5, learning_rate=0.2 .............................\n",
            "[CV]  dropout_rate=0.5, learning_rate=0.2, score=(train=0.726, test=0.750), total=   4.6s\n",
            "[CV] dropout_rate=0.5, learning_rate=0.2 .............................\n",
            "[CV]  dropout_rate=0.5, learning_rate=0.2, score=(train=0.783, test=0.524), total=   4.6s\n",
            "[CV] dropout_rate=0.5, learning_rate=0.2 .............................\n",
            "[CV]  dropout_rate=0.5, learning_rate=0.2, score=(train=0.744, test=0.680), total=   5.2s\n",
            "[CV] dropout_rate=0.5, learning_rate=0.2 .............................\n",
            "[CV]  dropout_rate=0.5, learning_rate=0.2, score=(train=0.739, test=0.699), total=   4.7s\n",
            "[CV] dropout_rate=0.5, learning_rate=0.5 .............................\n",
            "[CV]  dropout_rate=0.5, learning_rate=0.5, score=(train=0.663, test=1.000), total=   4.7s\n",
            "[CV] dropout_rate=0.5, learning_rate=0.5 .............................\n",
            "[CV]  dropout_rate=0.5, learning_rate=0.5, score=(train=0.726, test=0.750), total=   4.7s\n",
            "[CV] dropout_rate=0.5, learning_rate=0.5 .............................\n",
            "[CV]  dropout_rate=0.5, learning_rate=0.5, score=(train=0.783, test=0.524), total=   4.7s\n",
            "[CV] dropout_rate=0.5, learning_rate=0.5 .............................\n",
            "[CV]  dropout_rate=0.5, learning_rate=0.5, score=(train=0.744, test=0.680), total=   4.7s\n",
            "[CV] dropout_rate=0.5, learning_rate=0.5 .............................\n",
            "[CV]  dropout_rate=0.5, learning_rate=0.5, score=(train=0.739, test=0.699), total=   4.6s\n"
          ],
          "name": "stdout"
        },
        {
          "output_type": "stream",
          "text": [
            "[Parallel(n_jobs=1)]: Done 100 out of 100 | elapsed:  8.0min finished\n"
          ],
          "name": "stderr"
        }
      ]
    },
    {
      "cell_type": "code",
      "metadata": {
        "colab": {
          "base_uri": "https://localhost:8080/"
        },
        "id": "ZdZhWXp7iq_n",
        "outputId": "6362b54f-31df-4c65-a441-3d8ec627dde9"
      },
      "source": [
        "# summerize results\n",
        "print('Best:{}, using {}'.format(grid_results.best_score_, grid_results.best_params_))\n",
        "means= grid_results.cv_results_['mean_test_score']\n",
        "stds= grid_results.cv_results_['std_test_score']\n",
        "params= grid_results.cv_results_['params']\n",
        "for mean, stdev, param in zip(means, stds, params):\n",
        "  print('{},{} with: {}'.format(mean, stdev, param))"
      ],
      "execution_count": 110,
      "outputs": [
        {
          "output_type": "stream",
          "text": [
            "Best:0.850989556312561, using {'dropout_rate': 0.1, 'learning_rate': 0.01}\n",
            "0.7771658062934875,0.12759593930243615 with: {'dropout_rate': 0, 'learning_rate': 0.001}\n",
            "0.8161501049995422,0.09026122339511955 with: {'dropout_rate': 0, 'learning_rate': 0.01}\n",
            "0.7305825233459473,0.15435061319000673 with: {'dropout_rate': 0, 'learning_rate': 0.1}\n",
            "0.7305825233459473,0.15435061319000673 with: {'dropout_rate': 0, 'learning_rate': 0.2}\n",
            "0.7305825233459473,0.15435061319000673 with: {'dropout_rate': 0, 'learning_rate': 0.5}\n",
            "0.765533983707428,0.15220793195253832 with: {'dropout_rate': 0.1, 'learning_rate': 0.001}\n",
            "0.850989556312561,0.046164789670089655 with: {'dropout_rate': 0.1, 'learning_rate': 0.01}\n",
            "0.7305825233459473,0.15435061319000673 with: {'dropout_rate': 0.1, 'learning_rate': 0.1}\n",
            "0.7305825233459473,0.15435061319000673 with: {'dropout_rate': 0.1, 'learning_rate': 0.2}\n",
            "0.7305825233459473,0.15435061319000673 with: {'dropout_rate': 0.1, 'learning_rate': 0.5}\n",
            "0.7655153155326844,0.14758433469753773 with: {'dropout_rate': 0.2, 'learning_rate': 0.001}\n",
            "0.7950896143913269,0.050199121722480824 with: {'dropout_rate': 0.2, 'learning_rate': 0.01}\n",
            "0.7305825233459473,0.15435061319000673 with: {'dropout_rate': 0.2, 'learning_rate': 0.1}\n",
            "0.7305825233459473,0.15435061319000673 with: {'dropout_rate': 0.2, 'learning_rate': 0.2}\n",
            "0.7305825233459473,0.15435061319000673 with: {'dropout_rate': 0.2, 'learning_rate': 0.5}\n",
            "0.7305825233459473,0.15435061319000673 with: {'dropout_rate': 0.5, 'learning_rate': 0.001}\n",
            "0.7305825233459473,0.15435061319000673 with: {'dropout_rate': 0.5, 'learning_rate': 0.01}\n",
            "0.7305825233459473,0.15435061319000673 with: {'dropout_rate': 0.5, 'learning_rate': 0.1}\n",
            "0.7305825233459473,0.15435061319000673 with: {'dropout_rate': 0.5, 'learning_rate': 0.2}\n",
            "0.7305825233459473,0.15435061319000673 with: {'dropout_rate': 0.5, 'learning_rate': 0.5}\n"
          ],
          "name": "stdout"
        }
      ]
    },
    {
      "cell_type": "code",
      "metadata": {
        "colab": {
          "base_uri": "https://localhost:8080/",
          "height": 264
        },
        "id": "ksd8ngshpVpW",
        "outputId": "84ad7485-2d7f-4375-844f-063c5071da06"
      },
      "source": [
        "# plotting train test plot\n",
        "test_scores= grid_results.cv_results_['mean_test_score']\n",
        "train_scores=grid_results.cv_results_['mean_train_score']\n",
        "\n",
        "plt.plot(test_scores, label='test')\n",
        "plt.plot(train_scores, label= 'train')\n",
        "plt.legend(loc='best')\n",
        "plt.show()"
      ],
      "execution_count": 112,
      "outputs": [
        {
          "output_type": "display_data",
          "data": {
            "image/png": "[encoded data removed]",
            "text/plain": [
              "<Figure size 432x288 with 1 Axes>"
            ]
          },
          "metadata": {
            "tags": [],
            "needs_background": "light"
          }
        }
      ]
    },
    {
      "cell_type": "code",
      "metadata": {
        "colab": {
          "base_uri": "https://localhost:8080/"
        },
        "id": "D_pdztyKqM2S",
        "outputId": "48555a34-30ec-4d0f-8948-02ef47d99d18"
      },
      "source": [
        "# Tuning hyperparameter: Activation function and Kernal initializer\n",
        "# Create sequential model:\n",
        "def base_model_af_init(init,activation_function):\n",
        "  model= Sequential()\n",
        "  model.add(Dense(12, input_dim=28, kernel_initializer=init, activation=activation_function))\n",
        "  model.add(Dropout(0.1))\n",
        "  model.add(Dense(8, kernel_initializer=init, activation=activation_function))\n",
        "  model.add(Dropout(0.1))\n",
        "  model.add(Dense(8, kernel_initializer=init, activation=activation_function))\n",
        "  model.add(Dropout(0.1))\n",
        "  # output layer\n",
        "  model.add(Dense(1, kernel_initializer=init, activation='sigmoid'))\n",
        "  # optimizer \n",
        "  adam= Adam(learning_rate=0.01)\n",
        "  # Compile model\n",
        "  model.compile(loss= \"binary_crossentropy\", optimizer= adam, metrics= ['accuracy'])\n",
        "  return model\n",
        "\n",
        "# Define clasification model\n",
        "classifier= KerasClassifier(build_fn=base_model_af_init, verbose= 0, batch_size=10, epochs=100)\n",
        "# Define GridSearch Model\n",
        "init= ['uniform', 'normal', 'zero']\n",
        "activation_function= ['relu', 'sigmoid', 'tanh', 'linear', 'softmax']\n",
        "# make a Dictionary to store grid parameters\n",
        "grid_param= dict(init=init, activation_function=activation_function )\n",
        "# Build & Fit the gridsearchCV\n",
        "grid= GridSearchCV(estimator=classifier, param_grid=grid_param, cv= KFold(), verbose=10, return_train_score=True )\n",
        "grid_results= grid.fit(x,y)"
      ],
      "execution_count": 113,
      "outputs": [
        {
          "output_type": "stream",
          "text": [
            "Fitting 5 folds for each of 15 candidates, totalling 75 fits\n",
            "[CV] activation_function=relu, init=uniform ..........................\n"
          ],
          "name": "stdout"
        },
        {
          "output_type": "stream",
          "text": [
            "[Parallel(n_jobs=1)]: Using backend SequentialBackend with 1 concurrent workers.\n"
          ],
          "name": "stderr"
        },
        {
          "output_type": "stream",
          "text": [
            "[CV]  activation_function=relu, init=uniform, score=(train=0.964, test=0.933), total=   4.7s\n",
            "[CV] activation_function=relu, init=uniform ..........................\n"
          ],
          "name": "stdout"
        },
        {
          "output_type": "stream",
          "text": [
            "[Parallel(n_jobs=1)]: Done   1 out of   1 | elapsed:    4.8s remaining:    0.0s\n"
          ],
          "name": "stderr"
        },
        {
          "output_type": "stream",
          "text": [
            "[CV]  activation_function=relu, init=uniform, score=(train=0.973, test=0.875), total=   4.6s\n",
            "[CV] activation_function=relu, init=uniform ..........................\n"
          ],
          "name": "stdout"
        },
        {
          "output_type": "stream",
          "text": [
            "[Parallel(n_jobs=1)]: Done   2 out of   2 | elapsed:    9.5s remaining:    0.0s\n"
          ],
          "name": "stderr"
        },
        {
          "output_type": "stream",
          "text": [
            "[CV]  activation_function=relu, init=uniform, score=(train=0.969, test=0.845), total=   4.7s\n",
            "[CV] activation_function=relu, init=uniform ..........................\n"
          ],
          "name": "stdout"
        },
        {
          "output_type": "stream",
          "text": [
            "[Parallel(n_jobs=1)]: Done   3 out of   3 | elapsed:   14.3s remaining:    0.0s\n"
          ],
          "name": "stderr"
        },
        {
          "output_type": "stream",
          "text": [
            "[CV]  activation_function=relu, init=uniform, score=(train=0.896, test=0.845), total=   4.6s\n",
            "[CV] activation_function=relu, init=uniform ..........................\n"
          ],
          "name": "stdout"
        },
        {
          "output_type": "stream",
          "text": [
            "[Parallel(n_jobs=1)]: Done   4 out of   4 | elapsed:   19.0s remaining:    0.0s\n"
          ],
          "name": "stderr"
        },
        {
          "output_type": "stream",
          "text": [
            "[CV]  activation_function=relu, init=uniform, score=(train=0.976, test=0.883), total=   5.2s\n",
            "[CV] activation_function=relu, init=normal ...........................\n"
          ],
          "name": "stdout"
        },
        {
          "output_type": "stream",
          "text": [
            "[Parallel(n_jobs=1)]: Done   5 out of   5 | elapsed:   24.3s remaining:    0.0s\n"
          ],
          "name": "stderr"
        },
        {
          "output_type": "stream",
          "text": [
            "[CV]  activation_function=relu, init=normal, score=(train=0.889, test=0.981), total=   4.8s\n",
            "[CV] activation_function=relu, init=normal ...........................\n"
          ],
          "name": "stdout"
        },
        {
          "output_type": "stream",
          "text": [
            "[Parallel(n_jobs=1)]: Done   6 out of   6 | elapsed:   29.2s remaining:    0.0s\n"
          ],
          "name": "stderr"
        },
        {
          "output_type": "stream",
          "text": [
            "[CV]  activation_function=relu, init=normal, score=(train=0.947, test=0.827), total=   4.7s\n",
            "[CV] activation_function=relu, init=normal ...........................\n"
          ],
          "name": "stdout"
        },
        {
          "output_type": "stream",
          "text": [
            "[Parallel(n_jobs=1)]: Done   7 out of   7 | elapsed:   34.0s remaining:    0.0s\n"
          ],
          "name": "stderr"
        },
        {
          "output_type": "stream",
          "text": [
            "[CV]  activation_function=relu, init=normal, score=(train=0.964, test=0.786), total=   4.6s\n",
            "[CV] activation_function=relu, init=normal ...........................\n"
          ],
          "name": "stdout"
        },
        {
          "output_type": "stream",
          "text": [
            "[Parallel(n_jobs=1)]: Done   8 out of   8 | elapsed:   38.8s remaining:    0.0s\n"
          ],
          "name": "stderr"
        },
        {
          "output_type": "stream",
          "text": [
            "[CV]  activation_function=relu, init=normal, score=(train=0.983, test=0.864), total=   4.7s\n",
            "[CV] activation_function=relu, init=normal ...........................\n"
          ],
          "name": "stdout"
        },
        {
          "output_type": "stream",
          "text": [
            "[Parallel(n_jobs=1)]: Done   9 out of   9 | elapsed:   43.6s remaining:    0.0s\n"
          ],
          "name": "stderr"
        },
        {
          "output_type": "stream",
          "text": [
            "[CV]  activation_function=relu, init=normal, score=(train=0.976, test=0.883), total=   4.6s\n",
            "[CV] activation_function=relu, init=zero .............................\n",
            "[CV]  activation_function=relu, init=zero, score=(train=0.663, test=1.000), total=   4.8s\n",
            "[CV] activation_function=relu, init=zero .............................\n",
            "[CV]  activation_function=relu, init=zero, score=(train=0.726, test=0.750), total=   4.7s\n",
            "[CV] activation_function=relu, init=zero .............................\n",
            "[CV]  activation_function=relu, init=zero, score=(train=0.783, test=0.524), total=   4.6s\n",
            "[CV] activation_function=relu, init=zero .............................\n",
            "[CV]  activation_function=relu, init=zero, score=(train=0.744, test=0.680), total=   4.7s\n",
            "[CV] activation_function=relu, init=zero .............................\n",
            "[CV]  activation_function=relu, init=zero, score=(train=0.739, test=0.699), total=   4.6s\n",
            "[CV] activation_function=sigmoid, init=uniform .......................\n",
            "[CV]  activation_function=sigmoid, init=uniform, score=(train=0.886, test=0.990), total=   5.1s\n",
            "[CV] activation_function=sigmoid, init=uniform .......................\n",
            "[CV]  activation_function=sigmoid, init=uniform, score=(train=0.901, test=0.750), total=   4.8s\n",
            "[CV] activation_function=sigmoid, init=uniform .......................\n",
            "[CV]  activation_function=sigmoid, init=uniform, score=(train=0.886, test=0.757), total=   4.8s\n",
            "[CV] activation_function=sigmoid, init=uniform .......................\n",
            "[CV]  activation_function=sigmoid, init=uniform, score=(train=0.954, test=0.825), total=   4.6s\n",
            "[CV] activation_function=sigmoid, init=uniform .......................\n",
            "[CV]  activation_function=sigmoid, init=uniform, score=(train=0.920, test=0.864), total=   4.7s\n",
            "[CV] activation_function=sigmoid, init=normal ........................\n",
            "[CV]  activation_function=sigmoid, init=normal, score=(train=0.930, test=0.990), total=   4.6s\n",
            "[CV] activation_function=sigmoid, init=normal ........................\n",
            "[CV]  activation_function=sigmoid, init=normal, score=(train=0.906, test=0.769), total=   4.7s\n",
            "[CV] activation_function=sigmoid, init=normal ........................\n",
            "[CV]  activation_function=sigmoid, init=normal, score=(train=0.860, test=0.709), total=   4.7s\n",
            "[CV] activation_function=sigmoid, init=normal ........................\n",
            "[CV]  activation_function=sigmoid, init=normal, score=(train=0.976, test=0.864), total=   4.7s\n",
            "[CV] activation_function=sigmoid, init=normal ........................\n",
            "[CV]  activation_function=sigmoid, init=normal, score=(train=0.940, test=0.864), total=   4.7s\n",
            "[CV] activation_function=sigmoid, init=zero ..........................\n",
            "[CV]  activation_function=sigmoid, init=zero, score=(train=0.908, test=0.990), total=   4.6s\n",
            "[CV] activation_function=sigmoid, init=zero ..........................\n",
            "[CV]  activation_function=sigmoid, init=zero, score=(train=0.932, test=0.788), total=   4.6s\n",
            "[CV] activation_function=sigmoid, init=zero ..........................\n",
            "[CV]  activation_function=sigmoid, init=zero, score=(train=0.894, test=0.767), total=   4.7s\n",
            "[CV] activation_function=sigmoid, init=zero ..........................\n",
            "[CV]  activation_function=sigmoid, init=zero, score=(train=0.961, test=0.835), total=   4.6s\n",
            "[CV] activation_function=sigmoid, init=zero ..........................\n",
            "[CV]  activation_function=sigmoid, init=zero, score=(train=0.937, test=0.845), total=   4.6s\n",
            "[CV] activation_function=tanh, init=uniform ..........................\n",
            "[CV]  activation_function=tanh, init=uniform, score=(train=0.981, test=0.990), total=   4.7s\n",
            "[CV] activation_function=tanh, init=uniform ..........................\n",
            "[CV]  activation_function=tanh, init=uniform, score=(train=0.939, test=0.894), total=   4.7s\n",
            "[CV] activation_function=tanh, init=uniform ..........................\n",
            "[CV]  activation_function=tanh, init=uniform, score=(train=0.976, test=0.951), total=   4.6s\n",
            "[CV] activation_function=tanh, init=uniform ..........................\n",
            "[CV]  activation_function=tanh, init=uniform, score=(train=0.952, test=0.883), total=   4.7s\n",
            "[CV] activation_function=tanh, init=uniform ..........................\n",
            "[CV]  activation_function=tanh, init=uniform, score=(train=0.971, test=0.942), total=   4.7s\n",
            "[CV] activation_function=tanh, init=normal ...........................\n",
            "[CV]  activation_function=tanh, init=normal, score=(train=0.961, test=1.000), total=   4.8s\n",
            "[CV] activation_function=tanh, init=normal ...........................\n",
            "[CV]  activation_function=tanh, init=normal, score=(train=0.918, test=0.894), total=   4.7s\n",
            "[CV] activation_function=tanh, init=normal ...........................\n",
            "[CV]  activation_function=tanh, init=normal, score=(train=0.944, test=0.942), total=   4.6s\n",
            "[CV] activation_function=tanh, init=normal ...........................\n",
            "[CV]  activation_function=tanh, init=normal, score=(train=0.952, test=0.883), total=   4.7s\n",
            "[CV] activation_function=tanh, init=normal ...........................\n",
            "[CV]  activation_function=tanh, init=normal, score=(train=0.966, test=0.913), total=   5.2s\n",
            "[CV] activation_function=tanh, init=zero .............................\n",
            "[CV]  activation_function=tanh, init=zero, score=(train=0.663, test=1.000), total=   4.7s\n",
            "[CV] activation_function=tanh, init=zero .............................\n",
            "[CV]  activation_function=tanh, init=zero, score=(train=0.726, test=0.750), total=   4.8s\n",
            "[CV] activation_function=tanh, init=zero .............................\n",
            "[CV]  activation_function=tanh, init=zero, score=(train=0.783, test=0.524), total=   4.8s\n",
            "[CV] activation_function=tanh, init=zero .............................\n",
            "[CV]  activation_function=tanh, init=zero, score=(train=0.744, test=0.680), total=   4.7s\n",
            "[CV] activation_function=tanh, init=zero .............................\n",
            "[CV]  activation_function=tanh, init=zero, score=(train=0.739, test=0.699), total=   4.8s\n",
            "[CV] activation_function=linear, init=uniform ........................\n",
            "[CV]  activation_function=linear, init=uniform, score=(train=0.971, test=1.000), total=   4.6s\n",
            "[CV] activation_function=linear, init=uniform ........................\n",
            "[CV]  activation_function=linear, init=uniform, score=(train=0.947, test=0.875), total=   4.6s\n",
            "[CV] activation_function=linear, init=uniform ........................\n",
            "[CV]  activation_function=linear, init=uniform, score=(train=0.969, test=0.961), total=   4.6s\n",
            "[CV] activation_function=linear, init=uniform ........................\n",
            "[CV]  activation_function=linear, init=uniform, score=(train=0.978, test=0.922), total=   4.6s\n",
            "[CV] activation_function=linear, init=uniform ........................\n",
            "[CV]  activation_function=linear, init=uniform, score=(train=0.944, test=0.893), total=   4.7s\n",
            "[CV] activation_function=linear, init=normal .........................\n",
            "[CV]  activation_function=linear, init=normal, score=(train=0.981, test=1.000), total=   4.6s\n",
            "[CV] activation_function=linear, init=normal .........................\n",
            "[CV]  activation_function=linear, init=normal, score=(train=0.961, test=0.913), total=   4.5s\n",
            "[CV] activation_function=linear, init=normal .........................\n",
            "[CV]  activation_function=linear, init=normal, score=(train=0.964, test=0.961), total=   4.6s\n",
            "[CV] activation_function=linear, init=normal .........................\n",
            "[CV]  activation_function=linear, init=normal, score=(train=0.990, test=0.951), total=   4.6s\n",
            "[CV] activation_function=linear, init=normal .........................\n",
            "[CV]  activation_function=linear, init=normal, score=(train=0.971, test=0.903), total=   4.6s\n",
            "[CV] activation_function=linear, init=zero ...........................\n",
            "[CV]  activation_function=linear, init=zero, score=(train=0.663, test=1.000), total=   4.6s\n",
            "[CV] activation_function=linear, init=zero ...........................\n",
            "[CV]  activation_function=linear, init=zero, score=(train=0.726, test=0.750), total=   4.6s\n",
            "[CV] activation_function=linear, init=zero ...........................\n",
            "[CV]  activation_function=linear, init=zero, score=(train=0.783, test=0.524), total=   4.7s\n",
            "[CV] activation_function=linear, init=zero ...........................\n",
            "[CV]  activation_function=linear, init=zero, score=(train=0.744, test=0.680), total=   4.6s\n",
            "[CV] activation_function=linear, init=zero ...........................\n",
            "[CV]  activation_function=linear, init=zero, score=(train=0.739, test=0.699), total=   4.6s\n",
            "[CV] activation_function=softmax, init=uniform .......................\n",
            "[CV]  activation_function=softmax, init=uniform, score=(train=0.906, test=0.990), total=   4.7s\n",
            "[CV] activation_function=softmax, init=uniform .......................\n",
            "[CV]  activation_function=softmax, init=uniform, score=(train=0.777, test=0.731), total=   4.9s\n",
            "[CV] activation_function=softmax, init=uniform .......................\n",
            "[CV]  activation_function=softmax, init=uniform, score=(train=0.821, test=0.553), total=   4.7s\n",
            "[CV] activation_function=softmax, init=uniform .......................\n",
            "[CV]  activation_function=softmax, init=uniform, score=(train=0.879, test=0.786), total=   4.8s\n",
            "[CV] activation_function=softmax, init=uniform .......................\n",
            "[CV]  activation_function=softmax, init=uniform, score=(train=0.932, test=0.864), total=   5.4s\n",
            "[CV] activation_function=softmax, init=normal ........................\n",
            "[CV]  activation_function=softmax, init=normal, score=(train=0.927, test=1.000), total=   4.8s\n",
            "[CV] activation_function=softmax, init=normal ........................\n",
            "[CV]  activation_function=softmax, init=normal, score=(train=0.906, test=0.760), total=   4.8s\n",
            "[CV] activation_function=softmax, init=normal ........................\n",
            "[CV]  activation_function=softmax, init=normal, score=(train=0.891, test=0.660), total=   4.7s\n",
            "[CV] activation_function=softmax, init=normal ........................\n",
            "[CV]  activation_function=softmax, init=normal, score=(train=0.906, test=0.767), total=   4.9s\n",
            "[CV] activation_function=softmax, init=normal ........................\n",
            "[CV]  activation_function=softmax, init=normal, score=(train=0.947, test=0.854), total=   4.7s\n",
            "[CV] activation_function=softmax, init=zero ..........................\n",
            "[CV]  activation_function=softmax, init=zero, score=(train=0.881, test=0.981), total=   4.7s\n",
            "[CV] activation_function=softmax, init=zero ..........................\n",
            "[CV]  activation_function=softmax, init=zero, score=(train=0.879, test=0.750), total=   4.8s\n",
            "[CV] activation_function=softmax, init=zero ..........................\n",
            "[CV]  activation_function=softmax, init=zero, score=(train=0.831, test=0.641), total=   4.8s\n",
            "[CV] activation_function=softmax, init=zero ..........................\n",
            "[CV]  activation_function=softmax, init=zero, score=(train=0.908, test=0.757), total=   4.8s\n",
            "[CV] activation_function=softmax, init=zero ..........................\n",
            "[CV]  activation_function=softmax, init=zero, score=(train=0.906, test=0.845), total=   4.8s\n"
          ],
          "name": "stdout"
        },
        {
          "output_type": "stream",
          "text": [
            "[Parallel(n_jobs=1)]: Done  75 out of  75 | elapsed:  6.0min finished\n"
          ],
          "name": "stderr"
        }
      ]
    },
    {
      "cell_type": "code",
      "metadata": {
        "colab": {
          "base_uri": "https://localhost:8080/"
        },
        "id": "FUX99_kQz_6o",
        "outputId": "c053c4e8-df7f-4a59-a4a8-1c73c7c0f114"
      },
      "source": [
        "# summerize results\n",
        "print('Best:{}, using {}'.format(grid_results.best_score_, grid_results.best_params_))\n",
        "means= grid_results.cv_results_['mean_test_score']\n",
        "stds= grid_results.cv_results_['std_test_score']\n",
        "params= grid_results.cv_results_['params']\n",
        "for mean, stdev, param in zip(means, stds, params):\n",
        "  print('{},{} with: {}'.format(mean, stdev, param))"
      ],
      "execution_count": 114,
      "outputs": [
        {
          "output_type": "stream",
          "text": [
            "Best:0.9457991123199463, using {'activation_function': 'linear', 'init': 'normal'}\n",
            "0.8761015772819519,0.03235893907235507 with: {'activation_function': 'relu', 'init': 'uniform'}\n",
            "0.8683345794677735,0.06529383899247249 with: {'activation_function': 'relu', 'init': 'normal'}\n",
            "0.7305825233459473,0.15435061319000673 with: {'activation_function': 'relu', 'init': 'zero'}\n",
            "0.8373973131179809,0.08754601743996698 with: {'activation_function': 'sigmoid', 'init': 'uniform'}\n",
            "0.8393017292022705,0.09592768695910907 with: {'activation_function': 'sigmoid', 'init': 'normal'}\n",
            "0.8450896382331848,0.07812790624660071 with: {'activation_function': 'sigmoid', 'init': 'zero'}\n",
            "0.9322628855705262,0.0391438809321466 with: {'activation_function': 'tanh', 'init': 'uniform'}\n",
            "0.9264189720153808,0.04175653309247339 with: {'activation_function': 'tanh', 'init': 'normal'}\n",
            "0.7305825233459473,0.15435061319000673 with: {'activation_function': 'tanh', 'init': 'zero'}\n",
            "0.930339801311493,0.04540587685809535 with: {'activation_function': 'linear', 'init': 'uniform'}\n",
            "0.9457991123199463,0.0349022095921735 with: {'activation_function': 'linear', 'init': 'normal'}\n",
            "0.7305825233459473,0.15435061319000673 with: {'activation_function': 'linear', 'init': 'zero'}\n",
            "0.7850074768066406,0.14492656233622578 with: {'activation_function': 'softmax', 'init': 'uniform'}\n",
            "0.8082337498664856,0.11391509046291724 with: {'activation_function': 'softmax', 'init': 'normal'}\n",
            "0.7946975350379943,0.11332113000015037 with: {'activation_function': 'softmax', 'init': 'zero'}\n"
          ],
          "name": "stdout"
        }
      ]
    },
    {
      "cell_type": "code",
      "metadata": {
        "colab": {
          "base_uri": "https://localhost:8080/",
          "height": 264
        },
        "id": "tvc18lm00FM5",
        "outputId": "af94ff0f-56fc-42b1-82e2-baad2fb92898"
      },
      "source": [
        "# plotting train test plot\n",
        "test_scores= grid_results.cv_results_['mean_test_score']\n",
        "train_scores=grid_results.cv_results_['mean_train_score']\n",
        "\n",
        "plt.plot(test_scores, label='test')\n",
        "plt.plot(train_scores, label= 'train')\n",
        "plt.legend(loc='best')\n",
        "plt.show()"
      ],
      "execution_count": 115,
      "outputs": [
        {
          "output_type": "display_data",
          "data": {
            "image/png": "[encoded data removed]",
            "text/plain": [
              "<Figure size 432x288 with 1 Axes>"
            ]
          },
          "metadata": {
            "tags": [],
            "needs_background": "light"
          }
        }
      ]
    },
    {
      "cell_type": "code",
      "metadata": {
        "colab": {
          "base_uri": "https://localhost:8080/"
        },
        "id": "CAJOqDsB0NF-",
        "outputId": "357439d9-60ad-4f18-82f6-dfe4c3618f60"
      },
      "source": [
        "# Tuning hyperparameter: Number of neurons in activatino layer\n",
        "# Create sequential model:\n",
        "def base_model_num_neuron(neuron1,neuron2, neuron3):\n",
        "  model= Sequential()\n",
        "  model.add(Dense(neuron1, input_dim=28, kernel_initializer='normal', activation='linear'))\n",
        "  model.add(Dropout(0.1))\n",
        "  model.add(Dense(neuron2, kernel_initializer='normal', activation='linear'))\n",
        "  model.add(Dropout(0.1))\n",
        "  model.add(Dense(neuron3, kernel_initializer='normal', activation='linear'))\n",
        "  model.add(Dropout(0.1))\n",
        "  # output layer\n",
        "  model.add(Dense(1, kernel_initializer='normal', activation='sigmoid'))\n",
        "  # optimizer \n",
        "  adam= Adam(learning_rate=0.01)\n",
        "  # Compile model\n",
        "  model.compile(loss= \"binary_crossentropy\", optimizer= adam, metrics= ['accuracy'])\n",
        "  return model\n",
        "\n",
        "# Define clasification model\n",
        "classifier= KerasClassifier(build_fn=base_model_num_neuron, verbose= 0, batch_size=10, epochs=100)\n",
        "# Define GridSearch Model\n",
        "neuron1= [2,8,16,25,30]\n",
        "neuron2= [2,8,16,25,30]\n",
        "neuron3= [2,8,16,25,30]\n",
        "# make a Dictionary to store grid parameters\n",
        "grid_param= dict(neuron1=neuron1, neuron2=neuron2, neuron3=neuron3)\n",
        "# Build & Fit the gridsearchCV\n",
        "grid= GridSearchCV(estimator=classifier, param_grid=grid_param, cv= KFold(), verbose=10, return_train_score=True )\n",
        "grid_results= grid.fit(x,y)"
      ],
      "execution_count": 116,
      "outputs": [
        {
          "output_type": "stream",
          "text": [
            "Fitting 5 folds for each of 125 candidates, totalling 625 fits\n",
            "[CV] neuron1=2, neuron2=2, neuron3=2 .................................\n"
          ],
          "name": "stdout"
        },
        {
          "output_type": "stream",
          "text": [
            "[Parallel(n_jobs=1)]: Using backend SequentialBackend with 1 concurrent workers.\n"
          ],
          "name": "stderr"
        },
        {
          "output_type": "stream",
          "text": [
            "[CV]  neuron1=2, neuron2=2, neuron3=2, score=(train=0.981, test=1.000), total=   4.6s\n",
            "[CV] neuron1=2, neuron2=2, neuron3=2 .................................\n"
          ],
          "name": "stdout"
        },
        {
          "output_type": "stream",
          "text": [
            "[Parallel(n_jobs=1)]: Done   1 out of   1 | elapsed:    4.7s remaining:    0.0s\n"
          ],
          "name": "stderr"
        },
        {
          "output_type": "stream",
          "text": [
            "[CV]  neuron1=2, neuron2=2, neuron3=2, score=(train=0.971, test=0.933), total=   4.6s\n",
            "[CV] neuron1=2, neuron2=2, neuron3=2 .................................\n"
          ],
          "name": "stdout"
        },
        {
          "output_type": "stream",
          "text": [
            "[Parallel(n_jobs=1)]: Done   2 out of   2 | elapsed:    9.4s remaining:    0.0s\n"
          ],
          "name": "stderr"
        },
        {
          "output_type": "stream",
          "text": [
            "[CV]  neuron1=2, neuron2=2, neuron3=2, score=(train=0.959, test=0.971), total=   4.5s\n",
            "[CV] neuron1=2, neuron2=2, neuron3=2 .................................\n"
          ],
          "name": "stdout"
        },
        {
          "output_type": "stream",
          "text": [
            "[Parallel(n_jobs=1)]: Done   3 out of   3 | elapsed:   14.0s remaining:    0.0s\n"
          ],
          "name": "stderr"
        },
        {
          "output_type": "stream",
          "text": [
            "[CV]  neuron1=2, neuron2=2, neuron3=2, score=(train=0.959, test=0.893), total=   4.5s\n",
            "[CV] neuron1=2, neuron2=2, neuron3=2 .................................\n"
          ],
          "name": "stdout"
        },
        {
          "output_type": "stream",
          "text": [
            "[Parallel(n_jobs=1)]: Done   4 out of   4 | elapsed:   18.6s remaining:    0.0s\n"
          ],
          "name": "stderr"
        },
        {
          "output_type": "stream",
          "text": [
            "[CV]  neuron1=2, neuron2=2, neuron3=2, score=(train=0.981, test=0.961), total=   4.4s\n",
            "[CV] neuron1=2, neuron2=2, neuron3=8 .................................\n"
          ],
          "name": "stdout"
        },
        {
          "output_type": "stream",
          "text": [
            "[Parallel(n_jobs=1)]: Done   5 out of   5 | elapsed:   23.2s remaining:    0.0s\n"
          ],
          "name": "stderr"
        },
        {
          "output_type": "stream",
          "text": [
            "[CV]  neuron1=2, neuron2=2, neuron3=8, score=(train=0.954, test=1.000), total=   4.6s\n",
            "[CV] neuron1=2, neuron2=2, neuron3=8 .................................\n"
          ],
          "name": "stdout"
        },
        {
          "output_type": "stream",
          "text": [
            "[Parallel(n_jobs=1)]: Done   6 out of   6 | elapsed:   27.9s remaining:    0.0s\n"
          ],
          "name": "stderr"
        },
        {
          "output_type": "stream",
          "text": [
            "[CV]  neuron1=2, neuron2=2, neuron3=8, score=(train=0.969, test=0.904), total=   4.6s\n",
            "[CV] neuron1=2, neuron2=2, neuron3=8 .................................\n"
          ],
          "name": "stdout"
        },
        {
          "output_type": "stream",
          "text": [
            "[Parallel(n_jobs=1)]: Done   7 out of   7 | elapsed:   32.5s remaining:    0.0s\n"
          ],
          "name": "stderr"
        },
        {
          "output_type": "stream",
          "text": [
            "[CV]  neuron1=2, neuron2=2, neuron3=8, score=(train=0.969, test=0.971), total=   4.6s\n",
            "[CV] neuron1=2, neuron2=2, neuron3=8 .................................\n"
          ],
          "name": "stdout"
        },
        {
          "output_type": "stream",
          "text": [
            "[Parallel(n_jobs=1)]: Done   8 out of   8 | elapsed:   37.2s remaining:    0.0s\n"
          ],
          "name": "stderr"
        },
        {
          "output_type": "stream",
          "text": [
            "[CV]  neuron1=2, neuron2=2, neuron3=8, score=(train=0.988, test=0.942), total=   4.5s\n",
            "[CV] neuron1=2, neuron2=2, neuron3=8 .................................\n"
          ],
          "name": "stdout"
        },
        {
          "output_type": "stream",
          "text": [
            "[Parallel(n_jobs=1)]: Done   9 out of   9 | elapsed:   41.8s remaining:    0.0s\n"
          ],
          "name": "stderr"
        },
        {
          "output_type": "stream",
          "text": [
            "[CV]  neuron1=2, neuron2=2, neuron3=8, score=(train=0.976, test=0.932), total=   4.5s\n",
            "[CV] neuron1=2, neuron2=2, neuron3=16 ................................\n",
            "[CV]  neuron1=2, neuron2=2, neuron3=16, score=(train=0.971, test=1.000), total=   4.6s\n",
            "[CV] neuron1=2, neuron2=2, neuron3=16 ................................\n",
            "[CV]  neuron1=2, neuron2=2, neuron3=16, score=(train=0.964, test=0.904), total=   5.1s\n",
            "[CV] neuron1=2, neuron2=2, neuron3=16 ................................\n",
            "[CV]  neuron1=2, neuron2=2, neuron3=16, score=(train=0.971, test=0.961), total=   4.5s\n",
            "[CV] neuron1=2, neuron2=2, neuron3=16 ................................\n",
            "[CV]  neuron1=2, neuron2=2, neuron3=16, score=(train=0.990, test=0.942), total=   4.6s\n",
            "[CV] neuron1=2, neuron2=2, neuron3=16 ................................\n",
            "[CV]  neuron1=2, neuron2=2, neuron3=16, score=(train=0.976, test=0.922), total=   4.5s\n",
            "[CV] neuron1=2, neuron2=2, neuron3=25 ................................\n",
            "[CV]  neuron1=2, neuron2=2, neuron3=25, score=(train=0.961, test=1.000), total=   4.5s\n",
            "[CV] neuron1=2, neuron2=2, neuron3=25 ................................\n",
            "[CV]  neuron1=2, neuron2=2, neuron3=25, score=(train=0.978, test=0.942), total=   4.6s\n",
            "[CV] neuron1=2, neuron2=2, neuron3=25 ................................\n",
            "[CV]  neuron1=2, neuron2=2, neuron3=25, score=(train=0.947, test=0.942), total=   4.6s\n",
            "[CV] neuron1=2, neuron2=2, neuron3=25 ................................\n",
            "[CV]  neuron1=2, neuron2=2, neuron3=25, score=(train=0.969, test=0.932), total=   4.6s\n",
            "[CV] neuron1=2, neuron2=2, neuron3=25 ................................\n",
            "[CV]  neuron1=2, neuron2=2, neuron3=25, score=(train=0.981, test=0.951), total=   4.5s\n",
            "[CV] neuron1=2, neuron2=2, neuron3=30 ................................\n",
            "[CV]  neuron1=2, neuron2=2, neuron3=30, score=(train=0.978, test=1.000), total=   4.6s\n",
            "[CV] neuron1=2, neuron2=2, neuron3=30 ................................\n",
            "[CV]  neuron1=2, neuron2=2, neuron3=30, score=(train=0.942, test=0.856), total=   4.7s\n",
            "[CV] neuron1=2, neuron2=2, neuron3=30 ................................\n",
            "[CV]  neuron1=2, neuron2=2, neuron3=30, score=(train=0.983, test=0.981), total=   4.6s\n",
            "[CV] neuron1=2, neuron2=2, neuron3=30 ................................\n",
            "[CV]  neuron1=2, neuron2=2, neuron3=30, score=(train=0.964, test=0.922), total=   5.1s\n",
            "[CV] neuron1=2, neuron2=2, neuron3=30 ................................\n",
            "[CV]  neuron1=2, neuron2=2, neuron3=30, score=(train=0.954, test=0.893), total=   4.6s\n",
            "[CV] neuron1=2, neuron2=8, neuron3=2 .................................\n",
            "[CV]  neuron1=2, neuron2=8, neuron3=2, score=(train=0.973, test=1.000), total=   4.5s\n",
            "[CV] neuron1=2, neuron2=8, neuron3=2 .................................\n",
            "[CV]  neuron1=2, neuron2=8, neuron3=2, score=(train=0.969, test=0.952), total=   4.5s\n",
            "[CV] neuron1=2, neuron2=8, neuron3=2 .................................\n",
            "[CV]  neuron1=2, neuron2=8, neuron3=2, score=(train=0.983, test=0.971), total=   4.6s\n",
            "[CV] neuron1=2, neuron2=8, neuron3=2 .................................\n",
            "[CV]  neuron1=2, neuron2=8, neuron3=2, score=(train=0.949, test=0.913), total=   4.6s\n",
            "[CV] neuron1=2, neuron2=8, neuron3=2 .................................\n",
            "[CV]  neuron1=2, neuron2=8, neuron3=2, score=(train=0.981, test=0.942), total=   4.6s\n",
            "[CV] neuron1=2, neuron2=8, neuron3=8 .................................\n",
            "[CV]  neuron1=2, neuron2=8, neuron3=8, score=(train=0.973, test=0.990), total=   4.6s\n",
            "[CV] neuron1=2, neuron2=8, neuron3=8 .................................\n",
            "[CV]  neuron1=2, neuron2=8, neuron3=8, score=(train=0.966, test=0.913), total=   4.5s\n",
            "[CV] neuron1=2, neuron2=8, neuron3=8 .................................\n",
            "[CV]  neuron1=2, neuron2=8, neuron3=8, score=(train=0.961, test=0.951), total=   4.5s\n",
            "[CV] neuron1=2, neuron2=8, neuron3=8 .................................\n",
            "[CV]  neuron1=2, neuron2=8, neuron3=8, score=(train=0.976, test=0.951), total=   4.5s\n",
            "[CV] neuron1=2, neuron2=8, neuron3=8 .................................\n",
            "[CV]  neuron1=2, neuron2=8, neuron3=8, score=(train=0.957, test=0.903), total=   4.5s\n",
            "[CV] neuron1=2, neuron2=8, neuron3=16 ................................\n",
            "[CV]  neuron1=2, neuron2=8, neuron3=16, score=(train=0.952, test=1.000), total=   4.5s\n",
            "[CV] neuron1=2, neuron2=8, neuron3=16 ................................\n",
            "[CV]  neuron1=2, neuron2=8, neuron3=16, score=(train=0.952, test=0.875), total=   5.2s\n",
            "[CV] neuron1=2, neuron2=8, neuron3=16 ................................\n",
            "[CV]  neuron1=2, neuron2=8, neuron3=16, score=(train=0.959, test=0.961), total=   4.6s\n",
            "[CV] neuron1=2, neuron2=8, neuron3=16 ................................\n",
            "[CV]  neuron1=2, neuron2=8, neuron3=16, score=(train=0.983, test=0.951), total=   4.7s\n",
            "[CV] neuron1=2, neuron2=8, neuron3=16 ................................\n",
            "[CV]  neuron1=2, neuron2=8, neuron3=16, score=(train=0.954, test=0.922), total=   4.6s\n",
            "[CV] neuron1=2, neuron2=8, neuron3=25 ................................\n",
            "[CV]  neuron1=2, neuron2=8, neuron3=25, score=(train=0.954, test=1.000), total=   4.6s\n",
            "[CV] neuron1=2, neuron2=8, neuron3=25 ................................\n",
            "[CV]  neuron1=2, neuron2=8, neuron3=25, score=(train=0.978, test=0.952), total=   4.6s\n",
            "[CV] neuron1=2, neuron2=8, neuron3=25 ................................\n",
            "[CV]  neuron1=2, neuron2=8, neuron3=25, score=(train=0.978, test=0.961), total=   4.6s\n",
            "[CV] neuron1=2, neuron2=8, neuron3=25 ................................\n",
            "[CV]  neuron1=2, neuron2=8, neuron3=25, score=(train=0.988, test=0.961), total=   4.6s\n",
            "[CV] neuron1=2, neuron2=8, neuron3=25 ................................\n",
            "[CV]  neuron1=2, neuron2=8, neuron3=25, score=(train=0.969, test=0.932), total=   4.5s\n",
            "[CV] neuron1=2, neuron2=8, neuron3=30 ................................\n",
            "[CV]  neuron1=2, neuron2=8, neuron3=30, score=(train=0.956, test=1.000), total=   4.6s\n",
            "[CV] neuron1=2, neuron2=8, neuron3=30 ................................\n",
            "[CV]  neuron1=2, neuron2=8, neuron3=30, score=(train=0.985, test=0.981), total=   4.7s\n",
            "[CV] neuron1=2, neuron2=8, neuron3=30 ................................\n",
            "[CV]  neuron1=2, neuron2=8, neuron3=30, score=(train=0.964, test=0.961), total=   5.1s\n",
            "[CV] neuron1=2, neuron2=8, neuron3=30 ................................\n",
            "[CV]  neuron1=2, neuron2=8, neuron3=30, score=(train=0.913, test=0.893), total=   4.6s\n",
            "[CV] neuron1=2, neuron2=8, neuron3=30 ................................\n",
            "[CV]  neuron1=2, neuron2=8, neuron3=30, score=(train=0.966, test=0.951), total=   4.6s\n",
            "[CV] neuron1=2, neuron2=16, neuron3=2 ................................\n",
            "[CV]  neuron1=2, neuron2=16, neuron3=2, score=(train=0.976, test=1.000), total=   4.6s\n",
            "[CV] neuron1=2, neuron2=16, neuron3=2 ................................\n",
            "[CV]  neuron1=2, neuron2=16, neuron3=2, score=(train=0.942, test=0.885), total=   4.6s\n",
            "[CV] neuron1=2, neuron2=16, neuron3=2 ................................\n",
            "[CV]  neuron1=2, neuron2=16, neuron3=2, score=(train=0.957, test=0.981), total=   4.5s\n",
            "[CV] neuron1=2, neuron2=16, neuron3=2 ................................\n",
            "[CV]  neuron1=2, neuron2=16, neuron3=2, score=(train=0.993, test=0.951), total=   4.6s\n",
            "[CV] neuron1=2, neuron2=16, neuron3=2 ................................\n",
            "[CV]  neuron1=2, neuron2=16, neuron3=2, score=(train=0.983, test=0.951), total=   4.6s\n",
            "[CV] neuron1=2, neuron2=16, neuron3=8 ................................\n",
            "[CV]  neuron1=2, neuron2=16, neuron3=8, score=(train=0.961, test=0.990), total=   4.7s\n",
            "[CV] neuron1=2, neuron2=16, neuron3=8 ................................\n",
            "[CV]  neuron1=2, neuron2=16, neuron3=8, score=(train=0.964, test=0.952), total=   4.7s\n",
            "[CV] neuron1=2, neuron2=16, neuron3=8 ................................\n",
            "[CV]  neuron1=2, neuron2=16, neuron3=8, score=(train=0.969, test=0.961), total=   4.6s\n",
            "[CV] neuron1=2, neuron2=16, neuron3=8 ................................\n",
            "[CV]  neuron1=2, neuron2=16, neuron3=8, score=(train=0.990, test=0.942), total=   4.7s\n",
            "[CV] neuron1=2, neuron2=16, neuron3=8 ................................\n",
            "[CV]  neuron1=2, neuron2=16, neuron3=8, score=(train=0.947, test=0.903), total=   4.7s\n",
            "[CV] neuron1=2, neuron2=16, neuron3=16 ...............................\n",
            "[CV]  neuron1=2, neuron2=16, neuron3=16, score=(train=0.956, test=0.990), total=   5.2s\n",
            "[CV] neuron1=2, neuron2=16, neuron3=16 ...............................\n",
            "[CV]  neuron1=2, neuron2=16, neuron3=16, score=(train=0.971, test=0.913), total=   4.7s\n",
            "[CV] neuron1=2, neuron2=16, neuron3=16 ...............................\n",
            "[CV]  neuron1=2, neuron2=16, neuron3=16, score=(train=0.954, test=0.951), total=   4.7s\n",
            "[CV] neuron1=2, neuron2=16, neuron3=16 ...............................\n",
            "[CV]  neuron1=2, neuron2=16, neuron3=16, score=(train=0.983, test=0.932), total=   4.7s\n",
            "[CV] neuron1=2, neuron2=16, neuron3=16 ...............................\n",
            "[CV]  neuron1=2, neuron2=16, neuron3=16, score=(train=0.976, test=0.951), total=   4.6s\n",
            "[CV] neuron1=2, neuron2=16, neuron3=25 ...............................\n",
            "[CV]  neuron1=2, neuron2=16, neuron3=25, score=(train=0.978, test=1.000), total=   4.7s\n",
            "[CV] neuron1=2, neuron2=16, neuron3=25 ...............................\n",
            "[CV]  neuron1=2, neuron2=16, neuron3=25, score=(train=0.961, test=0.942), total=   4.5s\n",
            "[CV] neuron1=2, neuron2=16, neuron3=25 ...............................\n",
            "[CV]  neuron1=2, neuron2=16, neuron3=25, score=(train=0.976, test=0.971), total=   4.6s\n",
            "[CV] neuron1=2, neuron2=16, neuron3=25 ...............................\n",
            "[CV]  neuron1=2, neuron2=16, neuron3=25, score=(train=0.981, test=0.951), total=   4.6s\n",
            "[CV] neuron1=2, neuron2=16, neuron3=25 ...............................\n",
            "[CV]  neuron1=2, neuron2=16, neuron3=25, score=(train=0.983, test=0.971), total=   4.6s\n",
            "[CV] neuron1=2, neuron2=16, neuron3=30 ...............................\n",
            "[CV]  neuron1=2, neuron2=16, neuron3=30, score=(train=0.983, test=0.990), total=   5.2s\n",
            "[CV] neuron1=2, neuron2=16, neuron3=30 ...............................\n",
            "[CV]  neuron1=2, neuron2=16, neuron3=30, score=(train=0.976, test=0.923), total=   5.1s\n",
            "[CV] neuron1=2, neuron2=16, neuron3=30 ...............................\n",
            "[CV]  neuron1=2, neuron2=16, neuron3=30, score=(train=0.935, test=0.942), total=   5.6s\n",
            "[CV] neuron1=2, neuron2=16, neuron3=30 ...............................\n",
            "[CV]  neuron1=2, neuron2=16, neuron3=30, score=(train=0.976, test=0.932), total=   5.0s\n",
            "[CV] neuron1=2, neuron2=16, neuron3=30 ...............................\n",
            "[CV]  neuron1=2, neuron2=16, neuron3=30, score=(train=0.973, test=0.951), total=   5.0s\n",
            "[CV] neuron1=2, neuron2=25, neuron3=2 ................................\n",
            "[CV]  neuron1=2, neuron2=25, neuron3=2, score=(train=0.947, test=1.000), total=   4.7s\n",
            "[CV] neuron1=2, neuron2=25, neuron3=2 ................................\n",
            "[CV]  neuron1=2, neuron2=25, neuron3=2, score=(train=0.969, test=0.942), total=   4.6s\n",
            "[CV] neuron1=2, neuron2=25, neuron3=2 ................................\n",
            "[CV]  neuron1=2, neuron2=25, neuron3=2, score=(train=0.971, test=0.981), total=   4.6s\n",
            "[CV] neuron1=2, neuron2=25, neuron3=2 ................................\n",
            "[CV]  neuron1=2, neuron2=25, neuron3=2, score=(train=0.988, test=0.951), total=   4.6s\n",
            "[CV] neuron1=2, neuron2=25, neuron3=2 ................................\n",
            "[CV]  neuron1=2, neuron2=25, neuron3=2, score=(train=0.976, test=0.903), total=   4.6s\n",
            "[CV] neuron1=2, neuron2=25, neuron3=8 ................................\n",
            "[CV]  neuron1=2, neuron2=25, neuron3=8, score=(train=0.966, test=1.000), total=   4.6s\n",
            "[CV] neuron1=2, neuron2=25, neuron3=8 ................................\n",
            "[CV]  neuron1=2, neuron2=25, neuron3=8, score=(train=0.985, test=0.962), total=   4.6s\n",
            "[CV] neuron1=2, neuron2=25, neuron3=8 ................................\n",
            "[CV]  neuron1=2, neuron2=25, neuron3=8, score=(train=0.978, test=0.981), total=   4.7s\n",
            "[CV] neuron1=2, neuron2=25, neuron3=8 ................................\n",
            "[CV]  neuron1=2, neuron2=25, neuron3=8, score=(train=0.954, test=0.903), total=   4.6s\n",
            "[CV] neuron1=2, neuron2=25, neuron3=8 ................................\n",
            "[CV]  neuron1=2, neuron2=25, neuron3=8, score=(train=0.978, test=0.942), total=   5.2s\n",
            "[CV] neuron1=2, neuron2=25, neuron3=16 ...............................\n",
            "[CV]  neuron1=2, neuron2=25, neuron3=16, score=(train=0.959, test=1.000), total=   4.6s\n",
            "[CV] neuron1=2, neuron2=25, neuron3=16 ...............................\n",
            "[CV]  neuron1=2, neuron2=25, neuron3=16, score=(train=0.971, test=0.962), total=   4.7s\n",
            "[CV] neuron1=2, neuron2=25, neuron3=16 ...............................\n",
            "[CV]  neuron1=2, neuron2=25, neuron3=16, score=(train=0.964, test=0.961), total=   4.7s\n",
            "[CV] neuron1=2, neuron2=25, neuron3=16 ...............................\n",
            "[CV]  neuron1=2, neuron2=25, neuron3=16, score=(train=0.986, test=0.922), total=   4.7s\n",
            "[CV] neuron1=2, neuron2=25, neuron3=16 ...............................\n",
            "[CV]  neuron1=2, neuron2=25, neuron3=16, score=(train=0.978, test=0.932), total=   4.7s\n",
            "[CV] neuron1=2, neuron2=25, neuron3=25 ...............................\n",
            "[CV]  neuron1=2, neuron2=25, neuron3=25, score=(train=0.935, test=0.990), total=   5.1s\n",
            "[CV] neuron1=2, neuron2=25, neuron3=25 ...............................\n",
            "[CV]  neuron1=2, neuron2=25, neuron3=25, score=(train=0.913, test=0.837), total=   5.1s\n",
            "[CV] neuron1=2, neuron2=25, neuron3=25 ...............................\n",
            "[CV]  neuron1=2, neuron2=25, neuron3=25, score=(train=0.978, test=0.981), total=   5.1s\n",
            "[CV] neuron1=2, neuron2=25, neuron3=25 ...............................\n",
            "[CV]  neuron1=2, neuron2=25, neuron3=25, score=(train=0.952, test=0.903), total=   5.0s\n",
            "[CV] neuron1=2, neuron2=25, neuron3=25 ...............................\n",
            "[CV]  neuron1=2, neuron2=25, neuron3=25, score=(train=0.973, test=0.932), total=   5.1s\n",
            "[CV] neuron1=2, neuron2=25, neuron3=30 ...............................\n",
            "[CV]  neuron1=2, neuron2=25, neuron3=30, score=(train=0.969, test=1.000), total=   5.0s\n",
            "[CV] neuron1=2, neuron2=25, neuron3=30 ...............................\n",
            "[CV]  neuron1=2, neuron2=25, neuron3=30, score=(train=0.983, test=0.962), total=   5.7s\n",
            "[CV] neuron1=2, neuron2=25, neuron3=30 ...............................\n",
            "[CV]  neuron1=2, neuron2=25, neuron3=30, score=(train=0.973, test=0.971), total=   5.1s\n",
            "[CV] neuron1=2, neuron2=25, neuron3=30 ...............................\n",
            "[CV]  neuron1=2, neuron2=25, neuron3=30, score=(train=0.978, test=0.932), total=   5.1s\n",
            "[CV] neuron1=2, neuron2=25, neuron3=30 ...............................\n",
            "[CV]  neuron1=2, neuron2=25, neuron3=30, score=(train=0.981, test=0.942), total=   5.1s\n",
            "[CV] neuron1=2, neuron2=30, neuron3=2 ................................\n",
            "[CV]  neuron1=2, neuron2=30, neuron3=2, score=(train=0.956, test=1.000), total=   4.7s\n",
            "[CV] neuron1=2, neuron2=30, neuron3=2 ................................\n",
            "[CV]  neuron1=2, neuron2=30, neuron3=2, score=(train=0.978, test=0.904), total=   4.6s\n",
            "[CV] neuron1=2, neuron2=30, neuron3=2 ................................\n",
            "[CV]  neuron1=2, neuron2=30, neuron3=2, score=(train=0.983, test=0.971), total=   4.6s\n",
            "[CV] neuron1=2, neuron2=30, neuron3=2 ................................\n",
            "[CV]  neuron1=2, neuron2=30, neuron3=2, score=(train=0.935, test=0.922), total=   4.7s\n",
            "[CV] neuron1=2, neuron2=30, neuron3=2 ................................\n",
            "[CV]  neuron1=2, neuron2=30, neuron3=2, score=(train=0.911, test=0.845), total=   4.6s\n",
            "[CV] neuron1=2, neuron2=30, neuron3=8 ................................\n",
            "[CV]  neuron1=2, neuron2=30, neuron3=8, score=(train=0.949, test=0.990), total=   4.8s\n",
            "[CV] neuron1=2, neuron2=30, neuron3=8 ................................\n",
            "[CV]  neuron1=2, neuron2=30, neuron3=8, score=(train=0.981, test=0.962), total=   4.7s\n",
            "[CV] neuron1=2, neuron2=30, neuron3=8 ................................\n",
            "[CV]  neuron1=2, neuron2=30, neuron3=8, score=(train=0.976, test=0.971), total=   4.7s\n",
            "[CV] neuron1=2, neuron2=30, neuron3=8 ................................\n",
            "[CV]  neuron1=2, neuron2=30, neuron3=8, score=(train=0.966, test=0.913), total=   5.2s\n",
            "[CV] neuron1=2, neuron2=30, neuron3=8 ................................\n",
            "[CV]  neuron1=2, neuron2=30, neuron3=8, score=(train=0.986, test=0.932), total=   4.7s\n",
            "[CV] neuron1=2, neuron2=30, neuron3=16 ...............................\n",
            "[CV]  neuron1=2, neuron2=30, neuron3=16, score=(train=0.971, test=1.000), total=   5.0s\n",
            "[CV] neuron1=2, neuron2=30, neuron3=16 ...............................\n",
            "[CV]  neuron1=2, neuron2=30, neuron3=16, score=(train=0.976, test=0.952), total=   5.0s\n",
            "[CV] neuron1=2, neuron2=30, neuron3=16 ...............................\n",
            "[CV]  neuron1=2, neuron2=30, neuron3=16, score=(train=0.964, test=0.971), total=   5.1s\n",
            "[CV] neuron1=2, neuron2=30, neuron3=16 ...............................\n",
            "[CV]  neuron1=2, neuron2=30, neuron3=16, score=(train=0.995, test=0.942), total=   5.1s\n",
            "[CV] neuron1=2, neuron2=30, neuron3=16 ...............................\n",
            "[CV]  neuron1=2, neuron2=30, neuron3=16, score=(train=0.973, test=0.922), total=   5.1s\n",
            "[CV] neuron1=2, neuron2=30, neuron3=25 ...............................\n",
            "[CV]  neuron1=2, neuron2=30, neuron3=25, score=(train=0.889, test=1.000), total=   5.0s\n",
            "[CV] neuron1=2, neuron2=30, neuron3=25 ...............................\n",
            "[CV]  neuron1=2, neuron2=30, neuron3=25, score=(train=0.969, test=0.933), total=   5.0s\n",
            "[CV] neuron1=2, neuron2=30, neuron3=25 ...............................\n",
            "[CV]  neuron1=2, neuron2=30, neuron3=25, score=(train=0.947, test=0.981), total=   5.1s\n",
            "[CV] neuron1=2, neuron2=30, neuron3=25 ...............................\n",
            "[CV]  neuron1=2, neuron2=30, neuron3=25, score=(train=0.969, test=0.922), total=   5.2s\n",
            "[CV] neuron1=2, neuron2=30, neuron3=25 ...............................\n",
            "[CV]  neuron1=2, neuron2=30, neuron3=25, score=(train=0.983, test=0.942), total=   5.1s\n",
            "[CV] neuron1=2, neuron2=30, neuron3=30 ...............................\n",
            "[CV]  neuron1=2, neuron2=30, neuron3=30, score=(train=0.985, test=1.000), total=   5.1s\n",
            "[CV] neuron1=2, neuron2=30, neuron3=30 ...............................\n",
            "[CV]  neuron1=2, neuron2=30, neuron3=30, score=(train=0.981, test=0.942), total=   5.7s\n",
            "[CV] neuron1=2, neuron2=30, neuron3=30 ...............................\n",
            "[CV]  neuron1=2, neuron2=30, neuron3=30, score=(train=0.981, test=0.981), total=   5.1s\n",
            "[CV] neuron1=2, neuron2=30, neuron3=30 ...............................\n",
            "[CV]  neuron1=2, neuron2=30, neuron3=30, score=(train=0.973, test=0.893), total=   5.0s\n",
            "[CV] neuron1=2, neuron2=30, neuron3=30 ...............................\n",
            "[CV]  neuron1=2, neuron2=30, neuron3=30, score=(train=0.973, test=0.942), total=   5.1s\n",
            "[CV] neuron1=8, neuron2=2, neuron3=2 .................................\n",
            "[CV]  neuron1=8, neuron2=2, neuron3=2, score=(train=0.961, test=1.000), total=   4.6s\n",
            "[CV] neuron1=8, neuron2=2, neuron3=2 .................................\n",
            "[CV]  neuron1=8, neuron2=2, neuron3=2, score=(train=0.983, test=0.962), total=   4.7s\n",
            "[CV] neuron1=8, neuron2=2, neuron3=2 .................................\n",
            "[CV]  neuron1=8, neuron2=2, neuron3=2, score=(train=0.976, test=0.990), total=   4.6s\n",
            "[CV] neuron1=8, neuron2=2, neuron3=2 .................................\n",
            "[CV]  neuron1=8, neuron2=2, neuron3=2, score=(train=0.961, test=0.903), total=   4.6s\n",
            "[CV] neuron1=8, neuron2=2, neuron3=2 .................................\n",
            "[CV]  neuron1=8, neuron2=2, neuron3=2, score=(train=0.964, test=0.903), total=   4.6s\n",
            "[CV] neuron1=8, neuron2=2, neuron3=8 .................................\n",
            "[CV]  neuron1=8, neuron2=2, neuron3=8, score=(train=0.925, test=1.000), total=   4.6s\n",
            "[CV] neuron1=8, neuron2=2, neuron3=8 .................................\n",
            "[CV]  neuron1=8, neuron2=2, neuron3=8, score=(train=0.976, test=0.981), total=   4.6s\n",
            "[CV] neuron1=8, neuron2=2, neuron3=8 .................................\n",
            "[CV]  neuron1=8, neuron2=2, neuron3=8, score=(train=0.959, test=0.951), total=   4.6s\n",
            "[CV] neuron1=8, neuron2=2, neuron3=8 .................................\n",
            "[CV]  neuron1=8, neuron2=2, neuron3=8, score=(train=0.983, test=0.942), total=   4.6s\n",
            "[CV] neuron1=8, neuron2=2, neuron3=8 .................................\n",
            "[CV]  neuron1=8, neuron2=2, neuron3=8, score=(train=0.918, test=0.854), total=   4.6s\n",
            "[CV] neuron1=8, neuron2=2, neuron3=16 ................................\n",
            "[CV]  neuron1=8, neuron2=2, neuron3=16, score=(train=0.973, test=1.000), total=   4.6s\n",
            "[CV] neuron1=8, neuron2=2, neuron3=16 ................................\n",
            "[CV]  neuron1=8, neuron2=2, neuron3=16, score=(train=0.978, test=0.933), total=   4.6s\n",
            "[CV] neuron1=8, neuron2=2, neuron3=16 ................................\n",
            "[CV]  neuron1=8, neuron2=2, neuron3=16, score=(train=0.971, test=0.961), total=   4.7s\n",
            "[CV] neuron1=8, neuron2=2, neuron3=16 ................................\n",
            "[CV]  neuron1=8, neuron2=2, neuron3=16, score=(train=0.986, test=0.961), total=   4.6s\n",
            "[CV] neuron1=8, neuron2=2, neuron3=16 ................................\n",
            "[CV]  neuron1=8, neuron2=2, neuron3=16, score=(train=0.981, test=0.932), total=   4.6s\n",
            "[CV] neuron1=8, neuron2=2, neuron3=25 ................................\n",
            "[CV]  neuron1=8, neuron2=2, neuron3=25, score=(train=0.973, test=1.000), total=   4.7s\n",
            "[CV] neuron1=8, neuron2=2, neuron3=25 ................................\n",
            "[CV]  neuron1=8, neuron2=2, neuron3=25, score=(train=0.952, test=0.856), total=   4.7s\n",
            "[CV] neuron1=8, neuron2=2, neuron3=25 ................................\n",
            "[CV]  neuron1=8, neuron2=2, neuron3=25, score=(train=0.940, test=0.932), total=   4.7s\n",
            "[CV] neuron1=8, neuron2=2, neuron3=25 ................................\n",
            "[CV]  neuron1=8, neuron2=2, neuron3=25, score=(train=0.976, test=0.893), total=   4.6s\n",
            "[CV] neuron1=8, neuron2=2, neuron3=25 ................................\n",
            "[CV]  neuron1=8, neuron2=2, neuron3=25, score=(train=0.942, test=0.883), total=   5.2s\n",
            "[CV] neuron1=8, neuron2=2, neuron3=30 ................................\n",
            "[CV]  neuron1=8, neuron2=2, neuron3=30, score=(train=0.966, test=1.000), total=   4.7s\n",
            "[CV] neuron1=8, neuron2=2, neuron3=30 ................................\n",
            "[CV]  neuron1=8, neuron2=2, neuron3=30, score=(train=0.976, test=0.923), total=   4.7s\n",
            "[CV] neuron1=8, neuron2=2, neuron3=30 ................................\n",
            "[CV]  neuron1=8, neuron2=2, neuron3=30, score=(train=0.964, test=0.981), total=   4.6s\n",
            "[CV] neuron1=8, neuron2=2, neuron3=30 ................................\n",
            "[CV]  neuron1=8, neuron2=2, neuron3=30, score=(train=0.969, test=0.922), total=   4.7s\n",
            "[CV] neuron1=8, neuron2=2, neuron3=30 ................................\n",
            "[CV]  neuron1=8, neuron2=2, neuron3=30, score=(train=0.932, test=0.864), total=   4.7s\n",
            "[CV] neuron1=8, neuron2=8, neuron3=2 .................................\n",
            "[CV]  neuron1=8, neuron2=8, neuron3=2, score=(train=0.956, test=1.000), total=   4.7s\n",
            "[CV] neuron1=8, neuron2=8, neuron3=2 .................................\n",
            "[CV]  neuron1=8, neuron2=8, neuron3=2, score=(train=0.973, test=0.962), total=   4.6s\n",
            "[CV] neuron1=8, neuron2=8, neuron3=2 .................................\n",
            "[CV]  neuron1=8, neuron2=8, neuron3=2, score=(train=0.983, test=0.971), total=   4.7s\n",
            "[CV] neuron1=8, neuron2=8, neuron3=2 .................................\n",
            "[CV]  neuron1=8, neuron2=8, neuron3=2, score=(train=0.976, test=0.942), total=   4.6s\n",
            "[CV] neuron1=8, neuron2=8, neuron3=2 .................................\n",
            "[CV]  neuron1=8, neuron2=8, neuron3=2, score=(train=0.959, test=0.893), total=   4.7s\n",
            "[CV] neuron1=8, neuron2=8, neuron3=8 .................................\n",
            "[CV]  neuron1=8, neuron2=8, neuron3=8, score=(train=0.976, test=1.000), total=   4.7s\n",
            "[CV] neuron1=8, neuron2=8, neuron3=8 .................................\n",
            "[CV]  neuron1=8, neuron2=8, neuron3=8, score=(train=0.983, test=0.933), total=   4.6s\n",
            "[CV] neuron1=8, neuron2=8, neuron3=8 .................................\n",
            "[CV]  neuron1=8, neuron2=8, neuron3=8, score=(train=0.937, test=0.932), total=   5.2s\n",
            "[CV] neuron1=8, neuron2=8, neuron3=8 .................................\n",
            "[CV]  neuron1=8, neuron2=8, neuron3=8, score=(train=0.988, test=0.932), total=   4.6s\n",
            "[CV] neuron1=8, neuron2=8, neuron3=8 .................................\n",
            "[CV]  neuron1=8, neuron2=8, neuron3=8, score=(train=0.978, test=0.951), total=   4.7s\n",
            "[CV] neuron1=8, neuron2=8, neuron3=16 ................................\n",
            "[CV]  neuron1=8, neuron2=8, neuron3=16, score=(train=0.913, test=1.000), total=   4.7s\n",
            "[CV] neuron1=8, neuron2=8, neuron3=16 ................................\n",
            "[CV]  neuron1=8, neuron2=8, neuron3=16, score=(train=0.956, test=0.923), total=   4.6s\n",
            "[CV] neuron1=8, neuron2=8, neuron3=16 ................................\n",
            "[CV]  neuron1=8, neuron2=8, neuron3=16, score=(train=0.937, test=0.932), total=   4.7s\n",
            "[CV] neuron1=8, neuron2=8, neuron3=16 ................................\n",
            "[CV]  neuron1=8, neuron2=8, neuron3=16, score=(train=0.964, test=0.893), total=   4.7s\n",
            "[CV] neuron1=8, neuron2=8, neuron3=16 ................................\n",
            "[CV]  neuron1=8, neuron2=8, neuron3=16, score=(train=0.976, test=0.932), total=   4.6s\n",
            "[CV] neuron1=8, neuron2=8, neuron3=25 ................................\n",
            "[CV]  neuron1=8, neuron2=8, neuron3=25, score=(train=0.954, test=0.990), total=   4.6s\n",
            "[CV] neuron1=8, neuron2=8, neuron3=25 ................................\n",
            "[CV]  neuron1=8, neuron2=8, neuron3=25, score=(train=0.964, test=0.923), total=   4.7s\n",
            "[CV] neuron1=8, neuron2=8, neuron3=25 ................................\n",
            "[CV]  neuron1=8, neuron2=8, neuron3=25, score=(train=0.964, test=0.990), total=   4.7s\n",
            "[CV] neuron1=8, neuron2=8, neuron3=25 ................................\n",
            "[CV]  neuron1=8, neuron2=8, neuron3=25, score=(train=0.983, test=0.942), total=   4.7s\n",
            "[CV] neuron1=8, neuron2=8, neuron3=25 ................................\n",
            "[CV]  neuron1=8, neuron2=8, neuron3=25, score=(train=0.944, test=0.903), total=   5.3s\n",
            "[CV] neuron1=8, neuron2=8, neuron3=30 ................................\n",
            "[CV]  neuron1=8, neuron2=8, neuron3=30, score=(train=0.959, test=1.000), total=   4.7s\n",
            "[CV] neuron1=8, neuron2=8, neuron3=30 ................................\n",
            "[CV]  neuron1=8, neuron2=8, neuron3=30, score=(train=0.954, test=0.904), total=   4.6s\n",
            "[CV] neuron1=8, neuron2=8, neuron3=30 ................................\n",
            "[CV]  neuron1=8, neuron2=8, neuron3=30, score=(train=0.954, test=0.971), total=   4.6s\n",
            "[CV] neuron1=8, neuron2=8, neuron3=30 ................................\n",
            "[CV]  neuron1=8, neuron2=8, neuron3=30, score=(train=0.990, test=0.942), total=   4.7s\n",
            "[CV] neuron1=8, neuron2=8, neuron3=30 ................................\n",
            "[CV]  neuron1=8, neuron2=8, neuron3=30, score=(train=0.964, test=0.932), total=   4.7s\n",
            "[CV] neuron1=8, neuron2=16, neuron3=2 ................................\n",
            "[CV]  neuron1=8, neuron2=16, neuron3=2, score=(train=0.969, test=1.000), total=   4.5s\n",
            "[CV] neuron1=8, neuron2=16, neuron3=2 ................................\n",
            "[CV]  neuron1=8, neuron2=16, neuron3=2, score=(train=0.976, test=0.962), total=   4.6s\n",
            "[CV] neuron1=8, neuron2=16, neuron3=2 ................................\n",
            "[CV]  neuron1=8, neuron2=16, neuron3=2, score=(train=0.981, test=0.990), total=   4.7s\n",
            "[CV] neuron1=8, neuron2=16, neuron3=2 ................................\n",
            "[CV]  neuron1=8, neuron2=16, neuron3=2, score=(train=0.988, test=0.942), total=   4.6s\n",
            "[CV] neuron1=8, neuron2=16, neuron3=2 ................................\n",
            "[CV]  neuron1=8, neuron2=16, neuron3=2, score=(train=0.961, test=0.883), total=   4.7s\n",
            "[CV] neuron1=8, neuron2=16, neuron3=8 ................................\n",
            "[CV]  neuron1=8, neuron2=16, neuron3=8, score=(train=0.976, test=0.990), total=   4.6s\n",
            "[CV] neuron1=8, neuron2=16, neuron3=8 ................................\n",
            "[CV]  neuron1=8, neuron2=16, neuron3=8, score=(train=0.978, test=0.962), total=   4.6s\n",
            "[CV] neuron1=8, neuron2=16, neuron3=8 ................................\n",
            "[CV]  neuron1=8, neuron2=16, neuron3=8, score=(train=0.964, test=0.942), total=   4.6s\n",
            "[CV] neuron1=8, neuron2=16, neuron3=8 ................................\n",
            "[CV]  neuron1=8, neuron2=16, neuron3=8, score=(train=0.954, test=0.913), total=   4.7s\n",
            "[CV] neuron1=8, neuron2=16, neuron3=8 ................................\n",
            "[CV]  neuron1=8, neuron2=16, neuron3=8, score=(train=0.978, test=0.942), total=   4.7s\n",
            "[CV] neuron1=8, neuron2=16, neuron3=16 ...............................\n",
            "[CV]  neuron1=8, neuron2=16, neuron3=16, score=(train=0.966, test=1.000), total=   4.6s\n",
            "[CV] neuron1=8, neuron2=16, neuron3=16 ...............................\n",
            "[CV]  neuron1=8, neuron2=16, neuron3=16, score=(train=0.985, test=0.942), total=   4.6s\n",
            "[CV] neuron1=8, neuron2=16, neuron3=16 ...............................\n",
            "[CV]  neuron1=8, neuron2=16, neuron3=16, score=(train=0.971, test=0.981), total=   4.7s\n",
            "[CV] neuron1=8, neuron2=16, neuron3=16 ...............................\n",
            "[CV]  neuron1=8, neuron2=16, neuron3=16, score=(train=0.947, test=0.903), total=   4.6s\n",
            "[CV] neuron1=8, neuron2=16, neuron3=16 ...............................\n",
            "[CV]  neuron1=8, neuron2=16, neuron3=16, score=(train=0.981, test=0.971), total=   4.7s\n",
            "[CV] neuron1=8, neuron2=16, neuron3=25 ...............................\n",
            "[CV]  neuron1=8, neuron2=16, neuron3=25, score=(train=0.973, test=1.000), total=   4.8s\n",
            "[CV] neuron1=8, neuron2=16, neuron3=25 ...............................\n",
            "[CV]  neuron1=8, neuron2=16, neuron3=25, score=(train=0.976, test=0.933), total=   4.8s\n",
            "[CV] neuron1=8, neuron2=16, neuron3=25 ...............................\n",
            "[CV]  neuron1=8, neuron2=16, neuron3=25, score=(train=0.983, test=0.971), total=   5.2s\n",
            "[CV] neuron1=8, neuron2=16, neuron3=25 ...............................\n",
            "[CV]  neuron1=8, neuron2=16, neuron3=25, score=(train=0.983, test=0.942), total=   4.7s\n",
            "[CV] neuron1=8, neuron2=16, neuron3=25 ...............................\n",
            "[CV]  neuron1=8, neuron2=16, neuron3=25, score=(train=0.969, test=0.951), total=   4.7s\n",
            "[CV] neuron1=8, neuron2=16, neuron3=30 ...............................\n",
            "[CV]  neuron1=8, neuron2=16, neuron3=30, score=(train=0.906, test=0.990), total=   5.1s\n",
            "[CV] neuron1=8, neuron2=16, neuron3=30 ...............................\n",
            "[CV]  neuron1=8, neuron2=16, neuron3=30, score=(train=0.930, test=0.856), total=   5.2s\n",
            "[CV] neuron1=8, neuron2=16, neuron3=30 ...............................\n",
            "[CV]  neuron1=8, neuron2=16, neuron3=30, score=(train=0.969, test=0.981), total=   5.1s\n",
            "[CV] neuron1=8, neuron2=16, neuron3=30 ...............................\n",
            "[CV]  neuron1=8, neuron2=16, neuron3=30, score=(train=0.988, test=0.942), total=   5.0s\n",
            "[CV] neuron1=8, neuron2=16, neuron3=30 ...............................\n",
            "[CV]  neuron1=8, neuron2=16, neuron3=30, score=(train=0.978, test=0.961), total=   5.1s\n",
            "[CV] neuron1=8, neuron2=25, neuron3=2 ................................\n",
            "[CV]  neuron1=8, neuron2=25, neuron3=2, score=(train=0.978, test=1.000), total=   4.7s\n",
            "[CV] neuron1=8, neuron2=25, neuron3=2 ................................\n",
            "[CV]  neuron1=8, neuron2=25, neuron3=2, score=(train=0.966, test=0.952), total=   4.7s\n",
            "[CV] neuron1=8, neuron2=25, neuron3=2 ................................\n",
            "[CV]  neuron1=8, neuron2=25, neuron3=2, score=(train=0.978, test=0.990), total=   4.6s\n",
            "[CV] neuron1=8, neuron2=25, neuron3=2 ................................\n",
            "[CV]  neuron1=8, neuron2=25, neuron3=2, score=(train=0.964, test=0.932), total=   4.7s\n",
            "[CV] neuron1=8, neuron2=25, neuron3=2 ................................\n",
            "[CV]  neuron1=8, neuron2=25, neuron3=2, score=(train=0.966, test=0.903), total=   4.6s\n",
            "[CV] neuron1=8, neuron2=25, neuron3=8 ................................\n",
            "[CV]  neuron1=8, neuron2=25, neuron3=8, score=(train=0.973, test=1.000), total=   5.3s\n",
            "[CV] neuron1=8, neuron2=25, neuron3=8 ................................\n",
            "[CV]  neuron1=8, neuron2=25, neuron3=8, score=(train=0.985, test=0.952), total=   4.7s\n",
            "[CV] neuron1=8, neuron2=25, neuron3=8 ................................\n",
            "[CV]  neuron1=8, neuron2=25, neuron3=8, score=(train=0.976, test=0.971), total=   4.7s\n",
            "[CV] neuron1=8, neuron2=25, neuron3=8 ................................\n",
            "[CV]  neuron1=8, neuron2=25, neuron3=8, score=(train=0.995, test=0.932), total=   4.7s\n",
            "[CV] neuron1=8, neuron2=25, neuron3=8 ................................\n",
            "[CV]  neuron1=8, neuron2=25, neuron3=8, score=(train=0.930, test=0.903), total=   4.7s\n",
            "[CV] neuron1=8, neuron2=25, neuron3=16 ...............................\n",
            "[CV]  neuron1=8, neuron2=25, neuron3=16, score=(train=0.949, test=1.000), total=   4.7s\n",
            "[CV] neuron1=8, neuron2=25, neuron3=16 ...............................\n",
            "[CV]  neuron1=8, neuron2=25, neuron3=16, score=(train=0.964, test=0.942), total=   4.6s\n",
            "[CV] neuron1=8, neuron2=25, neuron3=16 ...............................\n",
            "[CV]  neuron1=8, neuron2=25, neuron3=16, score=(train=0.971, test=0.961), total=   4.7s\n",
            "[CV] neuron1=8, neuron2=25, neuron3=16 ...............................\n",
            "[CV]  neuron1=8, neuron2=25, neuron3=16, score=(train=0.966, test=0.893), total=   4.8s\n",
            "[CV] neuron1=8, neuron2=25, neuron3=16 ...............................\n",
            "[CV]  neuron1=8, neuron2=25, neuron3=16, score=(train=0.961, test=0.951), total=   4.6s\n",
            "[CV] neuron1=8, neuron2=25, neuron3=25 ...............................\n",
            "[CV]  neuron1=8, neuron2=25, neuron3=25, score=(train=0.959, test=1.000), total=   5.1s\n",
            "[CV] neuron1=8, neuron2=25, neuron3=25 ...............................\n",
            "[CV]  neuron1=8, neuron2=25, neuron3=25, score=(train=0.949, test=0.885), total=   5.0s\n",
            "[CV] neuron1=8, neuron2=25, neuron3=25 ...............................\n",
            "[CV]  neuron1=8, neuron2=25, neuron3=25, score=(train=0.983, test=0.981), total=   5.7s\n",
            "[CV] neuron1=8, neuron2=25, neuron3=25 ...............................\n",
            "[CV]  neuron1=8, neuron2=25, neuron3=25, score=(train=0.894, test=0.854), total=   5.1s\n",
            "[CV] neuron1=8, neuron2=25, neuron3=25 ...............................\n",
            "[CV]  neuron1=8, neuron2=25, neuron3=25, score=(train=0.954, test=0.903), total=   5.1s\n",
            "[CV] neuron1=8, neuron2=25, neuron3=30 ...............................\n",
            "[CV]  neuron1=8, neuron2=25, neuron3=30, score=(train=0.964, test=1.000), total=   5.1s\n",
            "[CV] neuron1=8, neuron2=25, neuron3=30 ...............................\n",
            "[CV]  neuron1=8, neuron2=25, neuron3=30, score=(train=0.985, test=0.962), total=   5.1s\n",
            "[CV] neuron1=8, neuron2=25, neuron3=30 ...............................\n",
            "[CV]  neuron1=8, neuron2=25, neuron3=30, score=(train=0.961, test=0.951), total=   5.1s\n",
            "[CV] neuron1=8, neuron2=25, neuron3=30 ...............................\n",
            "[CV]  neuron1=8, neuron2=25, neuron3=30, score=(train=0.908, test=0.883), total=   5.3s\n",
            "[CV] neuron1=8, neuron2=25, neuron3=30 ...............................\n",
            "[CV]  neuron1=8, neuron2=25, neuron3=30, score=(train=0.954, test=0.942), total=   5.2s\n",
            "[CV] neuron1=8, neuron2=30, neuron3=2 ................................\n",
            "[CV]  neuron1=8, neuron2=30, neuron3=2, score=(train=0.969, test=1.000), total=   4.6s\n",
            "[CV] neuron1=8, neuron2=30, neuron3=2 ................................\n",
            "[CV]  neuron1=8, neuron2=30, neuron3=2, score=(train=0.973, test=0.923), total=   4.7s\n",
            "[CV] neuron1=8, neuron2=30, neuron3=2 ................................\n",
            "[CV]  neuron1=8, neuron2=30, neuron3=2, score=(train=0.981, test=0.961), total=   4.7s\n",
            "[CV] neuron1=8, neuron2=30, neuron3=2 ................................\n",
            "[CV]  neuron1=8, neuron2=30, neuron3=2, score=(train=0.990, test=0.951), total=   4.6s\n",
            "[CV] neuron1=8, neuron2=30, neuron3=2 ................................\n",
            "[CV]  neuron1=8, neuron2=30, neuron3=2, score=(train=0.973, test=0.942), total=   5.2s\n",
            "[CV] neuron1=8, neuron2=30, neuron3=8 ................................\n",
            "[CV]  neuron1=8, neuron2=30, neuron3=8, score=(train=0.850, test=0.990), total=   4.7s\n",
            "[CV] neuron1=8, neuron2=30, neuron3=8 ................................\n",
            "[CV]  neuron1=8, neuron2=30, neuron3=8, score=(train=0.966, test=0.942), total=   4.7s\n",
            "[CV] neuron1=8, neuron2=30, neuron3=8 ................................\n",
            "[CV]  neuron1=8, neuron2=30, neuron3=8, score=(train=0.981, test=0.971), total=   4.6s\n",
            "[CV] neuron1=8, neuron2=30, neuron3=8 ................................\n",
            "[CV]  neuron1=8, neuron2=30, neuron3=8, score=(train=0.964, test=0.913), total=   4.7s\n",
            "[CV] neuron1=8, neuron2=30, neuron3=8 ................................\n",
            "[CV]  neuron1=8, neuron2=30, neuron3=8, score=(train=0.915, test=0.854), total=   4.7s\n",
            "[CV] neuron1=8, neuron2=30, neuron3=16 ...............................\n",
            "[CV]  neuron1=8, neuron2=30, neuron3=16, score=(train=0.964, test=1.000), total=   5.0s\n",
            "[CV] neuron1=8, neuron2=30, neuron3=16 ...............................\n",
            "[CV]  neuron1=8, neuron2=30, neuron3=16, score=(train=0.983, test=0.952), total=   5.0s\n",
            "[CV] neuron1=8, neuron2=30, neuron3=16 ...............................\n",
            "[CV]  neuron1=8, neuron2=30, neuron3=16, score=(train=0.961, test=0.971), total=   5.0s\n",
            "[CV] neuron1=8, neuron2=30, neuron3=16 ...............................\n",
            "[CV]  neuron1=8, neuron2=30, neuron3=16, score=(train=0.986, test=0.951), total=   5.1s\n",
            "[CV] neuron1=8, neuron2=30, neuron3=16 ...............................\n",
            "[CV]  neuron1=8, neuron2=30, neuron3=16, score=(train=0.925, test=0.883), total=   5.0s\n",
            "[CV] neuron1=8, neuron2=30, neuron3=25 ...............................\n",
            "[CV]  neuron1=8, neuron2=30, neuron3=25, score=(train=0.966, test=1.000), total=   5.6s\n",
            "[CV] neuron1=8, neuron2=30, neuron3=25 ...............................\n",
            "[CV]  neuron1=8, neuron2=30, neuron3=25, score=(train=0.956, test=0.894), total=   5.1s\n",
            "[CV] neuron1=8, neuron2=30, neuron3=25 ...............................\n",
            "[CV]  neuron1=8, neuron2=30, neuron3=25, score=(train=0.882, test=0.893), total=   5.0s\n",
            "[CV] neuron1=8, neuron2=30, neuron3=25 ...............................\n",
            "[CV]  neuron1=8, neuron2=30, neuron3=25, score=(train=0.986, test=0.922), total=   5.1s\n",
            "[CV] neuron1=8, neuron2=30, neuron3=25 ...............................\n",
            "[CV]  neuron1=8, neuron2=30, neuron3=25, score=(train=0.988, test=0.942), total=   5.1s\n",
            "[CV] neuron1=8, neuron2=30, neuron3=30 ...............................\n",
            "[CV]  neuron1=8, neuron2=30, neuron3=30, score=(train=0.942, test=1.000), total=   5.1s\n",
            "[CV] neuron1=8, neuron2=30, neuron3=30 ...............................\n",
            "[CV]  neuron1=8, neuron2=30, neuron3=30, score=(train=0.976, test=0.942), total=   4.9s\n",
            "[CV] neuron1=8, neuron2=30, neuron3=30 ...............................\n",
            "[CV]  neuron1=8, neuron2=30, neuron3=30, score=(train=0.969, test=0.961), total=   5.0s\n",
            "[CV] neuron1=8, neuron2=30, neuron3=30 ...............................\n",
            "[CV]  neuron1=8, neuron2=30, neuron3=30, score=(train=0.944, test=0.913), total=   5.0s\n",
            "[CV] neuron1=8, neuron2=30, neuron3=30 ...............................\n",
            "[CV]  neuron1=8, neuron2=30, neuron3=30, score=(train=0.978, test=0.951), total=   5.1s\n",
            "[CV] neuron1=16, neuron2=2, neuron3=2 ................................\n",
            "[CV]  neuron1=16, neuron2=2, neuron3=2, score=(train=0.956, test=0.990), total=   5.1s\n",
            "[CV] neuron1=16, neuron2=2, neuron3=2 ................................\n",
            "[CV]  neuron1=16, neuron2=2, neuron3=2, score=(train=0.966, test=0.952), total=   5.1s\n",
            "[CV] neuron1=16, neuron2=2, neuron3=2 ................................\n",
            "[CV]  neuron1=16, neuron2=2, neuron3=2, score=(train=0.969, test=0.961), total=   5.1s\n",
            "[CV] neuron1=16, neuron2=2, neuron3=2 ................................\n",
            "[CV]  neuron1=16, neuron2=2, neuron3=2, score=(train=0.983, test=0.922), total=   5.6s\n",
            "[CV] neuron1=16, neuron2=2, neuron3=2 ................................\n",
            "[CV]  neuron1=16, neuron2=2, neuron3=2, score=(train=0.957, test=0.913), total=   5.1s\n",
            "[CV] neuron1=16, neuron2=2, neuron3=8 ................................\n",
            "[CV]  neuron1=16, neuron2=2, neuron3=8, score=(train=0.964, test=1.000), total=   5.1s\n",
            "[CV] neuron1=16, neuron2=2, neuron3=8 ................................\n",
            "[CV]  neuron1=16, neuron2=2, neuron3=8, score=(train=0.908, test=0.837), total=   5.1s\n",
            "[CV] neuron1=16, neuron2=2, neuron3=8 ................................\n",
            "[CV]  neuron1=16, neuron2=2, neuron3=8, score=(train=0.930, test=0.922), total=   5.0s\n",
            "[CV] neuron1=16, neuron2=2, neuron3=8 ................................\n",
            "[CV]  neuron1=16, neuron2=2, neuron3=8, score=(train=0.973, test=0.932), total=   5.1s\n",
            "[CV] neuron1=16, neuron2=2, neuron3=8 ................................\n",
            "[CV]  neuron1=16, neuron2=2, neuron3=8, score=(train=0.976, test=0.942), total=   5.1s\n",
            "[CV] neuron1=16, neuron2=2, neuron3=16 ...............................\n",
            "[CV]  neuron1=16, neuron2=2, neuron3=16, score=(train=0.956, test=1.000), total=   5.0s\n",
            "[CV] neuron1=16, neuron2=2, neuron3=16 ...............................\n",
            "[CV]  neuron1=16, neuron2=2, neuron3=16, score=(train=0.956, test=0.933), total=   5.1s\n",
            "[CV] neuron1=16, neuron2=2, neuron3=16 ...............................\n",
            "[CV]  neuron1=16, neuron2=2, neuron3=16, score=(train=0.983, test=0.981), total=   5.1s\n",
            "[CV] neuron1=16, neuron2=2, neuron3=16 ...............................\n",
            "[CV]  neuron1=16, neuron2=2, neuron3=16, score=(train=0.976, test=0.942), total=   5.1s\n",
            "[CV] neuron1=16, neuron2=2, neuron3=16 ...............................\n",
            "[CV]  neuron1=16, neuron2=2, neuron3=16, score=(train=0.983, test=0.951), total=   5.2s\n",
            "[CV] neuron1=16, neuron2=2, neuron3=25 ...............................\n",
            "[CV]  neuron1=16, neuron2=2, neuron3=25, score=(train=0.966, test=1.000), total=   5.7s\n",
            "[CV] neuron1=16, neuron2=2, neuron3=25 ...............................\n",
            "[CV]  neuron1=16, neuron2=2, neuron3=25, score=(train=0.961, test=0.904), total=   5.1s\n",
            "[CV] neuron1=16, neuron2=2, neuron3=25 ...............................\n",
            "[CV]  neuron1=16, neuron2=2, neuron3=25, score=(train=0.930, test=0.922), total=   5.1s\n",
            "[CV] neuron1=16, neuron2=2, neuron3=25 ...............................\n",
            "[CV]  neuron1=16, neuron2=2, neuron3=25, score=(train=0.940, test=0.951), total=   5.1s\n",
            "[CV] neuron1=16, neuron2=2, neuron3=25 ...............................\n",
            "[CV]  neuron1=16, neuron2=2, neuron3=25, score=(train=0.937, test=0.883), total=   5.1s\n",
            "[CV] neuron1=16, neuron2=2, neuron3=30 ...............................\n",
            "[CV]  neuron1=16, neuron2=2, neuron3=30, score=(train=0.966, test=1.000), total=   5.1s\n",
            "[CV] neuron1=16, neuron2=2, neuron3=30 ...............................\n",
            "[CV]  neuron1=16, neuron2=2, neuron3=30, score=(train=0.937, test=0.923), total=   5.0s\n",
            "[CV] neuron1=16, neuron2=2, neuron3=30 ...............................\n",
            "[CV]  neuron1=16, neuron2=2, neuron3=30, score=(train=0.976, test=0.971), total=   5.0s\n",
            "[CV] neuron1=16, neuron2=2, neuron3=30 ...............................\n",
            "[CV]  neuron1=16, neuron2=2, neuron3=30, score=(train=0.964, test=0.932), total=   5.1s\n",
            "[CV] neuron1=16, neuron2=2, neuron3=30 ...............................\n",
            "[CV]  neuron1=16, neuron2=2, neuron3=30, score=(train=0.959, test=0.883), total=   5.1s\n",
            "[CV] neuron1=16, neuron2=8, neuron3=2 ................................\n",
            "[CV]  neuron1=16, neuron2=8, neuron3=2, score=(train=0.966, test=1.000), total=   5.1s\n",
            "[CV] neuron1=16, neuron2=8, neuron3=2 ................................\n",
            "[CV]  neuron1=16, neuron2=8, neuron3=2, score=(train=0.976, test=0.962), total=   4.9s\n",
            "[CV] neuron1=16, neuron2=8, neuron3=2 ................................\n",
            "[CV]  neuron1=16, neuron2=8, neuron3=2, score=(train=0.964, test=0.951), total=   5.5s\n",
            "[CV] neuron1=16, neuron2=8, neuron3=2 ................................\n",
            "[CV]  neuron1=16, neuron2=8, neuron3=2, score=(train=0.973, test=0.922), total=   5.1s\n",
            "[CV] neuron1=16, neuron2=8, neuron3=2 ................................\n",
            "[CV]  neuron1=16, neuron2=8, neuron3=2, score=(train=0.986, test=0.981), total=   5.1s\n",
            "[CV] neuron1=16, neuron2=8, neuron3=8 ................................\n",
            "[CV]  neuron1=16, neuron2=8, neuron3=8, score=(train=0.976, test=1.000), total=   5.0s\n",
            "[CV] neuron1=16, neuron2=8, neuron3=8 ................................\n",
            "[CV]  neuron1=16, neuron2=8, neuron3=8, score=(train=0.973, test=0.913), total=   5.1s\n",
            "[CV] neuron1=16, neuron2=8, neuron3=8 ................................\n",
            "[CV]  neuron1=16, neuron2=8, neuron3=8, score=(train=0.976, test=0.981), total=   5.3s\n",
            "[CV] neuron1=16, neuron2=8, neuron3=8 ................................\n",
            "[CV]  neuron1=16, neuron2=8, neuron3=8, score=(train=0.973, test=0.942), total=   5.0s\n",
            "[CV] neuron1=16, neuron2=8, neuron3=8 ................................\n",
            "[CV]  neuron1=16, neuron2=8, neuron3=8, score=(train=0.983, test=0.942), total=   5.1s\n",
            "[CV] neuron1=16, neuron2=8, neuron3=16 ...............................\n",
            "[CV]  neuron1=16, neuron2=8, neuron3=16, score=(train=0.964, test=1.000), total=   5.1s\n",
            "[CV] neuron1=16, neuron2=8, neuron3=16 ...............................\n",
            "[CV]  neuron1=16, neuron2=8, neuron3=16, score=(train=0.964, test=0.904), total=   5.1s\n",
            "[CV] neuron1=16, neuron2=8, neuron3=16 ...............................\n",
            "[CV]  neuron1=16, neuron2=8, neuron3=16, score=(train=0.973, test=0.961), total=   5.2s\n",
            "[CV] neuron1=16, neuron2=8, neuron3=16 ...............................\n",
            "[CV]  neuron1=16, neuron2=8, neuron3=16, score=(train=0.986, test=0.951), total=   5.6s\n",
            "[CV] neuron1=16, neuron2=8, neuron3=16 ...............................\n",
            "[CV]  neuron1=16, neuron2=8, neuron3=16, score=(train=0.957, test=0.903), total=   5.1s\n",
            "[CV] neuron1=16, neuron2=8, neuron3=25 ...............................\n",
            "[CV]  neuron1=16, neuron2=8, neuron3=25, score=(train=0.930, test=1.000), total=   5.1s\n",
            "[CV] neuron1=16, neuron2=8, neuron3=25 ...............................\n",
            "[CV]  neuron1=16, neuron2=8, neuron3=25, score=(train=0.978, test=0.913), total=   5.1s\n",
            "[CV] neuron1=16, neuron2=8, neuron3=25 ...............................\n",
            "[CV]  neuron1=16, neuron2=8, neuron3=25, score=(train=0.966, test=0.942), total=   5.1s\n",
            "[CV] neuron1=16, neuron2=8, neuron3=25 ...............................\n",
            "[CV]  neuron1=16, neuron2=8, neuron3=25, score=(train=0.954, test=0.893), total=   5.2s\n",
            "[CV] neuron1=16, neuron2=8, neuron3=25 ...............................\n",
            "[CV]  neuron1=16, neuron2=8, neuron3=25, score=(train=0.957, test=0.883), total=   5.2s\n",
            "[CV] neuron1=16, neuron2=8, neuron3=30 ...............................\n",
            "[CV]  neuron1=16, neuron2=8, neuron3=30, score=(train=0.973, test=1.000), total=   5.2s\n",
            "[CV] neuron1=16, neuron2=8, neuron3=30 ...............................\n",
            "[CV]  neuron1=16, neuron2=8, neuron3=30, score=(train=0.956, test=0.933), total=   5.1s\n",
            "[CV] neuron1=16, neuron2=8, neuron3=30 ...............................\n",
            "[CV]  neuron1=16, neuron2=8, neuron3=30, score=(train=0.983, test=0.971), total=   5.1s\n",
            "[CV] neuron1=16, neuron2=8, neuron3=30 ...............................\n",
            "[CV]  neuron1=16, neuron2=8, neuron3=30, score=(train=0.981, test=0.932), total=   5.1s\n",
            "[CV] neuron1=16, neuron2=8, neuron3=30 ...............................\n",
            "[CV]  neuron1=16, neuron2=8, neuron3=30, score=(train=0.981, test=0.951), total=   5.2s\n",
            "[CV] neuron1=16, neuron2=16, neuron3=2 ...............................\n",
            "[CV]  neuron1=16, neuron2=16, neuron3=2, score=(train=0.939, test=1.000), total=   5.1s\n",
            "[CV] neuron1=16, neuron2=16, neuron3=2 ...............................\n",
            "[CV]  neuron1=16, neuron2=16, neuron3=2, score=(train=0.947, test=0.875), total=   5.6s\n",
            "[CV] neuron1=16, neuron2=16, neuron3=2 ...............................\n",
            "[CV]  neuron1=16, neuron2=16, neuron3=2, score=(train=0.935, test=0.951), total=   5.1s\n",
            "[CV] neuron1=16, neuron2=16, neuron3=2 ...............................\n",
            "[CV]  neuron1=16, neuron2=16, neuron3=2, score=(train=0.983, test=0.922), total=   5.2s\n",
            "[CV] neuron1=16, neuron2=16, neuron3=2 ...............................\n",
            "[CV]  neuron1=16, neuron2=16, neuron3=2, score=(train=0.986, test=0.932), total=   5.1s\n",
            "[CV] neuron1=16, neuron2=16, neuron3=8 ...............................\n",
            "[CV]  neuron1=16, neuron2=16, neuron3=8, score=(train=0.973, test=1.000), total=   5.1s\n",
            "[CV] neuron1=16, neuron2=16, neuron3=8 ...............................\n",
            "[CV]  neuron1=16, neuron2=16, neuron3=8, score=(train=0.981, test=0.971), total=   5.3s\n",
            "[CV] neuron1=16, neuron2=16, neuron3=8 ...............................\n",
            "[CV]  neuron1=16, neuron2=16, neuron3=8, score=(train=0.973, test=0.961), total=   5.1s\n",
            "[CV] neuron1=16, neuron2=16, neuron3=8 ...............................\n",
            "[CV]  neuron1=16, neuron2=16, neuron3=8, score=(train=0.986, test=0.951), total=   5.1s\n",
            "[CV] neuron1=16, neuron2=16, neuron3=8 ...............................\n",
            "[CV]  neuron1=16, neuron2=16, neuron3=8, score=(train=0.983, test=0.961), total=   5.1s\n",
            "[CV] neuron1=16, neuron2=16, neuron3=16 ..............................\n",
            "[CV]  neuron1=16, neuron2=16, neuron3=16, score=(train=0.988, test=1.000), total=   5.1s\n",
            "[CV] neuron1=16, neuron2=16, neuron3=16 ..............................\n",
            "[CV]  neuron1=16, neuron2=16, neuron3=16, score=(train=0.981, test=0.942), total=   5.1s\n",
            "[CV] neuron1=16, neuron2=16, neuron3=16 ..............................\n",
            "[CV]  neuron1=16, neuron2=16, neuron3=16, score=(train=0.971, test=0.951), total=   5.1s\n",
            "[CV] neuron1=16, neuron2=16, neuron3=16 ..............................\n",
            "[CV]  neuron1=16, neuron2=16, neuron3=16, score=(train=0.986, test=0.942), total=   5.7s\n",
            "[CV] neuron1=16, neuron2=16, neuron3=16 ..............................\n",
            "[CV]  neuron1=16, neuron2=16, neuron3=16, score=(train=0.986, test=0.951), total=   5.2s\n",
            "[CV] neuron1=16, neuron2=16, neuron3=25 ..............................\n",
            "[CV]  neuron1=16, neuron2=16, neuron3=25, score=(train=0.840, test=1.000), total=   5.1s\n",
            "[CV] neuron1=16, neuron2=16, neuron3=25 ..............................\n",
            "[CV]  neuron1=16, neuron2=16, neuron3=25, score=(train=0.956, test=0.904), total=   5.1s\n",
            "[CV] neuron1=16, neuron2=16, neuron3=25 ..............................\n",
            "[CV]  neuron1=16, neuron2=16, neuron3=25, score=(train=0.947, test=0.942), total=   5.2s\n",
            "[CV] neuron1=16, neuron2=16, neuron3=25 ..............................\n",
            "[CV]  neuron1=16, neuron2=16, neuron3=25, score=(train=0.964, test=0.922), total=   5.1s\n",
            "[CV] neuron1=16, neuron2=16, neuron3=25 ..............................\n",
            "[CV]  neuron1=16, neuron2=16, neuron3=25, score=(train=0.986, test=0.961), total=   5.1s\n",
            "[CV] neuron1=16, neuron2=16, neuron3=30 ..............................\n",
            "[CV]  neuron1=16, neuron2=16, neuron3=30, score=(train=0.862, test=0.990), total=   5.3s\n",
            "[CV] neuron1=16, neuron2=16, neuron3=30 ..............................\n",
            "[CV]  neuron1=16, neuron2=16, neuron3=30, score=(train=0.961, test=0.923), total=   5.3s\n",
            "[CV] neuron1=16, neuron2=16, neuron3=30 ..............................\n",
            "[CV]  neuron1=16, neuron2=16, neuron3=30, score=(train=0.942, test=0.961), total=   5.3s\n",
            "[CV] neuron1=16, neuron2=16, neuron3=30 ..............................\n",
            "[CV]  neuron1=16, neuron2=16, neuron3=30, score=(train=0.978, test=0.932), total=   5.3s\n",
            "[CV] neuron1=16, neuron2=16, neuron3=30 ..............................\n",
            "[CV]  neuron1=16, neuron2=16, neuron3=30, score=(train=0.978, test=0.932), total=   5.2s\n",
            "[CV] neuron1=16, neuron2=25, neuron3=2 ...............................\n",
            "[CV]  neuron1=16, neuron2=25, neuron3=2, score=(train=0.983, test=1.000), total=   5.5s\n",
            "[CV] neuron1=16, neuron2=25, neuron3=2 ...............................\n",
            "[CV]  neuron1=16, neuron2=25, neuron3=2, score=(train=0.930, test=0.933), total=   5.0s\n",
            "[CV] neuron1=16, neuron2=25, neuron3=2 ...............................\n",
            "[CV]  neuron1=16, neuron2=25, neuron3=2, score=(train=0.959, test=0.922), total=   5.1s\n",
            "[CV] neuron1=16, neuron2=25, neuron3=2 ...............................\n",
            "[CV]  neuron1=16, neuron2=25, neuron3=2, score=(train=0.981, test=0.942), total=   5.0s\n",
            "[CV] neuron1=16, neuron2=25, neuron3=2 ...............................\n",
            "[CV]  neuron1=16, neuron2=25, neuron3=2, score=(train=0.971, test=0.951), total=   5.2s\n",
            "[CV] neuron1=16, neuron2=25, neuron3=8 ...............................\n",
            "[CV]  neuron1=16, neuron2=25, neuron3=8, score=(train=0.971, test=0.990), total=   5.1s\n",
            "[CV] neuron1=16, neuron2=25, neuron3=8 ...............................\n",
            "[CV]  neuron1=16, neuron2=25, neuron3=8, score=(train=0.983, test=0.962), total=   5.0s\n",
            "[CV] neuron1=16, neuron2=25, neuron3=8 ...............................\n",
            "[CV]  neuron1=16, neuron2=25, neuron3=8, score=(train=0.973, test=0.961), total=   5.1s\n",
            "[CV] neuron1=16, neuron2=25, neuron3=8 ...............................\n",
            "[CV]  neuron1=16, neuron2=25, neuron3=8, score=(train=0.990, test=0.942), total=   5.2s\n",
            "[CV] neuron1=16, neuron2=25, neuron3=8 ...............................\n",
            "[CV]  neuron1=16, neuron2=25, neuron3=8, score=(train=0.978, test=0.942), total=   5.1s\n",
            "[CV] neuron1=16, neuron2=25, neuron3=16 ..............................\n",
            "[CV]  neuron1=16, neuron2=25, neuron3=16, score=(train=0.969, test=1.000), total=   5.1s\n",
            "[CV] neuron1=16, neuron2=25, neuron3=16 ..............................\n",
            "[CV]  neuron1=16, neuron2=25, neuron3=16, score=(train=0.949, test=0.923), total=   5.6s\n",
            "[CV] neuron1=16, neuron2=25, neuron3=16 ..............................\n",
            "[CV]  neuron1=16, neuron2=25, neuron3=16, score=(train=0.986, test=0.961), total=   5.0s\n",
            "[CV] neuron1=16, neuron2=25, neuron3=16 ..............................\n",
            "[CV]  neuron1=16, neuron2=25, neuron3=16, score=(train=0.981, test=0.922), total=   5.0s\n",
            "[CV] neuron1=16, neuron2=25, neuron3=16 ..............................\n",
            "[CV]  neuron1=16, neuron2=25, neuron3=16, score=(train=0.971, test=0.922), total=   5.1s\n",
            "[CV] neuron1=16, neuron2=25, neuron3=25 ..............................\n",
            "[CV]  neuron1=16, neuron2=25, neuron3=25, score=(train=0.877, test=1.000), total=   5.3s\n",
            "[CV] neuron1=16, neuron2=25, neuron3=25 ..............................\n",
            "[CV]  neuron1=16, neuron2=25, neuron3=25, score=(train=0.966, test=0.913), total=   5.3s\n",
            "[CV] neuron1=16, neuron2=25, neuron3=25 ..............................\n",
            "[CV]  neuron1=16, neuron2=25, neuron3=25, score=(train=0.959, test=0.981), total=   5.2s\n",
            "[CV] neuron1=16, neuron2=25, neuron3=25 ..............................\n",
            "[CV]  neuron1=16, neuron2=25, neuron3=25, score=(train=0.973, test=0.903), total=   5.3s\n",
            "[CV] neuron1=16, neuron2=25, neuron3=25 ..............................\n",
            "[CV]  neuron1=16, neuron2=25, neuron3=25, score=(train=0.976, test=0.942), total=   5.3s\n",
            "[CV] neuron1=16, neuron2=25, neuron3=30 ..............................\n",
            "[CV]  neuron1=16, neuron2=25, neuron3=30, score=(train=0.952, test=1.000), total=   5.3s\n",
            "[CV] neuron1=16, neuron2=25, neuron3=30 ..............................\n",
            "[CV]  neuron1=16, neuron2=25, neuron3=30, score=(train=0.976, test=0.952), total=   5.4s\n",
            "[CV] neuron1=16, neuron2=25, neuron3=30 ..............................\n",
            "[CV]  neuron1=16, neuron2=25, neuron3=30, score=(train=0.976, test=0.971), total=   5.3s\n",
            "[CV] neuron1=16, neuron2=25, neuron3=30 ..............................\n",
            "[CV]  neuron1=16, neuron2=25, neuron3=30, score=(train=0.986, test=0.961), total=   5.3s\n",
            "[CV] neuron1=16, neuron2=25, neuron3=30 ..............................\n",
            "[CV]  neuron1=16, neuron2=25, neuron3=30, score=(train=0.952, test=0.913), total=   5.8s\n",
            "[CV] neuron1=16, neuron2=30, neuron3=2 ...............................\n",
            "[CV]  neuron1=16, neuron2=30, neuron3=2, score=(train=0.954, test=1.000), total=   5.3s\n",
            "[CV] neuron1=16, neuron2=30, neuron3=2 ...............................\n",
            "[CV]  neuron1=16, neuron2=30, neuron3=2, score=(train=0.973, test=0.942), total=   5.4s\n",
            "[CV] neuron1=16, neuron2=30, neuron3=2 ...............................\n",
            "[CV]  neuron1=16, neuron2=30, neuron3=2, score=(train=0.983, test=0.961), total=   5.4s\n",
            "[CV] neuron1=16, neuron2=30, neuron3=2 ...............................\n",
            "[CV]  neuron1=16, neuron2=30, neuron3=2, score=(train=0.964, test=0.922), total=   5.3s\n",
            "[CV] neuron1=16, neuron2=30, neuron3=2 ...............................\n",
            "[CV]  neuron1=16, neuron2=30, neuron3=2, score=(train=0.981, test=0.971), total=   5.2s\n",
            "[CV] neuron1=16, neuron2=30, neuron3=8 ...............................\n",
            "[CV]  neuron1=16, neuron2=30, neuron3=8, score=(train=0.973, test=1.000), total=   5.3s\n",
            "[CV] neuron1=16, neuron2=30, neuron3=8 ...............................\n",
            "[CV]  neuron1=16, neuron2=30, neuron3=8, score=(train=0.932, test=0.865), total=   5.3s\n",
            "[CV] neuron1=16, neuron2=30, neuron3=8 ...............................\n",
            "[CV]  neuron1=16, neuron2=30, neuron3=8, score=(train=0.952, test=0.942), total=   5.4s\n",
            "[CV] neuron1=16, neuron2=30, neuron3=8 ...............................\n",
            "[CV]  neuron1=16, neuron2=30, neuron3=8, score=(train=0.940, test=0.913), total=   5.3s\n",
            "[CV] neuron1=16, neuron2=30, neuron3=8 ...............................\n",
            "[CV]  neuron1=16, neuron2=30, neuron3=8, score=(train=0.957, test=0.922), total=   5.3s\n",
            "[CV] neuron1=16, neuron2=30, neuron3=16 ..............................\n",
            "[CV]  neuron1=16, neuron2=30, neuron3=16, score=(train=0.983, test=1.000), total=   5.4s\n",
            "[CV] neuron1=16, neuron2=30, neuron3=16 ..............................\n",
            "[CV]  neuron1=16, neuron2=30, neuron3=16, score=(train=0.969, test=0.894), total=   6.1s\n",
            "[CV] neuron1=16, neuron2=30, neuron3=16 ..............................\n",
            "[CV]  neuron1=16, neuron2=30, neuron3=16, score=(train=0.971, test=0.981), total=   5.4s\n",
            "[CV] neuron1=16, neuron2=30, neuron3=16 ..............................\n",
            "[CV]  neuron1=16, neuron2=30, neuron3=16, score=(train=0.928, test=0.883), total=   5.5s\n",
            "[CV] neuron1=16, neuron2=30, neuron3=16 ..............................\n",
            "[CV]  neuron1=16, neuron2=30, neuron3=16, score=(train=0.983, test=0.961), total=   5.3s\n",
            "[CV] neuron1=16, neuron2=30, neuron3=25 ..............................\n",
            "[CV]  neuron1=16, neuron2=30, neuron3=25, score=(train=0.949, test=1.000), total=   5.5s\n",
            "[CV] neuron1=16, neuron2=30, neuron3=25 ..............................\n",
            "[CV]  neuron1=16, neuron2=30, neuron3=25, score=(train=0.872, test=0.817), total=   5.4s\n",
            "[CV] neuron1=16, neuron2=30, neuron3=25 ..............................\n",
            "[CV]  neuron1=16, neuron2=30, neuron3=25, score=(train=0.952, test=0.971), total=   5.5s\n",
            "[CV] neuron1=16, neuron2=30, neuron3=25 ..............................\n",
            "[CV]  neuron1=16, neuron2=30, neuron3=25, score=(train=0.903, test=0.835), total=   5.4s\n",
            "[CV] neuron1=16, neuron2=30, neuron3=25 ..............................\n",
            "[CV]  neuron1=16, neuron2=30, neuron3=25, score=(train=0.971, test=0.942), total=   5.4s\n",
            "[CV] neuron1=16, neuron2=30, neuron3=30 ..............................\n",
            "[CV]  neuron1=16, neuron2=30, neuron3=30, score=(train=0.966, test=1.000), total=   5.6s\n",
            "[CV] neuron1=16, neuron2=30, neuron3=30 ..............................\n",
            "[CV]  neuron1=16, neuron2=30, neuron3=30, score=(train=0.981, test=0.962), total=   5.5s\n",
            "[CV] neuron1=16, neuron2=30, neuron3=30 ..............................\n",
            "[CV]  neuron1=16, neuron2=30, neuron3=30, score=(train=0.964, test=0.961), total=   5.4s\n",
            "[CV] neuron1=16, neuron2=30, neuron3=30 ..............................\n",
            "[CV]  neuron1=16, neuron2=30, neuron3=30, score=(train=0.964, test=0.942), total=   6.1s\n",
            "[CV] neuron1=16, neuron2=30, neuron3=30 ..............................\n",
            "[CV]  neuron1=16, neuron2=30, neuron3=30, score=(train=0.976, test=0.942), total=   5.5s\n",
            "[CV] neuron1=25, neuron2=2, neuron3=2 ................................\n",
            "[CV]  neuron1=25, neuron2=2, neuron3=2, score=(train=0.881, test=0.990), total=   5.0s\n",
            "[CV] neuron1=25, neuron2=2, neuron3=2 ................................\n",
            "[CV]  neuron1=25, neuron2=2, neuron3=2, score=(train=0.944, test=0.875), total=   5.0s\n",
            "[CV] neuron1=25, neuron2=2, neuron3=2 ................................\n",
            "[CV]  neuron1=25, neuron2=2, neuron3=2, score=(train=0.973, test=0.971), total=   5.2s\n",
            "[CV] neuron1=25, neuron2=2, neuron3=2 ................................\n",
            "[CV]  neuron1=25, neuron2=2, neuron3=2, score=(train=0.988, test=0.961), total=   5.0s\n",
            "[CV] neuron1=25, neuron2=2, neuron3=2 ................................\n",
            "[CV]  neuron1=25, neuron2=2, neuron3=2, score=(train=0.973, test=0.951), total=   5.0s\n",
            "[CV] neuron1=25, neuron2=2, neuron3=8 ................................\n",
            "[CV]  neuron1=25, neuron2=2, neuron3=8, score=(train=0.908, test=1.000), total=   5.1s\n",
            "[CV] neuron1=25, neuron2=2, neuron3=8 ................................\n",
            "[CV]  neuron1=25, neuron2=2, neuron3=8, score=(train=0.978, test=0.952), total=   5.2s\n",
            "[CV] neuron1=25, neuron2=2, neuron3=8 ................................\n",
            "[CV]  neuron1=25, neuron2=2, neuron3=8, score=(train=0.978, test=0.961), total=   5.1s\n",
            "[CV] neuron1=25, neuron2=2, neuron3=8 ................................\n",
            "[CV]  neuron1=25, neuron2=2, neuron3=8, score=(train=0.957, test=0.913), total=   5.1s\n",
            "[CV] neuron1=25, neuron2=2, neuron3=8 ................................\n",
            "[CV]  neuron1=25, neuron2=2, neuron3=8, score=(train=0.986, test=0.981), total=   5.1s\n",
            "[CV] neuron1=25, neuron2=2, neuron3=16 ...............................\n",
            "[CV]  neuron1=25, neuron2=2, neuron3=16, score=(train=0.954, test=1.000), total=   5.1s\n",
            "[CV] neuron1=25, neuron2=2, neuron3=16 ...............................\n",
            "[CV]  neuron1=25, neuron2=2, neuron3=16, score=(train=0.891, test=0.788), total=   5.2s\n",
            "[CV] neuron1=25, neuron2=2, neuron3=16 ...............................\n",
            "[CV]  neuron1=25, neuron2=2, neuron3=16, score=(train=0.978, test=0.971), total=   5.1s\n",
            "[CV] neuron1=25, neuron2=2, neuron3=16 ...............................\n",
            "[CV]  neuron1=25, neuron2=2, neuron3=16, score=(train=0.937, test=0.893), total=   5.2s\n",
            "[CV] neuron1=25, neuron2=2, neuron3=16 ...............................\n",
            "[CV]  neuron1=25, neuron2=2, neuron3=16, score=(train=0.966, test=0.893), total=   5.0s\n",
            "[CV] neuron1=25, neuron2=2, neuron3=25 ...............................\n",
            "[CV]  neuron1=25, neuron2=2, neuron3=25, score=(train=0.927, test=1.000), total=   5.1s\n",
            "[CV] neuron1=25, neuron2=2, neuron3=25 ...............................\n",
            "[CV]  neuron1=25, neuron2=2, neuron3=25, score=(train=0.976, test=0.923), total=   5.1s\n",
            "[CV] neuron1=25, neuron2=2, neuron3=25 ...............................\n",
            "[CV]  neuron1=25, neuron2=2, neuron3=25, score=(train=0.940, test=0.932), total=   5.1s\n",
            "[CV] neuron1=25, neuron2=2, neuron3=25 ...............................\n",
            "[CV]  neuron1=25, neuron2=2, neuron3=25, score=(train=0.973, test=0.922), total=   5.2s\n",
            "[CV] neuron1=25, neuron2=2, neuron3=25 ...............................\n",
            "[CV]  neuron1=25, neuron2=2, neuron3=25, score=(train=0.949, test=0.932), total=   5.2s\n",
            "[CV] neuron1=25, neuron2=2, neuron3=30 ...............................\n",
            "[CV]  neuron1=25, neuron2=2, neuron3=30, score=(train=0.964, test=1.000), total=   5.2s\n",
            "[CV] neuron1=25, neuron2=2, neuron3=30 ...............................\n",
            "[CV]  neuron1=25, neuron2=2, neuron3=30, score=(train=0.961, test=0.942), total=   5.3s\n",
            "[CV] neuron1=25, neuron2=2, neuron3=30 ...............................\n",
            "[CV]  neuron1=25, neuron2=2, neuron3=30, score=(train=0.988, test=0.981), total=   5.8s\n",
            "[CV] neuron1=25, neuron2=2, neuron3=30 ...............................\n",
            "[CV]  neuron1=25, neuron2=2, neuron3=30, score=(train=0.971, test=0.951), total=   5.2s\n",
            "[CV] neuron1=25, neuron2=2, neuron3=30 ...............................\n",
            "[CV]  neuron1=25, neuron2=2, neuron3=30, score=(train=0.901, test=0.913), total=   5.1s\n",
            "[CV] neuron1=25, neuron2=8, neuron3=2 ................................\n",
            "[CV]  neuron1=25, neuron2=8, neuron3=2, score=(train=0.949, test=1.000), total=   5.1s\n",
            "[CV] neuron1=25, neuron2=8, neuron3=2 ................................\n",
            "[CV]  neuron1=25, neuron2=8, neuron3=2, score=(train=0.908, test=0.788), total=   5.2s\n",
            "[CV] neuron1=25, neuron2=8, neuron3=2 ................................\n",
            "[CV]  neuron1=25, neuron2=8, neuron3=2, score=(train=0.969, test=0.990), total=   5.1s\n",
            "[CV] neuron1=25, neuron2=8, neuron3=2 ................................\n",
            "[CV]  neuron1=25, neuron2=8, neuron3=2, score=(train=0.988, test=0.932), total=   5.1s\n",
            "[CV] neuron1=25, neuron2=8, neuron3=2 ................................\n",
            "[CV]  neuron1=25, neuron2=8, neuron3=2, score=(train=0.983, test=0.942), total=   5.1s\n",
            "[CV] neuron1=25, neuron2=8, neuron3=8 ................................\n",
            "[CV]  neuron1=25, neuron2=8, neuron3=8, score=(train=0.939, test=0.981), total=   5.0s\n",
            "[CV] neuron1=25, neuron2=8, neuron3=8 ................................\n",
            "[CV]  neuron1=25, neuron2=8, neuron3=8, score=(train=0.954, test=0.904), total=   5.2s\n",
            "[CV] neuron1=25, neuron2=8, neuron3=8 ................................\n",
            "[CV]  neuron1=25, neuron2=8, neuron3=8, score=(train=0.973, test=0.990), total=   5.1s\n",
            "[CV] neuron1=25, neuron2=8, neuron3=8 ................................\n",
            "[CV]  neuron1=25, neuron2=8, neuron3=8, score=(train=0.988, test=0.961), total=   5.3s\n",
            "[CV] neuron1=25, neuron2=8, neuron3=8 ................................\n",
            "[CV]  neuron1=25, neuron2=8, neuron3=8, score=(train=0.969, test=0.932), total=   5.6s\n",
            "[CV] neuron1=25, neuron2=8, neuron3=16 ...............................\n",
            "[CV]  neuron1=25, neuron2=8, neuron3=16, score=(train=0.973, test=1.000), total=   5.1s\n",
            "[CV] neuron1=25, neuron2=8, neuron3=16 ...............................\n",
            "[CV]  neuron1=25, neuron2=8, neuron3=16, score=(train=0.964, test=0.942), total=   5.1s\n",
            "[CV] neuron1=25, neuron2=8, neuron3=16 ...............................\n",
            "[CV]  neuron1=25, neuron2=8, neuron3=16, score=(train=0.961, test=0.971), total=   5.0s\n",
            "[CV] neuron1=25, neuron2=8, neuron3=16 ...............................\n",
            "[CV]  neuron1=25, neuron2=8, neuron3=16, score=(train=0.901, test=0.883), total=   5.1s\n",
            "[CV] neuron1=25, neuron2=8, neuron3=16 ...............................\n",
            "[CV]  neuron1=25, neuron2=8, neuron3=16, score=(train=0.978, test=0.951), total=   5.1s\n",
            "[CV] neuron1=25, neuron2=8, neuron3=25 ...............................\n",
            "[CV]  neuron1=25, neuron2=8, neuron3=25, score=(train=0.952, test=0.990), total=   5.1s\n",
            "[CV] neuron1=25, neuron2=8, neuron3=25 ...............................\n",
            "[CV]  neuron1=25, neuron2=8, neuron3=25, score=(train=0.937, test=0.817), total=   5.0s\n",
            "[CV] neuron1=25, neuron2=8, neuron3=25 ...............................\n",
            "[CV]  neuron1=25, neuron2=8, neuron3=25, score=(train=0.952, test=0.981), total=   5.1s\n",
            "[CV] neuron1=25, neuron2=8, neuron3=25 ...............................\n",
            "[CV]  neuron1=25, neuron2=8, neuron3=25, score=(train=0.978, test=0.961), total=   5.2s\n",
            "[CV] neuron1=25, neuron2=8, neuron3=25 ...............................\n",
            "[CV]  neuron1=25, neuron2=8, neuron3=25, score=(train=0.973, test=0.942), total=   5.2s\n",
            "[CV] neuron1=25, neuron2=8, neuron3=30 ...............................\n",
            "[CV]  neuron1=25, neuron2=8, neuron3=30, score=(train=0.954, test=0.990), total=   5.3s\n",
            "[CV] neuron1=25, neuron2=8, neuron3=30 ...............................\n",
            "[CV]  neuron1=25, neuron2=8, neuron3=30, score=(train=0.952, test=0.894), total=   5.2s\n",
            "[CV] neuron1=25, neuron2=8, neuron3=30 ...............................\n",
            "[CV]  neuron1=25, neuron2=8, neuron3=30, score=(train=0.966, test=0.951), total=   5.6s\n",
            "[CV] neuron1=25, neuron2=8, neuron3=30 ...............................\n",
            "[CV]  neuron1=25, neuron2=8, neuron3=30, score=(train=0.976, test=0.932), total=   5.2s\n",
            "[CV] neuron1=25, neuron2=8, neuron3=30 ...............................\n",
            "[CV]  neuron1=25, neuron2=8, neuron3=30, score=(train=0.973, test=0.932), total=   5.1s\n",
            "[CV] neuron1=25, neuron2=16, neuron3=2 ...............................\n",
            "[CV]  neuron1=25, neuron2=16, neuron3=2, score=(train=0.978, test=0.990), total=   5.1s\n",
            "[CV] neuron1=25, neuron2=16, neuron3=2 ...............................\n",
            "[CV]  neuron1=25, neuron2=16, neuron3=2, score=(train=0.947, test=0.856), total=   5.1s\n",
            "[CV] neuron1=25, neuron2=16, neuron3=2 ...............................\n",
            "[CV]  neuron1=25, neuron2=16, neuron3=2, score=(train=0.976, test=0.971), total=   5.1s\n",
            "[CV] neuron1=25, neuron2=16, neuron3=2 ...............................\n",
            "[CV]  neuron1=25, neuron2=16, neuron3=2, score=(train=0.918, test=0.893), total=   5.1s\n",
            "[CV] neuron1=25, neuron2=16, neuron3=2 ...............................\n",
            "[CV]  neuron1=25, neuron2=16, neuron3=2, score=(train=0.969, test=0.942), total=   5.2s\n",
            "[CV] neuron1=25, neuron2=16, neuron3=8 ...............................\n",
            "[CV]  neuron1=25, neuron2=16, neuron3=8, score=(train=0.966, test=0.990), total=   5.2s\n",
            "[CV] neuron1=25, neuron2=16, neuron3=8 ...............................\n",
            "[CV]  neuron1=25, neuron2=16, neuron3=8, score=(train=0.983, test=0.933), total=   5.2s\n",
            "[CV] neuron1=25, neuron2=16, neuron3=8 ...............................\n",
            "[CV]  neuron1=25, neuron2=16, neuron3=8, score=(train=0.959, test=0.961), total=   5.2s\n",
            "[CV] neuron1=25, neuron2=16, neuron3=8 ...............................\n",
            "[CV]  neuron1=25, neuron2=16, neuron3=8, score=(train=0.995, test=0.951), total=   5.2s\n",
            "[CV] neuron1=25, neuron2=16, neuron3=8 ...............................\n",
            "[CV]  neuron1=25, neuron2=16, neuron3=8, score=(train=0.937, test=0.874), total=   5.7s\n",
            "[CV] neuron1=25, neuron2=16, neuron3=16 ..............................\n",
            "[CV]  neuron1=25, neuron2=16, neuron3=16, score=(train=0.971, test=1.000), total=   5.1s\n",
            "[CV] neuron1=25, neuron2=16, neuron3=16 ..............................\n",
            "[CV]  neuron1=25, neuron2=16, neuron3=16, score=(train=0.969, test=0.913), total=   5.2s\n",
            "[CV] neuron1=25, neuron2=16, neuron3=16 ..............................\n",
            "[CV]  neuron1=25, neuron2=16, neuron3=16, score=(train=0.976, test=0.961), total=   5.1s\n",
            "[CV] neuron1=25, neuron2=16, neuron3=16 ..............................\n",
            "[CV]  neuron1=25, neuron2=16, neuron3=16, score=(train=0.990, test=0.951), total=   5.2s\n",
            "[CV] neuron1=25, neuron2=16, neuron3=16 ..............................\n",
            "[CV]  neuron1=25, neuron2=16, neuron3=16, score=(train=0.983, test=0.951), total=   5.1s\n",
            "[CV] neuron1=25, neuron2=16, neuron3=25 ..............................\n",
            "[CV]  neuron1=25, neuron2=16, neuron3=25, score=(train=0.944, test=1.000), total=   5.2s\n",
            "[CV] neuron1=25, neuron2=16, neuron3=25 ..............................\n",
            "[CV]  neuron1=25, neuron2=16, neuron3=25, score=(train=0.973, test=0.923), total=   5.1s\n",
            "[CV] neuron1=25, neuron2=16, neuron3=25 ..............................\n",
            "[CV]  neuron1=25, neuron2=16, neuron3=25, score=(train=0.918, test=0.913), total=   5.1s\n",
            "[CV] neuron1=25, neuron2=16, neuron3=25 ..............................\n",
            "[CV]  neuron1=25, neuron2=16, neuron3=25, score=(train=0.983, test=0.942), total=   5.1s\n",
            "[CV] neuron1=25, neuron2=16, neuron3=25 ..............................\n",
            "[CV]  neuron1=25, neuron2=16, neuron3=25, score=(train=0.973, test=0.942), total=   5.1s\n",
            "[CV] neuron1=25, neuron2=16, neuron3=30 ..............................\n",
            "[CV]  neuron1=25, neuron2=16, neuron3=30, score=(train=0.867, test=1.000), total=   5.4s\n",
            "[CV] neuron1=25, neuron2=16, neuron3=30 ..............................\n",
            "[CV]  neuron1=25, neuron2=16, neuron3=30, score=(train=0.961, test=0.952), total=   5.9s\n",
            "[CV] neuron1=25, neuron2=16, neuron3=30 ..............................\n",
            "[CV]  neuron1=25, neuron2=16, neuron3=30, score=(train=0.976, test=0.981), total=   5.3s\n",
            "[CV] neuron1=25, neuron2=16, neuron3=30 ..............................\n",
            "[CV]  neuron1=25, neuron2=16, neuron3=30, score=(train=0.990, test=0.932), total=   5.3s\n",
            "[CV] neuron1=25, neuron2=16, neuron3=30 ..............................\n",
            "[CV]  neuron1=25, neuron2=16, neuron3=30, score=(train=0.981, test=0.961), total=   5.4s\n",
            "[CV] neuron1=25, neuron2=25, neuron3=2 ...............................\n",
            "[CV]  neuron1=25, neuron2=25, neuron3=2, score=(train=0.939, test=1.000), total=   5.3s\n",
            "[CV] neuron1=25, neuron2=25, neuron3=2 ...............................\n",
            "[CV]  neuron1=25, neuron2=25, neuron3=2, score=(train=0.971, test=0.952), total=   5.3s\n",
            "[CV] neuron1=25, neuron2=25, neuron3=2 ...............................\n",
            "[CV]  neuron1=25, neuron2=25, neuron3=2, score=(train=0.935, test=0.922), total=   5.4s\n",
            "[CV] neuron1=25, neuron2=25, neuron3=2 ...............................\n",
            "[CV]  neuron1=25, neuron2=25, neuron3=2, score=(train=0.988, test=0.951), total=   5.5s\n",
            "[CV] neuron1=25, neuron2=25, neuron3=2 ...............................\n",
            "[CV]  neuron1=25, neuron2=25, neuron3=2, score=(train=0.978, test=0.942), total=   5.5s\n",
            "[CV] neuron1=25, neuron2=25, neuron3=8 ...............................\n",
            "[CV]  neuron1=25, neuron2=25, neuron3=8, score=(train=0.971, test=1.000), total=   5.4s\n",
            "[CV] neuron1=25, neuron2=25, neuron3=8 ...............................\n",
            "[CV]  neuron1=25, neuron2=25, neuron3=8, score=(train=0.949, test=0.885), total=   5.4s\n",
            "[CV] neuron1=25, neuron2=25, neuron3=8 ...............................\n",
            "[CV]  neuron1=25, neuron2=25, neuron3=8, score=(train=0.920, test=0.922), total=   5.4s\n",
            "[CV] neuron1=25, neuron2=25, neuron3=8 ...............................\n",
            "[CV]  neuron1=25, neuron2=25, neuron3=8, score=(train=0.954, test=0.922), total=   5.4s\n",
            "[CV] neuron1=25, neuron2=25, neuron3=8 ...............................\n",
            "[CV]  neuron1=25, neuron2=25, neuron3=8, score=(train=0.966, test=0.932), total=   5.4s\n",
            "[CV] neuron1=25, neuron2=25, neuron3=16 ..............................\n",
            "[CV]  neuron1=25, neuron2=25, neuron3=16, score=(train=0.971, test=0.990), total=   5.4s\n",
            "[CV] neuron1=25, neuron2=25, neuron3=16 ..............................\n",
            "[CV]  neuron1=25, neuron2=25, neuron3=16, score=(train=0.913, test=0.808), total=   5.3s\n",
            "[CV] neuron1=25, neuron2=25, neuron3=16 ..............................\n",
            "[CV]  neuron1=25, neuron2=25, neuron3=16, score=(train=0.964, test=0.971), total=   5.4s\n",
            "[CV] neuron1=25, neuron2=25, neuron3=16 ..............................\n",
            "[CV]  neuron1=25, neuron2=25, neuron3=16, score=(train=0.988, test=0.961), total=   5.4s\n",
            "[CV] neuron1=25, neuron2=25, neuron3=16 ..............................\n",
            "[CV]  neuron1=25, neuron2=25, neuron3=16, score=(train=0.981, test=0.932), total=   5.4s\n",
            "[CV] neuron1=25, neuron2=25, neuron3=25 ..............................\n",
            "[CV]  neuron1=25, neuron2=25, neuron3=25, score=(train=0.964, test=1.000), total=   5.7s\n",
            "[CV] neuron1=25, neuron2=25, neuron3=25 ..............................\n",
            "[CV]  neuron1=25, neuron2=25, neuron3=25, score=(train=0.988, test=0.952), total=   5.7s\n",
            "[CV] neuron1=25, neuron2=25, neuron3=25 ..............................\n",
            "[CV]  neuron1=25, neuron2=25, neuron3=25, score=(train=0.966, test=0.961), total=   5.7s\n",
            "[CV] neuron1=25, neuron2=25, neuron3=25 ..............................\n",
            "[CV]  neuron1=25, neuron2=25, neuron3=25, score=(train=0.998, test=0.942), total=   5.5s\n",
            "[CV] neuron1=25, neuron2=25, neuron3=25 ..............................\n",
            "[CV]  neuron1=25, neuron2=25, neuron3=25, score=(train=0.976, test=0.951), total=   6.0s\n",
            "[CV] neuron1=25, neuron2=25, neuron3=30 ..............................\n",
            "[CV]  neuron1=25, neuron2=25, neuron3=30, score=(train=0.969, test=0.990), total=   5.5s\n",
            "[CV] neuron1=25, neuron2=25, neuron3=30 ..............................\n",
            "[CV]  neuron1=25, neuron2=25, neuron3=30, score=(train=0.961, test=0.933), total=   5.6s\n",
            "[CV] neuron1=25, neuron2=25, neuron3=30 ..............................\n",
            "[CV]  neuron1=25, neuron2=25, neuron3=30, score=(train=0.978, test=0.990), total=   5.7s\n",
            "[CV] neuron1=25, neuron2=25, neuron3=30 ..............................\n",
            "[CV]  neuron1=25, neuron2=25, neuron3=30, score=(train=0.966, test=0.932), total=   5.6s\n",
            "[CV] neuron1=25, neuron2=25, neuron3=30 ..............................\n",
            "[CV]  neuron1=25, neuron2=25, neuron3=30, score=(train=0.986, test=0.961), total=   5.9s\n",
            "[CV] neuron1=25, neuron2=30, neuron3=2 ...............................\n",
            "[CV]  neuron1=25, neuron2=30, neuron3=2, score=(train=0.973, test=1.000), total=   5.5s\n",
            "[CV] neuron1=25, neuron2=30, neuron3=2 ...............................\n",
            "[CV]  neuron1=25, neuron2=30, neuron3=2, score=(train=0.981, test=0.923), total=   5.5s\n",
            "[CV] neuron1=25, neuron2=30, neuron3=2 ...............................\n",
            "[CV]  neuron1=25, neuron2=30, neuron3=2, score=(train=0.952, test=0.961), total=   5.4s\n",
            "[CV] neuron1=25, neuron2=30, neuron3=2 ...............................\n",
            "[CV]  neuron1=25, neuron2=30, neuron3=2, score=(train=0.944, test=0.913), total=   5.4s\n",
            "[CV] neuron1=25, neuron2=30, neuron3=2 ...............................\n",
            "[CV]  neuron1=25, neuron2=30, neuron3=2, score=(train=0.983, test=0.961), total=   5.4s\n",
            "[CV] neuron1=25, neuron2=30, neuron3=8 ...............................\n",
            "[CV]  neuron1=25, neuron2=30, neuron3=8, score=(train=0.964, test=1.000), total=   5.3s\n",
            "[CV] neuron1=25, neuron2=30, neuron3=8 ...............................\n",
            "[CV]  neuron1=25, neuron2=30, neuron3=8, score=(train=0.985, test=0.952), total=   5.4s\n",
            "[CV] neuron1=25, neuron2=30, neuron3=8 ...............................\n",
            "[CV]  neuron1=25, neuron2=30, neuron3=8, score=(train=0.957, test=0.942), total=   5.9s\n",
            "[CV] neuron1=25, neuron2=30, neuron3=8 ...............................\n",
            "[CV]  neuron1=25, neuron2=30, neuron3=8, score=(train=0.957, test=0.932), total=   5.4s\n",
            "[CV] neuron1=25, neuron2=30, neuron3=8 ...............................\n",
            "[CV]  neuron1=25, neuron2=30, neuron3=8, score=(train=0.988, test=0.951), total=   5.4s\n",
            "[CV] neuron1=25, neuron2=30, neuron3=16 ..............................\n",
            "[CV]  neuron1=25, neuron2=30, neuron3=16, score=(train=0.937, test=1.000), total=   5.6s\n",
            "[CV] neuron1=25, neuron2=30, neuron3=16 ..............................\n",
            "[CV]  neuron1=25, neuron2=30, neuron3=16, score=(train=0.949, test=0.904), total=   5.7s\n",
            "[CV] neuron1=25, neuron2=30, neuron3=16 ..............................\n",
            "[CV]  neuron1=25, neuron2=30, neuron3=16, score=(train=0.973, test=0.971), total=   5.6s\n",
            "[CV] neuron1=25, neuron2=30, neuron3=16 ..............................\n",
            "[CV]  neuron1=25, neuron2=30, neuron3=16, score=(train=0.986, test=0.951), total=   5.5s\n",
            "[CV] neuron1=25, neuron2=30, neuron3=16 ..............................\n",
            "[CV]  neuron1=25, neuron2=30, neuron3=16, score=(train=0.978, test=0.951), total=   5.5s\n",
            "[CV] neuron1=25, neuron2=30, neuron3=25 ..............................\n",
            "[CV]  neuron1=25, neuron2=30, neuron3=25, score=(train=0.978, test=0.990), total=   5.4s\n",
            "[CV] neuron1=25, neuron2=30, neuron3=25 ..............................\n",
            "[CV]  neuron1=25, neuron2=30, neuron3=25, score=(train=0.981, test=0.913), total=   5.6s\n",
            "[CV] neuron1=25, neuron2=30, neuron3=25 ..............................\n",
            "[CV]  neuron1=25, neuron2=30, neuron3=25, score=(train=0.978, test=0.981), total=   5.5s\n",
            "[CV] neuron1=25, neuron2=30, neuron3=25 ..............................\n",
            "[CV]  neuron1=25, neuron2=30, neuron3=25, score=(train=0.976, test=0.922), total=   5.4s\n",
            "[CV] neuron1=25, neuron2=30, neuron3=25 ..............................\n",
            "[CV]  neuron1=25, neuron2=30, neuron3=25, score=(train=0.973, test=0.942), total=   5.9s\n",
            "[CV] neuron1=25, neuron2=30, neuron3=30 ..............................\n",
            "[CV]  neuron1=25, neuron2=30, neuron3=30, score=(train=0.988, test=1.000), total=   5.5s\n",
            "[CV] neuron1=25, neuron2=30, neuron3=30 ..............................\n",
            "[CV]  neuron1=25, neuron2=30, neuron3=30, score=(train=0.978, test=0.933), total=   5.5s\n",
            "[CV] neuron1=25, neuron2=30, neuron3=30 ..............................\n",
            "[CV]  neuron1=25, neuron2=30, neuron3=30, score=(train=0.940, test=0.903), total=   5.7s\n",
            "[CV] neuron1=25, neuron2=30, neuron3=30 ..............................\n",
            "[CV]  neuron1=25, neuron2=30, neuron3=30, score=(train=0.971, test=0.932), total=   5.5s\n",
            "[CV] neuron1=25, neuron2=30, neuron3=30 ..............................\n",
            "[CV]  neuron1=25, neuron2=30, neuron3=30, score=(train=0.973, test=0.942), total=   5.4s\n",
            "[CV] neuron1=30, neuron2=2, neuron3=2 ................................\n",
            "[CV]  neuron1=30, neuron2=2, neuron3=2, score=(train=0.981, test=1.000), total=   5.1s\n",
            "[CV] neuron1=30, neuron2=2, neuron3=2 ................................\n",
            "[CV]  neuron1=30, neuron2=2, neuron3=2, score=(train=0.918, test=0.846), total=   5.0s\n",
            "[CV] neuron1=30, neuron2=2, neuron3=2 ................................\n",
            "[CV]  neuron1=30, neuron2=2, neuron3=2, score=(train=0.911, test=0.903), total=   5.1s\n",
            "[CV] neuron1=30, neuron2=2, neuron3=2 ................................\n",
            "[CV]  neuron1=30, neuron2=2, neuron3=2, score=(train=0.986, test=0.922), total=   5.1s\n",
            "[CV] neuron1=30, neuron2=2, neuron3=2 ................................\n",
            "[CV]  neuron1=30, neuron2=2, neuron3=2, score=(train=0.969, test=0.913), total=   5.0s\n",
            "[CV] neuron1=30, neuron2=2, neuron3=8 ................................\n",
            "[CV]  neuron1=30, neuron2=2, neuron3=8, score=(train=0.973, test=1.000), total=   5.1s\n",
            "[CV] neuron1=30, neuron2=2, neuron3=8 ................................\n",
            "[CV]  neuron1=30, neuron2=2, neuron3=8, score=(train=0.981, test=0.933), total=   5.1s\n",
            "[CV] neuron1=30, neuron2=2, neuron3=8 ................................\n",
            "[CV]  neuron1=30, neuron2=2, neuron3=8, score=(train=0.954, test=0.932), total=   5.7s\n",
            "[CV] neuron1=30, neuron2=2, neuron3=8 ................................\n",
            "[CV]  neuron1=30, neuron2=2, neuron3=8, score=(train=0.976, test=0.922), total=   5.1s\n",
            "[CV] neuron1=30, neuron2=2, neuron3=8 ................................\n",
            "[CV]  neuron1=30, neuron2=2, neuron3=8, score=(train=0.988, test=0.951), total=   5.1s\n",
            "[CV] neuron1=30, neuron2=2, neuron3=16 ...............................\n",
            "[CV]  neuron1=30, neuron2=2, neuron3=16, score=(train=0.973, test=1.000), total=   5.1s\n",
            "[CV] neuron1=30, neuron2=2, neuron3=16 ...............................\n",
            "[CV]  neuron1=30, neuron2=2, neuron3=16, score=(train=0.985, test=0.942), total=   5.0s\n",
            "[CV] neuron1=30, neuron2=2, neuron3=16 ...............................\n",
            "[CV]  neuron1=30, neuron2=2, neuron3=16, score=(train=0.978, test=0.961), total=   5.1s\n",
            "[CV] neuron1=30, neuron2=2, neuron3=16 ...............................\n",
            "[CV]  neuron1=30, neuron2=2, neuron3=16, score=(train=0.855, test=0.777), total=   5.2s\n",
            "[CV] neuron1=30, neuron2=2, neuron3=16 ...............................\n",
            "[CV]  neuron1=30, neuron2=2, neuron3=16, score=(train=0.988, test=0.951), total=   5.1s\n",
            "[CV] neuron1=30, neuron2=2, neuron3=25 ...............................\n",
            "[CV]  neuron1=30, neuron2=2, neuron3=25, score=(train=0.988, test=1.000), total=   5.2s\n",
            "[CV] neuron1=30, neuron2=2, neuron3=25 ...............................\n",
            "[CV]  neuron1=30, neuron2=2, neuron3=25, score=(train=0.944, test=0.904), total=   5.2s\n",
            "[CV] neuron1=30, neuron2=2, neuron3=25 ...............................\n",
            "[CV]  neuron1=30, neuron2=2, neuron3=25, score=(train=0.957, test=0.932), total=   5.2s\n",
            "[CV] neuron1=30, neuron2=2, neuron3=25 ...............................\n",
            "[CV]  neuron1=30, neuron2=2, neuron3=25, score=(train=0.957, test=0.903), total=   5.2s\n",
            "[CV] neuron1=30, neuron2=2, neuron3=25 ...............................\n",
            "[CV]  neuron1=30, neuron2=2, neuron3=25, score=(train=0.983, test=0.951), total=   5.7s\n",
            "[CV] neuron1=30, neuron2=2, neuron3=30 ...............................\n",
            "[CV]  neuron1=30, neuron2=2, neuron3=30, score=(train=0.971, test=1.000), total=   5.1s\n",
            "[CV] neuron1=30, neuron2=2, neuron3=30 ...............................\n",
            "[CV]  neuron1=30, neuron2=2, neuron3=30, score=(train=0.985, test=0.971), total=   5.2s\n",
            "[CV] neuron1=30, neuron2=2, neuron3=30 ...............................\n",
            "[CV]  neuron1=30, neuron2=2, neuron3=30, score=(train=0.981, test=0.971), total=   5.1s\n",
            "[CV] neuron1=30, neuron2=2, neuron3=30 ...............................\n",
            "[CV]  neuron1=30, neuron2=2, neuron3=30, score=(train=0.978, test=0.922), total=   5.1s\n",
            "[CV] neuron1=30, neuron2=2, neuron3=30 ...............................\n",
            "[CV]  neuron1=30, neuron2=2, neuron3=30, score=(train=0.942, test=0.893), total=   5.1s\n",
            "[CV] neuron1=30, neuron2=8, neuron3=2 ................................\n",
            "[CV]  neuron1=30, neuron2=8, neuron3=2, score=(train=0.973, test=1.000), total=   5.1s\n",
            "[CV] neuron1=30, neuron2=8, neuron3=2 ................................\n",
            "[CV]  neuron1=30, neuron2=8, neuron3=2, score=(train=0.966, test=0.933), total=   5.1s\n",
            "[CV] neuron1=30, neuron2=8, neuron3=2 ................................\n",
            "[CV]  neuron1=30, neuron2=8, neuron3=2, score=(train=0.964, test=0.961), total=   5.1s\n",
            "[CV] neuron1=30, neuron2=8, neuron3=2 ................................\n",
            "[CV]  neuron1=30, neuron2=8, neuron3=2, score=(train=0.988, test=0.932), total=   5.1s\n",
            "[CV] neuron1=30, neuron2=8, neuron3=2 ................................\n",
            "[CV]  neuron1=30, neuron2=8, neuron3=2, score=(train=0.971, test=0.932), total=   5.2s\n",
            "[CV] neuron1=30, neuron2=8, neuron3=8 ................................\n",
            "[CV]  neuron1=30, neuron2=8, neuron3=8, score=(train=0.932, test=1.000), total=   5.2s\n",
            "[CV] neuron1=30, neuron2=8, neuron3=8 ................................\n",
            "[CV]  neuron1=30, neuron2=8, neuron3=8, score=(train=0.969, test=0.933), total=   5.4s\n",
            "[CV] neuron1=30, neuron2=8, neuron3=8 ................................\n",
            "[CV]  neuron1=30, neuron2=8, neuron3=8, score=(train=0.940, test=0.942), total=   5.2s\n",
            "[CV] neuron1=30, neuron2=8, neuron3=8 ................................\n",
            "[CV]  neuron1=30, neuron2=8, neuron3=8, score=(train=0.976, test=0.922), total=   5.1s\n",
            "[CV] neuron1=30, neuron2=8, neuron3=8 ................................\n",
            "[CV]  neuron1=30, neuron2=8, neuron3=8, score=(train=0.983, test=0.942), total=   5.2s\n",
            "[CV] neuron1=30, neuron2=8, neuron3=16 ...............................\n",
            "[CV]  neuron1=30, neuron2=8, neuron3=16, score=(train=0.978, test=1.000), total=   5.1s\n",
            "[CV] neuron1=30, neuron2=8, neuron3=16 ...............................\n",
            "[CV]  neuron1=30, neuron2=8, neuron3=16, score=(train=0.976, test=0.933), total=   5.1s\n",
            "[CV] neuron1=30, neuron2=8, neuron3=16 ...............................\n",
            "[CV]  neuron1=30, neuron2=8, neuron3=16, score=(train=0.971, test=0.981), total=   5.2s\n",
            "[CV] neuron1=30, neuron2=8, neuron3=16 ...............................\n",
            "[CV]  neuron1=30, neuron2=8, neuron3=16, score=(train=0.973, test=0.951), total=   5.2s\n",
            "[CV] neuron1=30, neuron2=8, neuron3=16 ...............................\n",
            "[CV]  neuron1=30, neuron2=8, neuron3=16, score=(train=0.952, test=0.893), total=   5.2s\n",
            "[CV] neuron1=30, neuron2=8, neuron3=25 ...............................\n",
            "[CV]  neuron1=30, neuron2=8, neuron3=25, score=(train=0.939, test=1.000), total=   5.1s\n",
            "[CV] neuron1=30, neuron2=8, neuron3=25 ...............................\n",
            "[CV]  neuron1=30, neuron2=8, neuron3=25, score=(train=0.961, test=0.865), total=   5.1s\n",
            "[CV] neuron1=30, neuron2=8, neuron3=25 ...............................\n",
            "[CV]  neuron1=30, neuron2=8, neuron3=25, score=(train=0.944, test=0.903), total=   5.1s\n",
            "[CV] neuron1=30, neuron2=8, neuron3=25 ...............................\n",
            "[CV]  neuron1=30, neuron2=8, neuron3=25, score=(train=0.973, test=0.913), total=   5.8s\n",
            "[CV] neuron1=30, neuron2=8, neuron3=25 ...............................\n",
            "[CV]  neuron1=30, neuron2=8, neuron3=25, score=(train=0.973, test=0.951), total=   5.2s\n",
            "[CV] neuron1=30, neuron2=8, neuron3=30 ...............................\n",
            "[CV]  neuron1=30, neuron2=8, neuron3=30, score=(train=0.969, test=0.990), total=   5.3s\n",
            "[CV] neuron1=30, neuron2=8, neuron3=30 ...............................\n",
            "[CV]  neuron1=30, neuron2=8, neuron3=30, score=(train=0.966, test=0.942), total=   5.1s\n",
            "[CV] neuron1=30, neuron2=8, neuron3=30 ...............................\n",
            "[CV]  neuron1=30, neuron2=8, neuron3=30, score=(train=0.973, test=0.951), total=   5.3s\n",
            "[CV] neuron1=30, neuron2=8, neuron3=30 ...............................\n",
            "[CV]  neuron1=30, neuron2=8, neuron3=30, score=(train=0.976, test=0.913), total=   5.2s\n",
            "[CV] neuron1=30, neuron2=8, neuron3=30 ...............................\n",
            "[CV]  neuron1=30, neuron2=8, neuron3=30, score=(train=0.937, test=0.913), total=   5.2s\n",
            "[CV] neuron1=30, neuron2=16, neuron3=2 ...............................\n",
            "[CV]  neuron1=30, neuron2=16, neuron3=2, score=(train=0.973, test=1.000), total=   5.4s\n",
            "[CV] neuron1=30, neuron2=16, neuron3=2 ...............................\n",
            "[CV]  neuron1=30, neuron2=16, neuron3=2, score=(train=0.973, test=0.942), total=   5.3s\n",
            "[CV] neuron1=30, neuron2=16, neuron3=2 ...............................\n",
            "[CV]  neuron1=30, neuron2=16, neuron3=2, score=(train=0.952, test=0.932), total=   5.4s\n",
            "[CV] neuron1=30, neuron2=16, neuron3=2 ...............................\n",
            "[CV]  neuron1=30, neuron2=16, neuron3=2, score=(train=0.935, test=0.913), total=   5.4s\n",
            "[CV] neuron1=30, neuron2=16, neuron3=2 ...............................\n",
            "[CV]  neuron1=30, neuron2=16, neuron3=2, score=(train=0.969, test=0.913), total=   5.5s\n",
            "[CV] neuron1=30, neuron2=16, neuron3=8 ...............................\n",
            "[CV]  neuron1=30, neuron2=16, neuron3=8, score=(train=0.891, test=1.000), total=   5.9s\n",
            "[CV] neuron1=30, neuron2=16, neuron3=8 ...............................\n",
            "[CV]  neuron1=30, neuron2=16, neuron3=8, score=(train=0.935, test=0.846), total=   5.4s\n",
            "[CV] neuron1=30, neuron2=16, neuron3=8 ...............................\n",
            "[CV]  neuron1=30, neuron2=16, neuron3=8, score=(train=0.969, test=0.961), total=   5.3s\n",
            "[CV] neuron1=30, neuron2=16, neuron3=8 ...............................\n",
            "[CV]  neuron1=30, neuron2=16, neuron3=8, score=(train=0.981, test=0.922), total=   5.4s\n",
            "[CV] neuron1=30, neuron2=16, neuron3=8 ...............................\n",
            "[CV]  neuron1=30, neuron2=16, neuron3=8, score=(train=0.981, test=0.961), total=   5.3s\n",
            "[CV] neuron1=30, neuron2=16, neuron3=16 ..............................\n",
            "[CV]  neuron1=30, neuron2=16, neuron3=16, score=(train=0.947, test=1.000), total=   5.5s\n",
            "[CV] neuron1=30, neuron2=16, neuron3=16 ..............................\n",
            "[CV]  neuron1=30, neuron2=16, neuron3=16, score=(train=0.983, test=0.933), total=   5.4s\n",
            "[CV] neuron1=30, neuron2=16, neuron3=16 ..............................\n",
            "[CV]  neuron1=30, neuron2=16, neuron3=16, score=(train=0.981, test=0.990), total=   5.4s\n",
            "[CV] neuron1=30, neuron2=16, neuron3=16 ..............................\n",
            "[CV]  neuron1=30, neuron2=16, neuron3=16, score=(train=0.940, test=0.883), total=   5.4s\n",
            "[CV] neuron1=30, neuron2=16, neuron3=16 ..............................\n",
            "[CV]  neuron1=30, neuron2=16, neuron3=16, score=(train=0.983, test=0.961), total=   5.4s\n",
            "[CV] neuron1=30, neuron2=16, neuron3=25 ..............................\n",
            "[CV]  neuron1=30, neuron2=16, neuron3=25, score=(train=0.971, test=1.000), total=   5.4s\n",
            "[CV] neuron1=30, neuron2=16, neuron3=25 ..............................\n",
            "[CV]  neuron1=30, neuron2=16, neuron3=25, score=(train=0.935, test=0.856), total=   5.3s\n",
            "[CV] neuron1=30, neuron2=16, neuron3=25 ..............................\n",
            "[CV]  neuron1=30, neuron2=16, neuron3=25, score=(train=0.942, test=0.932), total=   5.3s\n",
            "[CV] neuron1=30, neuron2=16, neuron3=25 ..............................\n",
            "[CV]  neuron1=30, neuron2=16, neuron3=25, score=(train=0.973, test=0.932), total=   5.9s\n",
            "[CV] neuron1=30, neuron2=16, neuron3=25 ..............................\n",
            "[CV]  neuron1=30, neuron2=16, neuron3=25, score=(train=0.969, test=0.913), total=   5.4s\n",
            "[CV] neuron1=30, neuron2=16, neuron3=30 ..............................\n",
            "[CV]  neuron1=30, neuron2=16, neuron3=30, score=(train=0.952, test=0.990), total=   5.5s\n",
            "[CV] neuron1=30, neuron2=16, neuron3=30 ..............................\n",
            "[CV]  neuron1=30, neuron2=16, neuron3=30, score=(train=0.983, test=0.962), total=   5.5s\n",
            "[CV] neuron1=30, neuron2=16, neuron3=30 ..............................\n",
            "[CV]  neuron1=30, neuron2=16, neuron3=30, score=(train=0.973, test=0.961), total=   5.4s\n",
            "[CV] neuron1=30, neuron2=16, neuron3=30 ..............................\n",
            "[CV]  neuron1=30, neuron2=16, neuron3=30, score=(train=0.976, test=0.951), total=   5.5s\n",
            "[CV] neuron1=30, neuron2=16, neuron3=30 ..............................\n",
            "[CV]  neuron1=30, neuron2=16, neuron3=30, score=(train=0.886, test=0.835), total=   5.4s\n",
            "[CV] neuron1=30, neuron2=25, neuron3=2 ...............................\n",
            "[CV]  neuron1=30, neuron2=25, neuron3=2, score=(train=0.969, test=1.000), total=   5.4s\n",
            "[CV] neuron1=30, neuron2=25, neuron3=2 ...............................\n",
            "[CV]  neuron1=30, neuron2=25, neuron3=2, score=(train=0.985, test=0.962), total=   5.4s\n",
            "[CV] neuron1=30, neuron2=25, neuron3=2 ...............................\n",
            "[CV]  neuron1=30, neuron2=25, neuron3=2, score=(train=0.971, test=0.971), total=   5.4s\n",
            "[CV] neuron1=30, neuron2=25, neuron3=2 ...............................\n",
            "[CV]  neuron1=30, neuron2=25, neuron3=2, score=(train=0.990, test=0.951), total=   5.4s\n",
            "[CV] neuron1=30, neuron2=25, neuron3=2 ...............................\n",
            "[CV]  neuron1=30, neuron2=25, neuron3=2, score=(train=0.957, test=0.951), total=   5.4s\n",
            "[CV] neuron1=30, neuron2=25, neuron3=8 ...............................\n",
            "[CV]  neuron1=30, neuron2=25, neuron3=8, score=(train=0.978, test=0.990), total=   5.9s\n",
            "[CV] neuron1=30, neuron2=25, neuron3=8 ...............................\n",
            "[CV]  neuron1=30, neuron2=25, neuron3=8, score=(train=0.939, test=0.865), total=   5.4s\n",
            "[CV] neuron1=30, neuron2=25, neuron3=8 ...............................\n",
            "[CV]  neuron1=30, neuron2=25, neuron3=8, score=(train=0.971, test=0.971), total=   5.4s\n",
            "[CV] neuron1=30, neuron2=25, neuron3=8 ...............................\n",
            "[CV]  neuron1=30, neuron2=25, neuron3=8, score=(train=0.966, test=0.903), total=   5.4s\n",
            "[CV] neuron1=30, neuron2=25, neuron3=8 ...............................\n",
            "[CV]  neuron1=30, neuron2=25, neuron3=8, score=(train=0.954, test=0.922), total=   5.4s\n",
            "[CV] neuron1=30, neuron2=25, neuron3=16 ..............................\n",
            "[CV]  neuron1=30, neuron2=25, neuron3=16, score=(train=0.956, test=0.990), total=   5.5s\n",
            "[CV] neuron1=30, neuron2=25, neuron3=16 ..............................\n",
            "[CV]  neuron1=30, neuron2=25, neuron3=16, score=(train=0.966, test=0.942), total=   5.5s\n",
            "[CV] neuron1=30, neuron2=25, neuron3=16 ..............................\n",
            "[CV]  neuron1=30, neuron2=25, neuron3=16, score=(train=0.983, test=0.971), total=   5.5s\n",
            "[CV] neuron1=30, neuron2=25, neuron3=16 ..............................\n",
            "[CV]  neuron1=30, neuron2=25, neuron3=16, score=(train=0.886, test=0.854), total=   5.4s\n",
            "[CV] neuron1=30, neuron2=25, neuron3=16 ..............................\n",
            "[CV]  neuron1=30, neuron2=25, neuron3=16, score=(train=0.986, test=0.961), total=   5.4s\n",
            "[CV] neuron1=30, neuron2=25, neuron3=25 ..............................\n",
            "[CV]  neuron1=30, neuron2=25, neuron3=25, score=(train=0.969, test=1.000), total=   5.5s\n",
            "[CV] neuron1=30, neuron2=25, neuron3=25 ..............................\n",
            "[CV]  neuron1=30, neuron2=25, neuron3=25, score=(train=0.976, test=0.971), total=   5.5s\n",
            "[CV] neuron1=30, neuron2=25, neuron3=25 ..............................\n",
            "[CV]  neuron1=30, neuron2=25, neuron3=25, score=(train=0.966, test=0.922), total=   6.0s\n",
            "[CV] neuron1=30, neuron2=25, neuron3=25 ..............................\n",
            "[CV]  neuron1=30, neuron2=25, neuron3=25, score=(train=0.944, test=0.903), total=   5.6s\n",
            "[CV] neuron1=30, neuron2=25, neuron3=25 ..............................\n",
            "[CV]  neuron1=30, neuron2=25, neuron3=25, score=(train=0.925, test=0.874), total=   5.5s\n",
            "[CV] neuron1=30, neuron2=25, neuron3=30 ..............................\n",
            "[CV]  neuron1=30, neuron2=25, neuron3=30, score=(train=0.964, test=1.000), total=   5.5s\n",
            "[CV] neuron1=30, neuron2=25, neuron3=30 ..............................\n",
            "[CV]  neuron1=30, neuron2=25, neuron3=30, score=(train=0.978, test=0.952), total=   5.6s\n",
            "[CV] neuron1=30, neuron2=25, neuron3=30 ..............................\n",
            "[CV]  neuron1=30, neuron2=25, neuron3=30, score=(train=0.969, test=0.971), total=   5.7s\n",
            "[CV] neuron1=30, neuron2=25, neuron3=30 ..............................\n",
            "[CV]  neuron1=30, neuron2=25, neuron3=30, score=(train=0.976, test=0.913), total=   5.5s\n",
            "[CV] neuron1=30, neuron2=25, neuron3=30 ..............................\n",
            "[CV]  neuron1=30, neuron2=25, neuron3=30, score=(train=0.959, test=0.922), total=   5.7s\n",
            "[CV] neuron1=30, neuron2=30, neuron3=2 ...............................\n",
            "[CV]  neuron1=30, neuron2=30, neuron3=2, score=(train=0.983, test=1.000), total=   5.4s\n",
            "[CV] neuron1=30, neuron2=30, neuron3=2 ...............................\n",
            "[CV]  neuron1=30, neuron2=30, neuron3=2, score=(train=0.966, test=0.942), total=   5.4s\n",
            "[CV] neuron1=30, neuron2=30, neuron3=2 ...............................\n",
            "[CV]  neuron1=30, neuron2=30, neuron3=2, score=(train=0.971, test=0.961), total=   5.3s\n",
            "[CV] neuron1=30, neuron2=30, neuron3=2 ...............................\n",
            "[CV]  neuron1=30, neuron2=30, neuron3=2, score=(train=0.969, test=0.922), total=   5.9s\n",
            "[CV] neuron1=30, neuron2=30, neuron3=2 ...............................\n",
            "[CV]  neuron1=30, neuron2=30, neuron3=2, score=(train=0.969, test=0.942), total=   5.3s\n",
            "[CV] neuron1=30, neuron2=30, neuron3=8 ...............................\n",
            "[CV]  neuron1=30, neuron2=30, neuron3=8, score=(train=0.959, test=1.000), total=   5.3s\n",
            "[CV] neuron1=30, neuron2=30, neuron3=8 ...............................\n",
            "[CV]  neuron1=30, neuron2=30, neuron3=8, score=(train=0.978, test=0.942), total=   5.4s\n",
            "[CV] neuron1=30, neuron2=30, neuron3=8 ...............................\n",
            "[CV]  neuron1=30, neuron2=30, neuron3=8, score=(train=0.983, test=0.981), total=   5.4s\n",
            "[CV] neuron1=30, neuron2=30, neuron3=8 ...............................\n",
            "[CV]  neuron1=30, neuron2=30, neuron3=8, score=(train=0.988, test=0.932), total=   5.5s\n",
            "[CV] neuron1=30, neuron2=30, neuron3=8 ...............................\n",
            "[CV]  neuron1=30, neuron2=30, neuron3=8, score=(train=0.978, test=0.932), total=   5.4s\n",
            "[CV] neuron1=30, neuron2=30, neuron3=16 ..............................\n",
            "[CV]  neuron1=30, neuron2=30, neuron3=16, score=(train=0.973, test=1.000), total=   5.6s\n",
            "[CV] neuron1=30, neuron2=30, neuron3=16 ..............................\n",
            "[CV]  neuron1=30, neuron2=30, neuron3=16, score=(train=0.964, test=0.913), total=   5.5s\n",
            "[CV] neuron1=30, neuron2=30, neuron3=16 ..............................\n",
            "[CV]  neuron1=30, neuron2=30, neuron3=16, score=(train=0.947, test=0.961), total=   5.5s\n",
            "[CV] neuron1=30, neuron2=30, neuron3=16 ..............................\n",
            "[CV]  neuron1=30, neuron2=30, neuron3=16, score=(train=0.983, test=0.942), total=   5.4s\n",
            "[CV] neuron1=30, neuron2=30, neuron3=16 ..............................\n",
            "[CV]  neuron1=30, neuron2=30, neuron3=16, score=(train=0.969, test=0.913), total=   5.5s\n",
            "[CV] neuron1=30, neuron2=30, neuron3=25 ..............................\n",
            "[CV]  neuron1=30, neuron2=30, neuron3=25, score=(train=0.969, test=1.000), total=   5.5s\n",
            "[CV] neuron1=30, neuron2=30, neuron3=25 ..............................\n",
            "[CV]  neuron1=30, neuron2=30, neuron3=25, score=(train=0.959, test=0.904), total=   6.0s\n",
            "[CV] neuron1=30, neuron2=30, neuron3=25 ..............................\n",
            "[CV]  neuron1=30, neuron2=30, neuron3=25, score=(train=0.942, test=0.922), total=   5.5s\n",
            "[CV] neuron1=30, neuron2=30, neuron3=25 ..............................\n",
            "[CV]  neuron1=30, neuron2=30, neuron3=25, score=(train=0.973, test=0.951), total=   5.5s\n",
            "[CV] neuron1=30, neuron2=30, neuron3=25 ..............................\n",
            "[CV]  neuron1=30, neuron2=30, neuron3=25, score=(train=0.954, test=0.893), total=   5.7s\n",
            "[CV] neuron1=30, neuron2=30, neuron3=30 ..............................\n",
            "[CV]  neuron1=30, neuron2=30, neuron3=30, score=(train=0.930, test=1.000), total=   5.6s\n",
            "[CV] neuron1=30, neuron2=30, neuron3=30 ..............................\n",
            "[CV]  neuron1=30, neuron2=30, neuron3=30, score=(train=0.961, test=0.942), total=   5.5s\n",
            "[CV] neuron1=30, neuron2=30, neuron3=30 ..............................\n",
            "[CV]  neuron1=30, neuron2=30, neuron3=30, score=(train=0.978, test=0.990), total=   5.4s\n",
            "[CV] neuron1=30, neuron2=30, neuron3=30 ..............................\n",
            "[CV]  neuron1=30, neuron2=30, neuron3=30, score=(train=0.978, test=0.942), total=   5.5s\n",
            "[CV] neuron1=30, neuron2=30, neuron3=30 ..............................\n",
            "[CV]  neuron1=30, neuron2=30, neuron3=30, score=(train=0.925, test=0.883), total=   5.6s\n"
          ],
          "name": "stdout"
        },
        {
          "output_type": "stream",
          "text": [
            "[Parallel(n_jobs=1)]: Done 625 out of 625 | elapsed: 54.2min finished\n"
          ],
          "name": "stderr"
        }
      ]
    },
    {
      "cell_type": "code",
      "metadata": {
        "colab": {
          "base_uri": "https://localhost:8080/"
        },
        "id": "I1MK4yivBxq5",
        "outputId": "3c3930ac-d861-4154-c677-641745301b66"
      },
      "source": [
        "# summerize results\n",
        "print('Best:{}, using {}'.format(grid_results.best_score_, grid_results.best_params_))\n",
        "means= grid_results.cv_results_['mean_test_score']\n",
        "stds= grid_results.cv_results_['std_test_score']\n",
        "params= grid_results.cv_results_['params']\n",
        "for mean, stdev, param in zip(means, stds, params):\n",
        "  print('{},{} with: {}'.format(mean, stdev, param))"
      ],
      "execution_count": 117,
      "outputs": [
        {
          "output_type": "stream",
          "text": [
            "Best:0.9689880609512329, using {'neuron1': 16, 'neuron2': 16, 'neuron3': 8}\n",
            "0.9515869975090027,0.036257797457946946 with: {'neuron1': 2, 'neuron2': 2, 'neuron3': 2}\n",
            "0.9497012615203857,0.033033778691128474 with: {'neuron1': 2, 'neuron2': 2, 'neuron3': 8}\n",
            "0.945817768573761,0.03316959224470333 with: {'neuron1': 2, 'neuron2': 2, 'neuron3': 16}\n",
            "0.9535100817680359,0.024043273118757157 with: {'neuron1': 2, 'neuron2': 2, 'neuron3': 25}\n",
            "0.9303771376609802,0.053629981954428474 with: {'neuron1': 2, 'neuron2': 2, 'neuron3': 30}\n",
            "0.9554331541061402,0.029179037345624003 with: {'neuron1': 2, 'neuron2': 8, 'neuron3': 2}\n",
            "0.9419342875480652,0.03118384491114921 with: {'neuron1': 2, 'neuron2': 8, 'neuron3': 8}\n",
            "0.9419902920722961,0.04170522010610567 with: {'neuron1': 2, 'neuron2': 8, 'neuron3': 16}\n",
            "0.9612584114074707,0.022099139387091585 with: {'neuron1': 2, 'neuron2': 8, 'neuron3': 25}\n",
            "0.9573188900947571,0.036142760617861786 with: {'neuron1': 2, 'neuron2': 8, 'neuron3': 30}\n",
            "0.9536221027374268,0.039112877462840506 with: {'neuron1': 2, 'neuron2': 16, 'neuron3': 2}\n",
            "0.9496265888214112,0.028439069943003832 with: {'neuron1': 2, 'neuron2': 16, 'neuron3': 8}\n",
            "0.9477595329284668,0.02556451648418414 with: {'neuron1': 2, 'neuron2': 16, 'neuron3': 16}\n",
            "0.967102313041687,0.019850820634666512 with: {'neuron1': 2, 'neuron2': 16, 'neuron3': 25}\n",
            "0.9477408528327942,0.023337005256976216 with: {'neuron1': 2, 'neuron2': 16, 'neuron3': 30}\n",
            "0.9554518342018128,0.03336223252513252 with: {'neuron1': 2, 'neuron2': 25, 'neuron3': 2}\n",
            "0.9573562264442443,0.03341610762107339 with: {'neuron1': 2, 'neuron2': 25, 'neuron3': 8}\n",
            "0.9554144859313964,0.02720087682515784 with: {'neuron1': 2, 'neuron2': 25, 'neuron3': 16}\n",
            "0.9284914135932922,0.05597582653729248 with: {'neuron1': 2, 'neuron2': 25, 'neuron3': 25}\n",
            "0.9612397193908692,0.023781923955493365 with: {'neuron1': 2, 'neuron2': 25, 'neuron3': 30}\n",
            "0.9283420443534851,0.05400490840630707 with: {'neuron1': 2, 'neuron2': 30, 'neuron3': 2}\n",
            "0.9534914135932923,0.027779789357355103 with: {'neuron1': 2, 'neuron2': 30, 'neuron3': 8}\n",
            "0.9573748946189881,0.026462028051521366 with: {'neuron1': 2, 'neuron2': 30, 'neuron3': 16}\n",
            "0.9554704904556275,0.029728586807058317 with: {'neuron1': 2, 'neuron2': 30, 'neuron3': 25}\n",
            "0.951568329334259,0.03681323029797797 with: {'neuron1': 2, 'neuron2': 30, 'neuron3': 30}\n",
            "0.9515309810638428,0.0416635166955183 with: {'neuron1': 8, 'neuron2': 2, 'neuron3': 2}\n",
            "0.9456683993339539,0.05013672747482785 with: {'neuron1': 8, 'neuron2': 2, 'neuron3': 8}\n",
            "0.9574122548103332,0.024886823739184473 with: {'neuron1': 8, 'neuron2': 2, 'neuron3': 16}\n",
            "0.9129014134407043,0.04993839188718709 with: {'neuron1': 8, 'neuron2': 2, 'neuron3': 25}\n",
            "0.9380134463310241,0.048145662652037784 with: {'neuron1': 8, 'neuron2': 2, 'neuron3': 30}\n",
            "0.9534727215766907,0.03550339707116939 with: {'neuron1': 8, 'neuron2': 8, 'neuron3': 2}\n",
            "0.9496452569961548,0.02625358925971844 with: {'neuron1': 8, 'neuron2': 8, 'neuron3': 8}\n",
            "0.9360716938972473,0.03500249043304665 with: {'neuron1': 8, 'neuron2': 8, 'neuron3': 16}\n",
            "0.9496825933456421,0.03539484596259947 with: {'neuron1': 8, 'neuron2': 8, 'neuron3': 25}\n",
            "0.9497012615203857,0.033033778691128474 with: {'neuron1': 8, 'neuron2': 8, 'neuron3': 30}\n",
            "0.9554144740104675,0.04147513583699858 with: {'neuron1': 8, 'neuron2': 16, 'neuron3': 2}\n",
            "0.9496079087257385,0.02567743404781298 with: {'neuron1': 8, 'neuron2': 16, 'neuron3': 8}\n",
            "0.9593353271484375,0.03379839398721905 with: {'neuron1': 8, 'neuron2': 16, 'neuron3': 16}\n",
            "0.9593539834022522,0.023949989777032756 with: {'neuron1': 8, 'neuron2': 16, 'neuron3': 25}\n",
            "0.9459298014640808,0.048074068165768806 with: {'neuron1': 8, 'neuron2': 16, 'neuron3': 30}\n",
            "0.9554331541061402,0.036109032213011226 with: {'neuron1': 8, 'neuron2': 25, 'neuron3': 2}\n",
            "0.9515496611595153,0.033067295514883334 with: {'neuron1': 8, 'neuron2': 25, 'neuron3': 8}\n",
            "0.9496265888214112,0.03438329799993575 with: {'neuron1': 8, 'neuron2': 25, 'neuron3': 16}\n",
            "0.9244958877563476,0.056250631701926825 with: {'neuron1': 8, 'neuron2': 25, 'neuron3': 25}\n",
            "0.947647488117218,0.03767912561308838 with: {'neuron1': 8, 'neuron2': 25, 'neuron3': 30}\n",
            "0.9554891705513,0.025569823954345747 with: {'neuron1': 8, 'neuron2': 30, 'neuron3': 2}\n",
            "0.9341112852096558,0.047761935146667815 with: {'neuron1': 8, 'neuron2': 30, 'neuron3': 8}\n",
            "0.9515496611595153,0.03834689297459374 with: {'neuron1': 8, 'neuron2': 30, 'neuron3': 16}\n",
            "0.9303024530410766,0.039318617238602846 with: {'neuron1': 8, 'neuron2': 30, 'neuron3': 25}\n",
            "0.9535100936889649,0.028360213244869974 with: {'neuron1': 8, 'neuron2': 30, 'neuron3': 30}\n",
            "0.9476848483085633,0.027911510489936935 with: {'neuron1': 16, 'neuron2': 2, 'neuron3': 2}\n",
            "0.9265309810638428,0.05248977658034438 with: {'neuron1': 16, 'neuron2': 2, 'neuron3': 8}\n",
            "0.961295735836029,0.025167852108054178 with: {'neuron1': 16, 'neuron2': 2, 'neuron3': 16}\n",
            "0.9322255373001098,0.04059842552060303 with: {'neuron1': 16, 'neuron2': 2, 'neuron3': 25}\n",
            "0.941896939277649,0.04019394533547883 with: {'neuron1': 16, 'neuron2': 2, 'neuron3': 30}\n",
            "0.963181471824646,0.026334069764351015 with: {'neuron1': 16, 'neuron2': 8, 'neuron3': 2}\n",
            "0.9555078387260437,0.030837876629327937 with: {'neuron1': 16, 'neuron2': 8, 'neuron3': 8}\n",
            "0.9438760280609131,0.0368419991233207 with: {'neuron1': 16, 'neuron2': 8, 'neuron3': 16}\n",
            "0.9263816237449646,0.04186339359184358 with: {'neuron1': 16, 'neuron2': 8, 'neuron3': 25}\n",
            "0.9574122428894043,0.025633136757282758 with: {'neuron1': 16, 'neuron2': 8, 'neuron3': 30}\n",
            "0.9361650466918945,0.04064066608411624 with: {'neuron1': 16, 'neuron2': 16, 'neuron3': 2}\n",
            "0.9689880609512329,0.016710426300499584 with: {'neuron1': 16, 'neuron2': 16, 'neuron3': 8}\n",
            "0.9573935747146607,0.021717233903375224 with: {'neuron1': 16, 'neuron2': 16, 'neuron3': 16}\n",
            "0.945817768573761,0.03316959224470333 with: {'neuron1': 16, 'neuron2': 16, 'neuron3': 25}\n",
            "0.9477408647537231,0.024900270887678662 with: {'neuron1': 16, 'neuron2': 16, 'neuron3': 30}\n",
            "0.9496452450752259,0.02696210604633905 with: {'neuron1': 16, 'neuron2': 25, 'neuron3': 2}\n",
            "0.9593166470527649,0.017837711160851918 with: {'neuron1': 16, 'neuron2': 25, 'neuron3': 8}\n",
            "0.9457804322242737,0.03095718219341236 with: {'neuron1': 16, 'neuron2': 25, 'neuron3': 16}\n",
            "0.9477408528327942,0.03749707869161704 with: {'neuron1': 16, 'neuron2': 25, 'neuron3': 25}\n",
            "0.9593166589736939,0.028380387784058325 with: {'neuron1': 16, 'neuron2': 25, 'neuron3': 30}\n",
            "0.9593353271484375,0.026265670544882776 with: {'neuron1': 16, 'neuron2': 30, 'neuron3': 2}\n",
            "0.9284167289733887,0.04372976147672611 with: {'neuron1': 16, 'neuron2': 30, 'neuron3': 8}\n",
            "0.9438947081565857,0.046704769981770096 with: {'neuron1': 16, 'neuron2': 30, 'neuron3': 16}\n",
            "0.9129760980606079,0.07347568434466843 with: {'neuron1': 16, 'neuron2': 30, 'neuron3': 25}\n",
            "0.9612397193908692,0.021271313017790186 with: {'neuron1': 16, 'neuron2': 30, 'neuron3': 30}\n",
            "0.9497759580612183,0.03954279219999381 with: {'neuron1': 25, 'neuron2': 2, 'neuron3': 2}\n",
            "0.9612584114074707,0.029417853928973572 with: {'neuron1': 25, 'neuron2': 2, 'neuron3': 8}\n",
            "0.9091486096382141,0.07367198093278295 with: {'neuron1': 25, 'neuron2': 2, 'neuron3': 16}\n",
            "0.941896939277649,0.02935092682282475 with: {'neuron1': 25, 'neuron2': 2, 'neuron3': 25}\n",
            "0.9573935866355896,0.030398747709849037 with: {'neuron1': 25, 'neuron2': 2, 'neuron3': 30}\n",
            "0.9305078387260437,0.07577471067659297 with: {'neuron1': 25, 'neuron2': 8, 'neuron3': 2}\n",
            "0.9536221027374268,0.03188093699938289 with: {'neuron1': 25, 'neuron2': 8, 'neuron3': 8}\n",
            "0.9496265888214112,0.038520654670692024 with: {'neuron1': 25, 'neuron2': 8, 'neuron3': 16}\n",
            "0.9382375001907348,0.06272867591989963 with: {'neuron1': 25, 'neuron2': 8, 'neuron3': 25}\n",
            "0.9400298833847046,0.03127758162450359 with: {'neuron1': 25, 'neuron2': 8, 'neuron3': 30}\n",
            "0.9303958058357239,0.049635384280185914 with: {'neuron1': 25, 'neuron2': 16, 'neuron3': 2}\n",
            "0.941896939277649,0.03882646495231207 with: {'neuron1': 25, 'neuron2': 16, 'neuron3': 8}\n",
            "0.9555078506469726,0.027612589649101252 with: {'neuron1': 25, 'neuron2': 16, 'neuron3': 16}\n",
            "0.9438386797904968,0.030227172522477048 with: {'neuron1': 25, 'neuron2': 16, 'neuron3': 25}\n",
            "0.9651419043540954,0.023408824282022497 with: {'neuron1': 25, 'neuron2': 16, 'neuron3': 30}\n",
            "0.9534914016723632,0.02560701856414229 with: {'neuron1': 25, 'neuron2': 25, 'neuron3': 2}\n",
            "0.9322628736495971,0.03756587438833131 with: {'neuron1': 25, 'neuron2': 25, 'neuron3': 8}\n",
            "0.9324309229850769,0.06514908675770856 with: {'neuron1': 25, 'neuron2': 25, 'neuron3': 16}\n",
            "0.9612583994865418,0.02032153065145161 with: {'neuron1': 25, 'neuron2': 25, 'neuron3': 25}\n",
            "0.9613144159317016,0.02592698055671845 with: {'neuron1': 25, 'neuron2': 25, 'neuron3': 30}\n",
            "0.9516056895256042,0.031171908973777775 with: {'neuron1': 25, 'neuron2': 30, 'neuron3': 2}\n",
            "0.9554331541061402,0.02344751311093856 with: {'neuron1': 25, 'neuron2': 30, 'neuron3': 8}\n",
            "0.9555265069007873,0.03136055815855594 with: {'neuron1': 25, 'neuron2': 30, 'neuron3': 16}\n",
            "0.9497012734413147,0.03077189897895943 with: {'neuron1': 25, 'neuron2': 30, 'neuron3': 25}\n",
            "0.9418782591819763,0.031867448198428926 with: {'neuron1': 25, 'neuron2': 30, 'neuron3': 30}\n",
            "0.9168035864830018,0.0493031840405616 with: {'neuron1': 30, 'neuron2': 2, 'neuron3': 2}\n",
            "0.947703504562378,0.02779761052815812 with: {'neuron1': 30, 'neuron2': 2, 'neuron3': 8}\n",
            "0.9263256192207336,0.07735218646078439 with: {'neuron1': 30, 'neuron2': 2, 'neuron3': 16}\n",
            "0.9380507826805115,0.03593940740715371 with: {'neuron1': 30, 'neuron2': 2, 'neuron3': 25}\n",
            "0.9515123128890991,0.03837496860097864 with: {'neuron1': 30, 'neuron2': 2, 'neuron3': 30}\n",
            "0.9515870094299317,0.02667144139112292 with: {'neuron1': 30, 'neuron2': 8, 'neuron3': 2}\n",
            "0.9477034926414489,0.027110947962208407 with: {'neuron1': 30, 'neuron2': 8, 'neuron3': 8}\n",
            "0.9515869975090027,0.03728318247290785 with: {'neuron1': 30, 'neuron2': 8, 'neuron3': 16}\n",
            "0.9264749884605408,0.04584568116430174 with: {'neuron1': 30, 'neuron2': 8, 'neuron3': 25}\n",
            "0.9418782830238343,0.02883304478753011 with: {'neuron1': 30, 'neuron2': 8, 'neuron3': 30}\n",
            "0.9399178624153137,0.032149182238633965 with: {'neuron1': 30, 'neuron2': 16, 'neuron3': 2}\n",
            "0.9381628155708313,0.052150492001438585 with: {'neuron1': 30, 'neuron2': 16, 'neuron3': 8}\n",
            "0.9535287499427796,0.042209557972118096 with: {'neuron1': 30, 'neuron2': 16, 'neuron3': 16}\n",
            "0.9264936566352844,0.04617156519289008 with: {'neuron1': 30, 'neuron2': 16, 'neuron3': 25}\n",
            "0.9398991823196411,0.05406823094793153 with: {'neuron1': 30, 'neuron2': 16, 'neuron3': 30}\n",
            "0.9670649647712708,0.01798347251263229 with: {'neuron1': 30, 'neuron2': 25, 'neuron3': 2}\n",
            "0.9303771495819092,0.045351863492452946 with: {'neuron1': 30, 'neuron2': 25, 'neuron3': 8}\n",
            "0.9438200235366822,0.0473387905894614 with: {'neuron1': 30, 'neuron2': 25, 'neuron3': 16}\n",
            "0.9340365886688232,0.045748647016063446 with: {'neuron1': 30, 'neuron2': 25, 'neuron3': 25}\n",
            "0.9515496611595153,0.03190671111007815 with: {'neuron1': 30, 'neuron2': 25, 'neuron3': 30}\n",
            "0.9535100817680359,0.026290508291217436 with: {'neuron1': 30, 'neuron2': 30, 'neuron3': 2}\n",
            "0.9573935866355896,0.027807709140851743 with: {'neuron1': 30, 'neuron2': 30, 'neuron3': 8}\n",
            "0.9457991123199463,0.0326703014495234 with: {'neuron1': 30, 'neuron2': 30, 'neuron3': 16}\n",
            "0.9341672778129577,0.03839361995081884 with: {'neuron1': 30, 'neuron2': 30, 'neuron3': 25}\n",
            "0.951568329334259,0.04162031878465719 with: {'neuron1': 30, 'neuron2': 30, 'neuron3': 30}\n"
          ],
          "name": "stdout"
        }
      ]
    },
    {
      "cell_type": "code",
      "metadata": {
        "colab": {
          "base_uri": "https://localhost:8080/"
        },
        "id": "3RN0LTpcB1zT",
        "outputId": "ede2f286-aa6f-4883-a206-eedd909613fa"
      },
      "source": [
        "# modeling with optimum hyperparameters:\n",
        "# Create sequential model:\n",
        "def base_model_optimized():\n",
        "  model= Sequential()\n",
        "  model.add(Dense(16, input_dim=28, kernel_initializer='normal', activation='linear'))\n",
        "  model.add(Dropout(0.1))\n",
        "  model.add(Dense(16, kernel_initializer='normal', activation='linear'))\n",
        "  model.add(Dropout(0.1))\n",
        "  model.add(Dense(8, kernel_initializer='normal', activation='linear'))\n",
        "  model.add(Dropout(0.1))\n",
        "  # output layer\n",
        "  model.add(Dense(1, kernel_initializer='normal', activation='sigmoid'))\n",
        "  # optimizer \n",
        "  adam= Adam(learning_rate=0.01)\n",
        "  # Compile model\n",
        "  model.compile(loss= \"binary_crossentropy\", optimizer= adam, metrics= ['accuracy'])\n",
        "  return model\n",
        "\n",
        "# Define clasification model\n",
        "classifier= KerasClassifier(build_fn=base_model_optimized, verbose= 0, batch_size=10, epochs=100)\n",
        " \n",
        "from sklearn.model_selection import train_test_split\n",
        "from sklearn.metrics import  confusion_matrix\n",
        "x_train, x_test, y_train, y_test= train_test_split(x,y, test_size=0.25, random_state=0)\n",
        "\n",
        "history= classifier.fit(x_train,y_train, validation_split=0.25)\n",
        "\n",
        "# predicting for validation set\n",
        "y_predict= classifier.predict(x_test)\n",
        "\n",
        "#printing the metrics\n",
        "print(accuracy_score(y_test, y_predict))\n",
        "\n"
      ],
      "execution_count": 137,
      "outputs": [
        {
          "output_type": "stream",
          "text": [
            "0.9615384615384616\n"
          ],
          "name": "stdout"
        },
        {
          "output_type": "stream",
          "text": [
            "/usr/local/lib/python3.7/dist-packages/tensorflow/python/keras/engine/sequential.py:450: UserWarning: `model.predict_classes()` is deprecated and will be removed after 2021-01-01. Please use instead:* `np.argmax(model.predict(x), axis=-1)`,   if your model does multi-class classification   (e.g. if it uses a `softmax` last-layer activation).* `(model.predict(x) > 0.5).astype(\"int32\")`,   if your model does binary classification   (e.g. if it uses a `sigmoid` last-layer activation).\n",
            "  warnings.warn('`model.predict_classes()` is deprecated and '\n"
          ],
          "name": "stderr"
        }
      ]
    },
    {
      "cell_type": "code",
      "metadata": {
        "colab": {
          "base_uri": "https://localhost:8080/"
        },
        "id": "ajBAHR11KY9j",
        "outputId": "d2b05649-77fa-4bb0-ffa9-8743d7354cec"
      },
      "source": [
        "# Constructing the confusion matrix.\n",
        "from sklearn.metrics import confusion_matrix, precision_score, f1_score,recall_score\n",
        "print('confusion matrix \\n',confusion_matrix(y_test, y_predict))\n",
        "print('precision_score:',precision_score(y_test, y_predict))\n",
        "print('recall_score:   ',recall_score(y_test, y_predict))\n",
        "print('f1_score:       ',f1_score(y_test, y_predict))"
      ],
      "execution_count": 145,
      "outputs": [
        {
          "output_type": "stream",
          "text": [
            "confusion matrix \n",
            " [[33  4]\n",
            " [ 1 92]]\n",
            "precision_score: 0.9583333333333334\n",
            "recall_score:    0.989247311827957\n",
            "f1_score:        0.9735449735449735\n"
          ],
          "name": "stdout"
        }
      ]
    },
    {
      "cell_type": "code",
      "metadata": {
        "colab": {
          "base_uri": "https://localhost:8080/",
          "height": 294
        },
        "id": "zgJr_n8-E133",
        "outputId": "6627ef9b-a3e8-4cb7-f0ab-4846d83d5e9a"
      },
      "source": [
        "# summarize history for accuracy\n",
        "plt.plot(history.history['accuracy'])\n",
        "plt.plot(history.history['val_accuracy'])\n",
        "plt.title('model accuracy')\n",
        "plt.ylabel('accuracy')\n",
        "plt.xlabel('epoch')\n",
        "plt.legend(['train', 'test'], loc='upper left')\n",
        "plt.show()"
      ],
      "execution_count": 130,
      "outputs": [
        {
          "output_type": "display_data",
          "data": {
            "image/png": "[encoded data removed]",
            "text/plain": [
              "<Figure size 432x288 with 1 Axes>"
            ]
          },
          "metadata": {
            "tags": [],
            "needs_background": "light"
          }
        }
      ]
    },
    {
      "cell_type": "code",
      "metadata": {
        "colab": {
          "base_uri": "https://localhost:8080/",
          "height": 294
        },
        "id": "UoS2x8iVFByo",
        "outputId": "ac6b5408-0120-41e8-de9b-559efb1a434e"
      },
      "source": [
        "# summarize history for loss\n",
        "plt.plot(history.history['loss'])\n",
        "plt.plot(history.history['val_loss'])\n",
        "plt.title('model loss')\n",
        "plt.ylabel('loss')\n",
        "plt.xlabel('epoch')\n",
        "plt.legend(['train', 'test'], loc='upper left')\n",
        "plt.show()"
      ],
      "execution_count": 131,
      "outputs": [
        {
          "output_type": "display_data",
          "data": {
            "image/png": "[encoded data removed]",
            "text/plain": [
              "<Figure size 432x288 with 1 Axes>"
            ]
          },
          "metadata": {
            "tags": [],
            "needs_background": "light"
          }
        }
      ]
    }
  ]
}